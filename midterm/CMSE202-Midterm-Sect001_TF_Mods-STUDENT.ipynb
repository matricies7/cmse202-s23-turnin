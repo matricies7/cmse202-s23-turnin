{
 "cells": [
  {
   "cell_type": "markdown",
   "metadata": {
    "pycharm": {
     "name": "#%% md\n"
    }
   },
   "source": [
    "## <p style=\"text-align: right;\"> &#9989; Trevor Parcella </p>"
   ]
  },
  {
   "cell_type": "markdown",
   "metadata": {
    "pycharm": {
     "name": "#%% md\n"
    }
   },
   "source": [
    "# CMSE 202 Midterm (Section 001 - Spring 2023)\n",
    "\n",
    "The goal of this midterm is to give you the opportunity to test out some of the skills that you've developed thus far this semester. In particular, you'll practice setting up a GitHub repository, committing and pushing repository changes, downloading data with command line tools, performing some data analysis, possibly using a new Python package, and writing a python class. You should find that you have all of the skills necessary to complete this exam with even just eight weeks of CMSE 202 under your belt!\n",
    "\n",
    "You are encouraged to look through the entire exam before you get started so that you can appropriately budget your time and understand the broad goals of the exam. Once you've read through it, try doing Parts 1 and 2 first so that you have your repository set up and you download all necessary data files as they will be necessary to complete the assigned tasks. Let your instructor know right away if you have problems downloading the data!\n",
    "\n",
    "The exam is set up so that even if you get stuck on one part there are opportunities to get points on the other parts, so consider jumping ahead if you feel like you aren't making progress and then come back later if you have time.\n",
    "\n",
    "**Important note about using online resources**: This exam is \"open internet\". That means that you can look up documentation, google how to accomplish certain Python tasks, etc. Being able to effectively use the internet for computational modeling and data science is a very important skill, so we want to make sure you have the opportunity to exercise that skill. **However**: The use of any person-to-person communication software is absolutely not acceptable. If you are seen accessing your email, using a chat program (e.g. Slack), or any sort of collaborative cloud storage or document software (e.g. Google Documents), you will be at risk for receiving a zero on the exam.\n",
    "\n",
    "**Keep your eyes on your screen!** Unfortunately, there isn't enough space in the room for everyone to sit at their own table so please do your best to keep your eyes on your own screen. This exam is designed to give *you* the opportunity to show the instructor what you can do and you should hold yourself accountable for maintaining a high level of academic integrity. If any of the instructors observe suspicious behavior, you will, again, risk receiving a zero."
   ]
  },
  {
   "cell_type": "markdown",
   "metadata": {
    "pycharm": {
     "name": "#%% md\n"
    }
   },
   "source": [
    "---\n",
    "## Part 0: Academic integrity statement\n",
    "\n",
    "Read the following statement and edit the markdown text to put your name in the statement. This is your commitment to doing your own authentic work on this exam."
   ]
  },
  {
   "cell_type": "markdown",
   "metadata": {
    "pycharm": {
     "name": "#%% md\n"
    }
   },
   "source": [
    "> I, **Trevor Parcella**, affirm that this exam represents my own authetic work, without the use of any unpermitted aids or resources or person-to-person communication. I understand that this exam is an opportunity to showcase my own progress in developing and improving my computational skills and have done my best to demonstrate those skills."
   ]
  },
  {
   "cell_type": "markdown",
   "metadata": {
    "pycharm": {
     "name": "#%% md\n"
    }
   },
   "source": [
    "---\n",
    "## Part 1: Add to your Git repository to track your progress on your exam (7 points)\n",
    "\n",
    "Before you get to far along in the exam, you're going to add it to the `cmse202-s23-turnin` repository you created in class so that you can track your progress on the exam and preserve the final version that you turn in. In order to do this you need to\n",
    "\n",
    "**&#9989; Do the following**:\n",
    "\n",
    "1. Navigate to your `cmse202-s23-turnin` repository and create a new directory called `midterm`.\n",
    "2. Move this notebook into that **new directory** in your repository, then **add it and commit it to your repository**.\n",
    "1. Finally, to test that everything is working, \"git push\" the file so that it ends up in your GitHub repository.\n",
    "\n",
    "**Important**: Double check you've added your Professor and your TA as collaborators to your \"turnin\" respository (you should have done this in the previous homework assignment).\n",
    "\n",
    "**Also important**: Make sure that the version of this notebook that you are working on is the same one that you just added to your repository! If you are working on a different copy of the noteobok, **none of your changes will be tracked**!\n",
    "\n",
    "If everything went as intended, the file should now show up on your GitHub account in the \"`cmse202-s23-turnin`\" repository inside the `midterm` directory that you just created.  Periodically, **you'll be asked to commit your changes to the repository and push them to the remote GitHub location**. Of course, you can always commit your changes more often than that, if you wish.  It can be good to get into a habit of committing your changes any time you make a significant modification, or when you stop working on the project for a bit.\n"
   ]
  },
  {
   "cell_type": "markdown",
   "metadata": {},
   "source": [
    "&#9989; **Do this**:\n",
    "```\n",
    "(2 pt) Put the command you used to create the midterm directory here (Do Not Delete the ```)\n",
    "\n",
    "mkdir midterm\n",
    "```\n",
    "\n",
    "\n"
   ]
  },
  {
   "cell_type": "markdown",
   "metadata": {},
   "source": [
    "&#9989; **Do this**:\n",
    "``` \n",
    "(2 pt) Put the command you used to initiate git, add file, and commit actions here (Do Not Delete the ```)\n",
    "git add CMSE202-Midterm-Sect001_TF_Mods_STUDENT\n",
    "\n",
    "git commit -m \"commiting as it says to in the exam\"\n",
    "\n",
    "\n",
    "```\n",
    "\n"
   ]
  },
  {
   "cell_type": "markdown",
   "metadata": {},
   "source": [
    "&#9989; **Do this**:\n",
    "```\n",
    "(2 pt) Put the command you used to push to GitHub here (Do Not Delete the ```)\n",
    "\n",
    "git push\n",
    "```"
   ]
  },
  {
   "cell_type": "markdown",
   "metadata": {},
   "source": [
    "&#9989; **Do this**: \n",
    "```\n",
    "(1 pt) Put the command that your instructor can run to clone your repository here (Do Not Delete the ```)\n",
    "\n",
    "git clone https://github.com/matricies7/cmse202-s23-turnin/tree/master\n",
    "\n",
    "\n",
    "```"
   ]
  },
  {
   "cell_type": "markdown",
   "metadata": {
    "pycharm": {
     "name": "#%% md\n"
    }
   },
   "source": [
    "---\n",
    "## Part 2: Downloading and analyzing unfamiliar data (30 points)\n",
    "\n"
   ]
  },
  {
   "cell_type": "markdown",
   "metadata": {
    "pycharm": {
     "name": "#%% md\n"
    }
   },
   "source": [
    "&#9989; **(3 pt):** Download the files using `curl` and the following links. Put the command you used to download the files in the cell below.\n",
    "\n",
    "`https://raw.githubusercontent.com/huichiayu/cmse_202_802/main/data/SAS.csv`\n"
   ]
  },
  {
   "cell_type": "code",
   "execution_count": 3,
   "metadata": {
    "scrolled": true
   },
   "outputs": [
    {
     "data": {
      "text/plain": [
       "'\\ncurl https://raw.githubusercontent.com/huichiayu/cmse_202_802/main/data/SAS.csv --output SAS.csv\\n'"
      ]
     },
     "execution_count": 3,
     "metadata": {},
     "output_type": "execute_result"
    }
   ],
   "source": [
    "## put your command here\n",
    "'''\n",
    "curl https://raw.githubusercontent.com/huichiayu/cmse_202_802/main/data/SAS.csv --output SAS.csv\n",
    "'''\n"
   ]
  },
  {
   "cell_type": "markdown",
   "metadata": {},
   "source": [
    "&#9989; **(3 pt):** This file is a dataset of diabetic patients. Use pandas to import and display the data."
   ]
  },
  {
   "cell_type": "code",
   "execution_count": 5,
   "metadata": {},
   "outputs": [],
   "source": [
    "import pandas as pd"
   ]
  },
  {
   "cell_type": "code",
   "execution_count": 16,
   "metadata": {},
   "outputs": [
    {
     "data": {
      "text/html": [
       "<div>\n",
       "<style scoped>\n",
       "    .dataframe tbody tr th:only-of-type {\n",
       "        vertical-align: middle;\n",
       "    }\n",
       "\n",
       "    .dataframe tbody tr th {\n",
       "        vertical-align: top;\n",
       "    }\n",
       "\n",
       "    .dataframe thead th {\n",
       "        text-align: right;\n",
       "    }\n",
       "</style>\n",
       "<table border=\"1\" class=\"dataframe\">\n",
       "  <thead>\n",
       "    <tr style=\"text-align: right;\">\n",
       "      <th></th>\n",
       "      <th>AGE</th>\n",
       "      <th>SEX</th>\n",
       "      <th>BMI</th>\n",
       "      <th>Blood_pressure</th>\n",
       "      <th>Total_cholesterol</th>\n",
       "      <th>LD_lipo</th>\n",
       "      <th>HD_lipo</th>\n",
       "      <th>Total_cholesterol/HDL</th>\n",
       "      <th>triglycerides</th>\n",
       "      <th>Glucose</th>\n",
       "      <th>Y</th>\n",
       "    </tr>\n",
       "  </thead>\n",
       "  <tbody>\n",
       "    <tr>\n",
       "      <th>0</th>\n",
       "      <td>59</td>\n",
       "      <td>2</td>\n",
       "      <td>32.1</td>\n",
       "      <td>101.00</td>\n",
       "      <td>157</td>\n",
       "      <td>93.2</td>\n",
       "      <td>38.0</td>\n",
       "      <td>4.00</td>\n",
       "      <td>4.8598</td>\n",
       "      <td>87</td>\n",
       "      <td>151</td>\n",
       "    </tr>\n",
       "    <tr>\n",
       "      <th>1</th>\n",
       "      <td>48</td>\n",
       "      <td>1</td>\n",
       "      <td>21.6</td>\n",
       "      <td>87.00</td>\n",
       "      <td>183</td>\n",
       "      <td>103.2</td>\n",
       "      <td>70.0</td>\n",
       "      <td>3.00</td>\n",
       "      <td>3.8918</td>\n",
       "      <td>69</td>\n",
       "      <td>75</td>\n",
       "    </tr>\n",
       "    <tr>\n",
       "      <th>2</th>\n",
       "      <td>72</td>\n",
       "      <td>2</td>\n",
       "      <td>30.5</td>\n",
       "      <td>93.00</td>\n",
       "      <td>156</td>\n",
       "      <td>93.6</td>\n",
       "      <td>41.0</td>\n",
       "      <td>4.00</td>\n",
       "      <td>4.6728</td>\n",
       "      <td>85</td>\n",
       "      <td>141</td>\n",
       "    </tr>\n",
       "    <tr>\n",
       "      <th>3</th>\n",
       "      <td>24</td>\n",
       "      <td>1</td>\n",
       "      <td>25.3</td>\n",
       "      <td>84.00</td>\n",
       "      <td>198</td>\n",
       "      <td>131.4</td>\n",
       "      <td>40.0</td>\n",
       "      <td>5.00</td>\n",
       "      <td>4.8903</td>\n",
       "      <td>89</td>\n",
       "      <td>206</td>\n",
       "    </tr>\n",
       "    <tr>\n",
       "      <th>4</th>\n",
       "      <td>50</td>\n",
       "      <td>1</td>\n",
       "      <td>23.0</td>\n",
       "      <td>101.00</td>\n",
       "      <td>192</td>\n",
       "      <td>125.4</td>\n",
       "      <td>52.0</td>\n",
       "      <td>4.00</td>\n",
       "      <td>4.2905</td>\n",
       "      <td>80</td>\n",
       "      <td>135</td>\n",
       "    </tr>\n",
       "    <tr>\n",
       "      <th>...</th>\n",
       "      <td>...</td>\n",
       "      <td>...</td>\n",
       "      <td>...</td>\n",
       "      <td>...</td>\n",
       "      <td>...</td>\n",
       "      <td>...</td>\n",
       "      <td>...</td>\n",
       "      <td>...</td>\n",
       "      <td>...</td>\n",
       "      <td>...</td>\n",
       "      <td>...</td>\n",
       "    </tr>\n",
       "    <tr>\n",
       "      <th>437</th>\n",
       "      <td>60</td>\n",
       "      <td>2</td>\n",
       "      <td>28.2</td>\n",
       "      <td>112.00</td>\n",
       "      <td>185</td>\n",
       "      <td>113.8</td>\n",
       "      <td>42.0</td>\n",
       "      <td>4.00</td>\n",
       "      <td>4.9836</td>\n",
       "      <td>93</td>\n",
       "      <td>178</td>\n",
       "    </tr>\n",
       "    <tr>\n",
       "      <th>438</th>\n",
       "      <td>47</td>\n",
       "      <td>2</td>\n",
       "      <td>24.9</td>\n",
       "      <td>75.00</td>\n",
       "      <td>225</td>\n",
       "      <td>166.0</td>\n",
       "      <td>42.0</td>\n",
       "      <td>5.00</td>\n",
       "      <td>4.4427</td>\n",
       "      <td>102</td>\n",
       "      <td>104</td>\n",
       "    </tr>\n",
       "    <tr>\n",
       "      <th>439</th>\n",
       "      <td>60</td>\n",
       "      <td>2</td>\n",
       "      <td>24.9</td>\n",
       "      <td>99.67</td>\n",
       "      <td>162</td>\n",
       "      <td>106.6</td>\n",
       "      <td>43.0</td>\n",
       "      <td>3.77</td>\n",
       "      <td>4.1271</td>\n",
       "      <td>95</td>\n",
       "      <td>132</td>\n",
       "    </tr>\n",
       "    <tr>\n",
       "      <th>440</th>\n",
       "      <td>36</td>\n",
       "      <td>1</td>\n",
       "      <td>30.0</td>\n",
       "      <td>95.00</td>\n",
       "      <td>201</td>\n",
       "      <td>125.2</td>\n",
       "      <td>42.0</td>\n",
       "      <td>4.79</td>\n",
       "      <td>5.1299</td>\n",
       "      <td>85</td>\n",
       "      <td>220</td>\n",
       "    </tr>\n",
       "    <tr>\n",
       "      <th>441</th>\n",
       "      <td>36</td>\n",
       "      <td>1</td>\n",
       "      <td>19.6</td>\n",
       "      <td>71.00</td>\n",
       "      <td>250</td>\n",
       "      <td>133.2</td>\n",
       "      <td>97.0</td>\n",
       "      <td>3.00</td>\n",
       "      <td>4.5951</td>\n",
       "      <td>92</td>\n",
       "      <td>57</td>\n",
       "    </tr>\n",
       "  </tbody>\n",
       "</table>\n",
       "<p>442 rows × 11 columns</p>\n",
       "</div>"
      ],
      "text/plain": [
       "     AGE  SEX   BMI  Blood_pressure  Total_cholesterol  LD_lipo  HD_lipo  \\\n",
       "0     59    2  32.1          101.00                157     93.2     38.0   \n",
       "1     48    1  21.6           87.00                183    103.2     70.0   \n",
       "2     72    2  30.5           93.00                156     93.6     41.0   \n",
       "3     24    1  25.3           84.00                198    131.4     40.0   \n",
       "4     50    1  23.0          101.00                192    125.4     52.0   \n",
       "..   ...  ...   ...             ...                ...      ...      ...   \n",
       "437   60    2  28.2          112.00                185    113.8     42.0   \n",
       "438   47    2  24.9           75.00                225    166.0     42.0   \n",
       "439   60    2  24.9           99.67                162    106.6     43.0   \n",
       "440   36    1  30.0           95.00                201    125.2     42.0   \n",
       "441   36    1  19.6           71.00                250    133.2     97.0   \n",
       "\n",
       "     Total_cholesterol/HDL  triglycerides  Glucose    Y  \n",
       "0                     4.00         4.8598       87  151  \n",
       "1                     3.00         3.8918       69   75  \n",
       "2                     4.00         4.6728       85  141  \n",
       "3                     5.00         4.8903       89  206  \n",
       "4                     4.00         4.2905       80  135  \n",
       "..                     ...            ...      ...  ...  \n",
       "437                   4.00         4.9836       93  178  \n",
       "438                   5.00         4.4427      102  104  \n",
       "439                   3.77         4.1271       95  132  \n",
       "440                   4.79         5.1299       85  220  \n",
       "441                   3.00         4.5951       92   57  \n",
       "\n",
       "[442 rows x 11 columns]"
      ]
     },
     "execution_count": 16,
     "metadata": {},
     "output_type": "execute_result"
    }
   ],
   "source": [
    "## put your code here\n",
    "SAS_df=pd.read_csv('SAS.csv')\n",
    "SAS_df\n"
   ]
  },
  {
   "cell_type": "markdown",
   "metadata": {},
   "source": [
    "&#9989; **(3 pt):** This dataset contains a column that we won't need. Drop the last column from this dataset."
   ]
  },
  {
   "cell_type": "code",
   "execution_count": 17,
   "metadata": {},
   "outputs": [],
   "source": [
    "## put your code here\n",
    "SAS_df=SAS_df.drop(labels=('Y'),axis=1)\n"
   ]
  },
  {
   "cell_type": "markdown",
   "metadata": {},
   "source": [
    "&#9989; **(3 pt):** Group the data by the \"SEX\" column and then use the built-in Pandas function to get a quick statistical summary of your data (e.g. the mean, standard deviation, min, max, etc)."
   ]
  },
  {
   "cell_type": "code",
   "execution_count": 27,
   "metadata": {},
   "outputs": [
    {
     "data": {
      "text/html": [
       "<div>\n",
       "<style scoped>\n",
       "    .dataframe tbody tr th:only-of-type {\n",
       "        vertical-align: middle;\n",
       "    }\n",
       "\n",
       "    .dataframe tbody tr th {\n",
       "        vertical-align: top;\n",
       "    }\n",
       "\n",
       "    .dataframe thead tr th {\n",
       "        text-align: left;\n",
       "    }\n",
       "\n",
       "    .dataframe thead tr:last-of-type th {\n",
       "        text-align: right;\n",
       "    }\n",
       "</style>\n",
       "<table border=\"1\" class=\"dataframe\">\n",
       "  <thead>\n",
       "    <tr>\n",
       "      <th></th>\n",
       "      <th colspan=\"8\" halign=\"left\">AGE</th>\n",
       "      <th colspan=\"2\" halign=\"left\">BMI</th>\n",
       "      <th>...</th>\n",
       "      <th colspan=\"2\" halign=\"left\">triglycerides</th>\n",
       "      <th colspan=\"8\" halign=\"left\">Glucose</th>\n",
       "    </tr>\n",
       "    <tr>\n",
       "      <th></th>\n",
       "      <th>count</th>\n",
       "      <th>mean</th>\n",
       "      <th>std</th>\n",
       "      <th>min</th>\n",
       "      <th>25%</th>\n",
       "      <th>50%</th>\n",
       "      <th>75%</th>\n",
       "      <th>max</th>\n",
       "      <th>count</th>\n",
       "      <th>mean</th>\n",
       "      <th>...</th>\n",
       "      <th>75%</th>\n",
       "      <th>max</th>\n",
       "      <th>count</th>\n",
       "      <th>mean</th>\n",
       "      <th>std</th>\n",
       "      <th>min</th>\n",
       "      <th>25%</th>\n",
       "      <th>50%</th>\n",
       "      <th>75%</th>\n",
       "      <th>max</th>\n",
       "    </tr>\n",
       "    <tr>\n",
       "      <th>SEX</th>\n",
       "      <th></th>\n",
       "      <th></th>\n",
       "      <th></th>\n",
       "      <th></th>\n",
       "      <th></th>\n",
       "      <th></th>\n",
       "      <th></th>\n",
       "      <th></th>\n",
       "      <th></th>\n",
       "      <th></th>\n",
       "      <th></th>\n",
       "      <th></th>\n",
       "      <th></th>\n",
       "      <th></th>\n",
       "      <th></th>\n",
       "      <th></th>\n",
       "      <th></th>\n",
       "      <th></th>\n",
       "      <th></th>\n",
       "      <th></th>\n",
       "      <th></th>\n",
       "    </tr>\n",
       "  </thead>\n",
       "  <tbody>\n",
       "    <tr>\n",
       "      <th>1</th>\n",
       "      <td>235.0</td>\n",
       "      <td>46.382979</td>\n",
       "      <td>13.120665</td>\n",
       "      <td>19.0</td>\n",
       "      <td>37.0</td>\n",
       "      <td>48.0</td>\n",
       "      <td>55.0</td>\n",
       "      <td>75.0</td>\n",
       "      <td>235.0</td>\n",
       "      <td>26.010638</td>\n",
       "      <td>...</td>\n",
       "      <td>4.9452</td>\n",
       "      <td>6.107</td>\n",
       "      <td>235.0</td>\n",
       "      <td>89.017021</td>\n",
       "      <td>11.403241</td>\n",
       "      <td>58.0</td>\n",
       "      <td>81.0</td>\n",
       "      <td>89.0</td>\n",
       "      <td>96.0</td>\n",
       "      <td>124.0</td>\n",
       "    </tr>\n",
       "    <tr>\n",
       "      <th>2</th>\n",
       "      <td>207.0</td>\n",
       "      <td>50.942029</td>\n",
       "      <td>12.697623</td>\n",
       "      <td>20.0</td>\n",
       "      <td>41.0</td>\n",
       "      <td>53.0</td>\n",
       "      <td>60.0</td>\n",
       "      <td>79.0</td>\n",
       "      <td>207.0</td>\n",
       "      <td>26.790338</td>\n",
       "      <td>...</td>\n",
       "      <td>5.0304</td>\n",
       "      <td>6.107</td>\n",
       "      <td>207.0</td>\n",
       "      <td>93.806763</td>\n",
       "      <td>11.089283</td>\n",
       "      <td>66.0</td>\n",
       "      <td>87.0</td>\n",
       "      <td>93.0</td>\n",
       "      <td>100.5</td>\n",
       "      <td>124.0</td>\n",
       "    </tr>\n",
       "  </tbody>\n",
       "</table>\n",
       "<p>2 rows × 72 columns</p>\n",
       "</div>"
      ],
      "text/plain": [
       "       AGE                                                        BMI  \\\n",
       "     count       mean        std   min   25%   50%   75%   max  count   \n",
       "SEX                                                                     \n",
       "1    235.0  46.382979  13.120665  19.0  37.0  48.0  55.0  75.0  235.0   \n",
       "2    207.0  50.942029  12.697623  20.0  41.0  53.0  60.0  79.0  207.0   \n",
       "\n",
       "                ... triglycerides        Glucose                              \\\n",
       "          mean  ...           75%    max   count       mean        std   min   \n",
       "SEX             ...                                                            \n",
       "1    26.010638  ...        4.9452  6.107   235.0  89.017021  11.403241  58.0   \n",
       "2    26.790338  ...        5.0304  6.107   207.0  93.806763  11.089283  66.0   \n",
       "\n",
       "                               \n",
       "      25%   50%    75%    max  \n",
       "SEX                            \n",
       "1    81.0  89.0   96.0  124.0  \n",
       "2    87.0  93.0  100.5  124.0  \n",
       "\n",
       "[2 rows x 72 columns]"
      ]
     },
     "execution_count": 27,
     "metadata": {},
     "output_type": "execute_result"
    }
   ],
   "source": [
    "## put your code here\n",
    "SAS_grouped=SAS_df.groupby('SEX')\n",
    "\n",
    "SAS_grouped.describe()"
   ]
  },
  {
   "cell_type": "markdown",
   "metadata": {},
   "source": [
    "&#9989; **(9 pt):** For male patients, make a scatter plot of glucose level versus age. Make sure to include labels and a title for your plot. (Assume that Male corresponds to 2 in the \"SEX\" column.)"
   ]
  },
  {
   "cell_type": "code",
   "execution_count": 35,
   "metadata": {},
   "outputs": [],
   "source": [
    "import matplotlib.pyplot as plt"
   ]
  },
  {
   "cell_type": "code",
   "execution_count": 38,
   "metadata": {},
   "outputs": [
    {
     "data": {
      "text/plain": [
       "Text(0.5, 1.0, 'age vs glucose in males')"
      ]
     },
     "execution_count": 38,
     "metadata": {},
     "output_type": "execute_result"
    },
    {
     "data": {
      "image/png": "[encoded data removed]",
      "text/plain": [
       "<Figure size 432x288 with 1 Axes>"
      ]
     },
     "metadata": {
      "needs_background": "light"
     },
     "output_type": "display_data"
    }
   ],
   "source": [
    "## put your code here\n",
    "age=[]\n",
    "glucose=[]\n",
    "index=0\n",
    "for element in SAS_df['SEX']:\n",
    "    if element == 2:\n",
    "        glucose.append(SAS_df['Glucose'][index])\n",
    "        age.append(SAS_df['AGE'][index])\n",
    "    index=index+1\n",
    "\n",
    "plt.scatter(age,glucose)\n",
    "plt.xlabel('age')\n",
    "plt.ylabel('glucose')\n",
    "plt.title('age vs glucose in males')\n",
    "    \n",
    "        "
   ]
  },
  {
   "cell_type": "markdown",
   "metadata": {},
   "source": [
    "&#9989; **(9 pt):** Create two histograms for BMI distribution on the same plot. One for male and the other for female patients. Again, make sure to include labels for the axis, as well as a title for your plot."
   ]
  },
  {
   "cell_type": "code",
   "execution_count": 42,
   "metadata": {
    "scrolled": true
   },
   "outputs": [
    {
     "data": {
      "text/plain": [
       "Text(0.5, 1.0, 'BMI frequency for males (blue) and females (orange)')"
      ]
     },
     "execution_count": 42,
     "metadata": {},
     "output_type": "execute_result"
    },
    {
     "data": {
      "image/png": "[encoded data removed]",
      "text/plain": [
       "<Figure size 432x288 with 1 Axes>"
      ]
     },
     "metadata": {
      "needs_background": "light"
     },
     "output_type": "display_data"
    }
   ],
   "source": [
    "## put your code here\n",
    "male_BMI=[]\n",
    "female_BMI=[]\n",
    "index=0\n",
    "for element in SAS_df['SEX']:\n",
    "    if element == 2:\n",
    "        male_BMI.append(SAS_df['BMI'][index])\n",
    "   \n",
    "    if element == 1:\n",
    "        female_BMI.append(SAS_df['BMI'][index])\n",
    "    index=index+1\n",
    "    \n",
    "plt.hist(male_BMI)\n",
    "plt.hist(female_BMI)\n",
    "\n",
    "plt.xlabel('frequency')\n",
    "plt.ylabel('BMI')\n",
    "plt.title('BMI frequency for males (blue) and females (orange)')"
   ]
  },
  {
   "cell_type": "code",
   "execution_count": 43,
   "metadata": {},
   "outputs": [
    {
     "data": {
      "text/plain": [
       "Text(0.5, 1.0, 'BMI frequency for males (blue) and females (orange)')"
      ]
     },
     "execution_count": 43,
     "metadata": {},
     "output_type": "execute_result"
    },
    {
     "data": {
      "image/png": "[encoded data removed]",
      "text/plain": [
       "<Figure size 432x288 with 1 Axes>"
      ]
     },
     "metadata": {
      "needs_background": "light"
     },
     "output_type": "display_data"
    }
   ],
   "source": [
    "plt.hist(male_BMI)\n",
    "plt.hist(female_BMI)\n",
    "plt.scatter(age,glucose)\n",
    "plt.xlabel('age')\n",
    "plt.ylabel('glucose')\n",
    "plt.title('age vs glucose in males')\n",
    "    \n",
    "\n",
    "plt.xlabel('frequency')\n",
    "plt.ylabel('BMI')\n",
    "plt.title('BMI frequency for males (blue) and females (orange)')"
   ]
  },
  {
   "cell_type": "markdown",
   "metadata": {
    "pycharm": {
     "name": "#%% md\n"
    }
   },
   "source": [
    "---\n",
    "### &#128721; STOP (1 PT)\n",
    "**Pause to commit your changes to your Git repository!**\n",
    "\n",
    "Take a moment to save your notebook, commit the changes to your Git repository using the commit message \"**Committing Part 2**\", and push the changes to GitHub.\n"
   ]
  },
  {
   "cell_type": "markdown",
   "metadata": {},
   "source": [
    "---\n",
    "## Part 3: Using unfamilar library (25 points)\n"
   ]
  },
  {
   "cell_type": "markdown",
   "metadata": {},
   "source": [
    "For this problem, we want you to use a new package that you aren’t as used to. Specifically, you’ll be using the Plotly plotting package (https://plotly.com/python/).\n",
    "\n",
    "✅ Your goal is to use this new package to create some new plots.\n",
    "\n",
    "*Hint: You might want to take a look at the Plotly example gallery.*"
   ]
  },
  {
   "cell_type": "code",
   "execution_count": 46,
   "metadata": {},
   "outputs": [],
   "source": [
    "import plotly as plo"
   ]
  },
  {
   "cell_type": "code",
   "execution_count": 49,
   "metadata": {},
   "outputs": [],
   "source": [
    "import plotly.express as px"
   ]
  },
  {
   "cell_type": "markdown",
   "metadata": {},
   "source": [
    "&#9989; **(6 pt):** From the dataframe used above, make a scatter plot of glucose level versus age. Make sure to include a title."
   ]
  },
  {
   "cell_type": "code",
   "execution_count": 62,
   "metadata": {},
   "outputs": [
    {
     "data": {
      "application/vnd.plotly.v1+json": {
       "config": {
        "plotlyServerURL": "https://plot.ly"
       },
       "data": [
        {
         "hovertemplate": "x=%{x}<br>index=%{y}<extra></extra>",
         "legendgroup": "",
         "marker": {
          "color": "#636efa",
          "symbol": "circle"
         },
         "mode": "markers",
         "name": "",
         "orientation": "h",
         "showlegend": false,
         "type": "scatter",
         "x": [
          59,
          48,
          72,
          24,
          50,
          23,
          36,
          66,
          60,
          29,
          22,
          56,
          53,
          50,
          61,
          34,
          47,
          68,
          38,
          41,
          35,
          25,
          25,
          61,
          31,
          30,
          19,
          42,
          63,
          67,
          32,
          42,
          58,
          57,
          53,
          62,
          52,
          46,
          48,
          48,
          50,
          21,
          32,
          54,
          61,
          56,
          33,
          27,
          67,
          37,
          58,
          65,
          34,
          46,
          35,
          37,
          37,
          41,
          60,
          66,
          29,
          37,
          41,
          39,
          67,
          36,
          46,
          60,
          59,
          53,
          48,
          48,
          66,
          52,
          52,
          46,
          40,
          22,
          50,
          20,
          68,
          52,
          44,
          38,
          49,
          61,
          29,
          61,
          34,
          36,
          52,
          61,
          43,
          35,
          27,
          29,
          64,
          41,
          49,
          48,
          53,
          53,
          23,
          65,
          41,
          55,
          22,
          56,
          54,
          59,
          60,
          54,
          25,
          54,
          55,
          40,
          62,
          65,
          33,
          53,
          35,
          66,
          62,
          50,
          47,
          47,
          24,
          58,
          34,
          51,
          31,
          22,
          53,
          37,
          28,
          47,
          23,
          50,
          58,
          55,
          60,
          41,
          60,
          40,
          57,
          37,
          40,
          33,
          32,
          35,
          55,
          49,
          39,
          60,
          67,
          41,
          44,
          48,
          45,
          47,
          46,
          36,
          34,
          53,
          61,
          37,
          33,
          68,
          49,
          48,
          55,
          43,
          60,
          31,
          53,
          67,
          61,
          62,
          60,
          42,
          38,
          62,
          61,
          61,
          53,
          28,
          26,
          30,
          50,
          48,
          51,
          47,
          64,
          51,
          30,
          56,
          42,
          62,
          34,
          60,
          64,
          39,
          71,
          48,
          79,
          40,
          49,
          51,
          57,
          59,
          51,
          74,
          67,
          49,
          57,
          56,
          52,
          69,
          37,
          24,
          55,
          36,
          42,
          21,
          41,
          57,
          20,
          67,
          34,
          41,
          38,
          51,
          52,
          67,
          61,
          67,
          56,
          64,
          58,
          55,
          62,
          57,
          20,
          53,
          32,
          41,
          60,
          26,
          37,
          45,
          67,
          34,
          50,
          71,
          57,
          49,
          35,
          41,
          70,
          52,
          60,
          62,
          44,
          28,
          58,
          39,
          34,
          65,
          66,
          51,
          50,
          59,
          52,
          69,
          53,
          47,
          52,
          39,
          67,
          59,
          51,
          23,
          68,
          44,
          60,
          52,
          38,
          61,
          68,
          28,
          65,
          69,
          51,
          29,
          55,
          34,
          67,
          49,
          55,
          59,
          53,
          48,
          52,
          69,
          60,
          46,
          51,
          67,
          49,
          46,
          47,
          75,
          28,
          65,
          42,
          51,
          53,
          54,
          73,
          54,
          42,
          75,
          55,
          68,
          57,
          48,
          61,
          69,
          38,
          45,
          51,
          71,
          57,
          56,
          32,
          50,
          43,
          54,
          31,
          56,
          44,
          57,
          64,
          43,
          19,
          71,
          50,
          59,
          57,
          49,
          41,
          25,
          52,
          34,
          42,
          28,
          47,
          32,
          43,
          59,
          53,
          60,
          54,
          35,
          49,
          58,
          36,
          46,
          44,
          46,
          54,
          63,
          41,
          28,
          19,
          61,
          48,
          54,
          53,
          48,
          53,
          29,
          62,
          50,
          58,
          55,
          54,
          36,
          63,
          47,
          51,
          42,
          37,
          28,
          58,
          32,
          25,
          63,
          52,
          65,
          42,
          53,
          79,
          43,
          44,
          62,
          33,
          56,
          66,
          34,
          46,
          50,
          69,
          34,
          71,
          47,
          41,
          34,
          51,
          43,
          55,
          59,
          27,
          51,
          49,
          27,
          57,
          39,
          62,
          37,
          46,
          68,
          51,
          41,
          53,
          45,
          33,
          60,
          47,
          60,
          36,
          36
         ],
         "xaxis": "x",
         "y": [
          0,
          1,
          2,
          3,
          4,
          5,
          6,
          7,
          8,
          9,
          10,
          11,
          12,
          13,
          14,
          15,
          16,
          17,
          18,
          19,
          20,
          21,
          22,
          23,
          24,
          25,
          26,
          27,
          28,
          29,
          30,
          31,
          32,
          33,
          34,
          35,
          36,
          37,
          38,
          39,
          40,
          41,
          42,
          43,
          44,
          45,
          46,
          47,
          48,
          49,
          50,
          51,
          52,
          53,
          54,
          55,
          56,
          57,
          58,
          59,
          60,
          61,
          62,
          63,
          64,
          65,
          66,
          67,
          68,
          69,
          70,
          71,
          72,
          73,
          74,
          75,
          76,
          77,
          78,
          79,
          80,
          81,
          82,
          83,
          84,
          85,
          86,
          87,
          88,
          89,
          90,
          91,
          92,
          93,
          94,
          95,
          96,
          97,
          98,
          99,
          100,
          101,
          102,
          103,
          104,
          105,
          106,
          107,
          108,
          109,
          110,
          111,
          112,
          113,
          114,
          115,
          116,
          117,
          118,
          119,
          120,
          121,
          122,
          123,
          124,
          125,
          126,
          127,
          128,
          129,
          130,
          131,
          132,
          133,
          134,
          135,
          136,
          137,
          138,
          139,
          140,
          141,
          142,
          143,
          144,
          145,
          146,
          147,
          148,
          149,
          150,
          151,
          152,
          153,
          154,
          155,
          156,
          157,
          158,
          159,
          160,
          161,
          162,
          163,
          164,
          165,
          166,
          167,
          168,
          169,
          170,
          171,
          172,
          173,
          174,
          175,
          176,
          177,
          178,
          179,
          180,
          181,
          182,
          183,
          184,
          185,
          186,
          187,
          188,
          189,
          190,
          191,
          192,
          193,
          194,
          195,
          196,
          197,
          198,
          199,
          200,
          201,
          202,
          203,
          204,
          205,
          206,
          207,
          208,
          209,
          210,
          211,
          212,
          213,
          214,
          215,
          216,
          217,
          218,
          219,
          220,
          221,
          222,
          223,
          224,
          225,
          226,
          227,
          228,
          229,
          230,
          231,
          232,
          233,
          234,
          235,
          236,
          237,
          238,
          239,
          240,
          241,
          242,
          243,
          244,
          245,
          246,
          247,
          248,
          249,
          250,
          251,
          252,
          253,
          254,
          255,
          256,
          257,
          258,
          259,
          260,
          261,
          262,
          263,
          264,
          265,
          266,
          267,
          268,
          269,
          270,
          271,
          272,
          273,
          274,
          275,
          276,
          277,
          278,
          279,
          280,
          281,
          282,
          283,
          284,
          285,
          286,
          287,
          288,
          289,
          290,
          291,
          292,
          293,
          294,
          295,
          296,
          297,
          298,
          299,
          300,
          301,
          302,
          303,
          304,
          305,
          306,
          307,
          308,
          309,
          310,
          311,
          312,
          313,
          314,
          315,
          316,
          317,
          318,
          319,
          320,
          321,
          322,
          323,
          324,
          325,
          326,
          327,
          328,
          329,
          330,
          331,
          332,
          333,
          334,
          335,
          336,
          337,
          338,
          339,
          340,
          341,
          342,
          343,
          344,
          345,
          346,
          347,
          348,
          349,
          350,
          351,
          352,
          353,
          354,
          355,
          356,
          357,
          358,
          359,
          360,
          361,
          362,
          363,
          364,
          365,
          366,
          367,
          368,
          369,
          370,
          371,
          372,
          373,
          374,
          375,
          376,
          377,
          378,
          379,
          380,
          381,
          382,
          383,
          384,
          385,
          386,
          387,
          388,
          389,
          390,
          391,
          392,
          393,
          394,
          395,
          396,
          397,
          398,
          399,
          400,
          401,
          402,
          403,
          404,
          405,
          406,
          407,
          408,
          409,
          410,
          411,
          412,
          413,
          414,
          415,
          416,
          417,
          418,
          419,
          420,
          421,
          422,
          423,
          424,
          425,
          426,
          427,
          428,
          429,
          430,
          431,
          432,
          433,
          434,
          435,
          436,
          437,
          438,
          439,
          440,
          441
         ],
         "yaxis": "y"
        }
       ],
       "layout": {
        "legend": {
         "tracegroupgap": 0
        },
        "template": {
         "data": {
          "bar": [
           {
            "error_x": {
             "color": "#2a3f5f"
            },
            "error_y": {
             "color": "#2a3f5f"
            },
            "marker": {
             "line": {
              "color": "#E5ECF6",
              "width": 0.5
             },
             "pattern": {
              "fillmode": "overlay",
              "size": 10,
              "solidity": 0.2
             }
            },
            "type": "bar"
           }
          ],
          "barpolar": [
           {
            "marker": {
             "line": {
              "color": "#E5ECF6",
              "width": 0.5
             },
             "pattern": {
              "fillmode": "overlay",
              "size": 10,
              "solidity": 0.2
             }
            },
            "type": "barpolar"
           }
          ],
          "carpet": [
           {
            "aaxis": {
             "endlinecolor": "#2a3f5f",
             "gridcolor": "white",
             "linecolor": "white",
             "minorgridcolor": "white",
             "startlinecolor": "#2a3f5f"
            },
            "baxis": {
             "endlinecolor": "#2a3f5f",
             "gridcolor": "white",
             "linecolor": "white",
             "minorgridcolor": "white",
             "startlinecolor": "#2a3f5f"
            },
            "type": "carpet"
           }
          ],
          "choropleth": [
           {
            "colorbar": {
             "outlinewidth": 0,
             "ticks": ""
            },
            "type": "choropleth"
           }
          ],
          "contour": [
           {
            "colorbar": {
             "outlinewidth": 0,
             "ticks": ""
            },
            "colorscale": [
             [
              0,
              "#0d0887"
             ],
             [
              0.1111111111111111,
              "#46039f"
             ],
             [
              0.2222222222222222,
              "#7201a8"
             ],
             [
              0.3333333333333333,
              "#9c179e"
             ],
             [
              0.4444444444444444,
              "#bd3786"
             ],
             [
              0.5555555555555556,
              "#d8576b"
             ],
             [
              0.6666666666666666,
              "#ed7953"
             ],
             [
              0.7777777777777778,
              "#fb9f3a"
             ],
             [
              0.8888888888888888,
              "#fdca26"
             ],
             [
              1,
              "#f0f921"
             ]
            ],
            "type": "contour"
           }
          ],
          "contourcarpet": [
           {
            "colorbar": {
             "outlinewidth": 0,
             "ticks": ""
            },
            "type": "contourcarpet"
           }
          ],
          "heatmap": [
           {
            "colorbar": {
             "outlinewidth": 0,
             "ticks": ""
            },
            "colorscale": [
             [
              0,
              "#0d0887"
             ],
             [
              0.1111111111111111,
              "#46039f"
             ],
             [
              0.2222222222222222,
              "#7201a8"
             ],
             [
              0.3333333333333333,
              "#9c179e"
             ],
             [
              0.4444444444444444,
              "#bd3786"
             ],
             [
              0.5555555555555556,
              "#d8576b"
             ],
             [
              0.6666666666666666,
              "#ed7953"
             ],
             [
              0.7777777777777778,
              "#fb9f3a"
             ],
             [
              0.8888888888888888,
              "#fdca26"
             ],
             [
              1,
              "#f0f921"
             ]
            ],
            "type": "heatmap"
           }
          ],
          "heatmapgl": [
           {
            "colorbar": {
             "outlinewidth": 0,
             "ticks": ""
            },
            "colorscale": [
             [
              0,
              "#0d0887"
             ],
             [
              0.1111111111111111,
              "#46039f"
             ],
             [
              0.2222222222222222,
              "#7201a8"
             ],
             [
              0.3333333333333333,
              "#9c179e"
             ],
             [
              0.4444444444444444,
              "#bd3786"
             ],
             [
              0.5555555555555556,
              "#d8576b"
             ],
             [
              0.6666666666666666,
              "#ed7953"
             ],
             [
              0.7777777777777778,
              "#fb9f3a"
             ],
             [
              0.8888888888888888,
              "#fdca26"
             ],
             [
              1,
              "#f0f921"
             ]
            ],
            "type": "heatmapgl"
           }
          ],
          "histogram": [
           {
            "marker": {
             "pattern": {
              "fillmode": "overlay",
              "size": 10,
              "solidity": 0.2
             }
            },
            "type": "histogram"
           }
          ],
          "histogram2d": [
           {
            "colorbar": {
             "outlinewidth": 0,
             "ticks": ""
            },
            "colorscale": [
             [
              0,
              "#0d0887"
             ],
             [
              0.1111111111111111,
              "#46039f"
             ],
             [
              0.2222222222222222,
              "#7201a8"
             ],
             [
              0.3333333333333333,
              "#9c179e"
             ],
             [
              0.4444444444444444,
              "#bd3786"
             ],
             [
              0.5555555555555556,
              "#d8576b"
             ],
             [
              0.6666666666666666,
              "#ed7953"
             ],
             [
              0.7777777777777778,
              "#fb9f3a"
             ],
             [
              0.8888888888888888,
              "#fdca26"
             ],
             [
              1,
              "#f0f921"
             ]
            ],
            "type": "histogram2d"
           }
          ],
          "histogram2dcontour": [
           {
            "colorbar": {
             "outlinewidth": 0,
             "ticks": ""
            },
            "colorscale": [
             [
              0,
              "#0d0887"
             ],
             [
              0.1111111111111111,
              "#46039f"
             ],
             [
              0.2222222222222222,
              "#7201a8"
             ],
             [
              0.3333333333333333,
              "#9c179e"
             ],
             [
              0.4444444444444444,
              "#bd3786"
             ],
             [
              0.5555555555555556,
              "#d8576b"
             ],
             [
              0.6666666666666666,
              "#ed7953"
             ],
             [
              0.7777777777777778,
              "#fb9f3a"
             ],
             [
              0.8888888888888888,
              "#fdca26"
             ],
             [
              1,
              "#f0f921"
             ]
            ],
            "type": "histogram2dcontour"
           }
          ],
          "mesh3d": [
           {
            "colorbar": {
             "outlinewidth": 0,
             "ticks": ""
            },
            "type": "mesh3d"
           }
          ],
          "parcoords": [
           {
            "line": {
             "colorbar": {
              "outlinewidth": 0,
              "ticks": ""
             }
            },
            "type": "parcoords"
           }
          ],
          "pie": [
           {
            "automargin": true,
            "type": "pie"
           }
          ],
          "scatter": [
           {
            "marker": {
             "colorbar": {
              "outlinewidth": 0,
              "ticks": ""
             }
            },
            "type": "scatter"
           }
          ],
          "scatter3d": [
           {
            "line": {
             "colorbar": {
              "outlinewidth": 0,
              "ticks": ""
             }
            },
            "marker": {
             "colorbar": {
              "outlinewidth": 0,
              "ticks": ""
             }
            },
            "type": "scatter3d"
           }
          ],
          "scattercarpet": [
           {
            "marker": {
             "colorbar": {
              "outlinewidth": 0,
              "ticks": ""
             }
            },
            "type": "scattercarpet"
           }
          ],
          "scattergeo": [
           {
            "marker": {
             "colorbar": {
              "outlinewidth": 0,
              "ticks": ""
             }
            },
            "type": "scattergeo"
           }
          ],
          "scattergl": [
           {
            "marker": {
             "colorbar": {
              "outlinewidth": 0,
              "ticks": ""
             }
            },
            "type": "scattergl"
           }
          ],
          "scattermapbox": [
           {
            "marker": {
             "colorbar": {
              "outlinewidth": 0,
              "ticks": ""
             }
            },
            "type": "scattermapbox"
           }
          ],
          "scatterpolar": [
           {
            "marker": {
             "colorbar": {
              "outlinewidth": 0,
              "ticks": ""
             }
            },
            "type": "scatterpolar"
           }
          ],
          "scatterpolargl": [
           {
            "marker": {
             "colorbar": {
              "outlinewidth": 0,
              "ticks": ""
             }
            },
            "type": "scatterpolargl"
           }
          ],
          "scatterternary": [
           {
            "marker": {
             "colorbar": {
              "outlinewidth": 0,
              "ticks": ""
             }
            },
            "type": "scatterternary"
           }
          ],
          "surface": [
           {
            "colorbar": {
             "outlinewidth": 0,
             "ticks": ""
            },
            "colorscale": [
             [
              0,
              "#0d0887"
             ],
             [
              0.1111111111111111,
              "#46039f"
             ],
             [
              0.2222222222222222,
              "#7201a8"
             ],
             [
              0.3333333333333333,
              "#9c179e"
             ],
             [
              0.4444444444444444,
              "#bd3786"
             ],
             [
              0.5555555555555556,
              "#d8576b"
             ],
             [
              0.6666666666666666,
              "#ed7953"
             ],
             [
              0.7777777777777778,
              "#fb9f3a"
             ],
             [
              0.8888888888888888,
              "#fdca26"
             ],
             [
              1,
              "#f0f921"
             ]
            ],
            "type": "surface"
           }
          ],
          "table": [
           {
            "cells": {
             "fill": {
              "color": "#EBF0F8"
             },
             "line": {
              "color": "white"
             }
            },
            "header": {
             "fill": {
              "color": "#C8D4E3"
             },
             "line": {
              "color": "white"
             }
            },
            "type": "table"
           }
          ]
         },
         "layout": {
          "annotationdefaults": {
           "arrowcolor": "#2a3f5f",
           "arrowhead": 0,
           "arrowwidth": 1
          },
          "autotypenumbers": "strict",
          "coloraxis": {
           "colorbar": {
            "outlinewidth": 0,
            "ticks": ""
           }
          },
          "colorscale": {
           "diverging": [
            [
             0,
             "#8e0152"
            ],
            [
             0.1,
             "#c51b7d"
            ],
            [
             0.2,
             "#de77ae"
            ],
            [
             0.3,
             "#f1b6da"
            ],
            [
             0.4,
             "#fde0ef"
            ],
            [
             0.5,
             "#f7f7f7"
            ],
            [
             0.6,
             "#e6f5d0"
            ],
            [
             0.7,
             "#b8e186"
            ],
            [
             0.8,
             "#7fbc41"
            ],
            [
             0.9,
             "#4d9221"
            ],
            [
             1,
             "#276419"
            ]
           ],
           "sequential": [
            [
             0,
             "#0d0887"
            ],
            [
             0.1111111111111111,
             "#46039f"
            ],
            [
             0.2222222222222222,
             "#7201a8"
            ],
            [
             0.3333333333333333,
             "#9c179e"
            ],
            [
             0.4444444444444444,
             "#bd3786"
            ],
            [
             0.5555555555555556,
             "#d8576b"
            ],
            [
             0.6666666666666666,
             "#ed7953"
            ],
            [
             0.7777777777777778,
             "#fb9f3a"
            ],
            [
             0.8888888888888888,
             "#fdca26"
            ],
            [
             1,
             "#f0f921"
            ]
           ],
           "sequentialminus": [
            [
             0,
             "#0d0887"
            ],
            [
             0.1111111111111111,
             "#46039f"
            ],
            [
             0.2222222222222222,
             "#7201a8"
            ],
            [
             0.3333333333333333,
             "#9c179e"
            ],
            [
             0.4444444444444444,
             "#bd3786"
            ],
            [
             0.5555555555555556,
             "#d8576b"
            ],
            [
             0.6666666666666666,
             "#ed7953"
            ],
            [
             0.7777777777777778,
             "#fb9f3a"
            ],
            [
             0.8888888888888888,
             "#fdca26"
            ],
            [
             1,
             "#f0f921"
            ]
           ]
          },
          "colorway": [
           "#636efa",
           "#EF553B",
           "#00cc96",
           "#ab63fa",
           "#FFA15A",
           "#19d3f3",
           "#FF6692",
           "#B6E880",
           "#FF97FF",
           "#FECB52"
          ],
          "font": {
           "color": "#2a3f5f"
          },
          "geo": {
           "bgcolor": "white",
           "lakecolor": "white",
           "landcolor": "#E5ECF6",
           "showlakes": true,
           "showland": true,
           "subunitcolor": "white"
          },
          "hoverlabel": {
           "align": "left"
          },
          "hovermode": "closest",
          "mapbox": {
           "style": "light"
          },
          "paper_bgcolor": "white",
          "plot_bgcolor": "#E5ECF6",
          "polar": {
           "angularaxis": {
            "gridcolor": "white",
            "linecolor": "white",
            "ticks": ""
           },
           "bgcolor": "#E5ECF6",
           "radialaxis": {
            "gridcolor": "white",
            "linecolor": "white",
            "ticks": ""
           }
          },
          "scene": {
           "xaxis": {
            "backgroundcolor": "#E5ECF6",
            "gridcolor": "white",
            "gridwidth": 2,
            "linecolor": "white",
            "showbackground": true,
            "ticks": "",
            "zerolinecolor": "white"
           },
           "yaxis": {
            "backgroundcolor": "#E5ECF6",
            "gridcolor": "white",
            "gridwidth": 2,
            "linecolor": "white",
            "showbackground": true,
            "ticks": "",
            "zerolinecolor": "white"
           },
           "zaxis": {
            "backgroundcolor": "#E5ECF6",
            "gridcolor": "white",
            "gridwidth": 2,
            "linecolor": "white",
            "showbackground": true,
            "ticks": "",
            "zerolinecolor": "white"
           }
          },
          "shapedefaults": {
           "line": {
            "color": "#2a3f5f"
           }
          },
          "ternary": {
           "aaxis": {
            "gridcolor": "white",
            "linecolor": "white",
            "ticks": ""
           },
           "baxis": {
            "gridcolor": "white",
            "linecolor": "white",
            "ticks": ""
           },
           "bgcolor": "#E5ECF6",
           "caxis": {
            "gridcolor": "white",
            "linecolor": "white",
            "ticks": ""
           }
          },
          "title": {
           "x": 0.05
          },
          "xaxis": {
           "automargin": true,
           "gridcolor": "white",
           "linecolor": "white",
           "ticks": "",
           "title": {
            "standoff": 15
           },
           "zerolinecolor": "white",
           "zerolinewidth": 2
          },
          "yaxis": {
           "automargin": true,
           "gridcolor": "white",
           "linecolor": "white",
           "ticks": "",
           "title": {
            "standoff": 15
           },
           "zerolinecolor": "white",
           "zerolinewidth": 2
          }
         }
        },
        "title": {
         "text": "Age vs Glucose"
        },
        "xaxis": {
         "anchor": "y",
         "domain": [
          0,
          1
         ],
         "title": {
          "text": "x"
         }
        },
        "yaxis": {
         "anchor": "x",
         "domain": [
          0,
          1
         ],
         "title": {
          "text": "index"
         }
        }
       }
      },
      "text/html": [
       "<div>                            <div id=\"3939a2ff-d0f0-4825-bbe3-2800dd067d70\" class=\"plotly-graph-div\" style=\"height:525px; width:100%;\"></div>            <script type=\"text/javascript\">                require([\"plotly\"], function(Plotly) {                    window.PLOTLYENV=window.PLOTLYENV || {};                                    if (document.getElementById(\"3939a2ff-d0f0-4825-bbe3-2800dd067d70\")) {                    Plotly.newPlot(                        \"3939a2ff-d0f0-4825-bbe3-2800dd067d70\",                        [{\"hovertemplate\":\"x=%{x}<br>index=%{y}<extra></extra>\",\"legendgroup\":\"\",\"marker\":{\"color\":\"#636efa\",\"symbol\":\"circle\"},\"mode\":\"markers\",\"name\":\"\",\"orientation\":\"h\",\"showlegend\":false,\"x\":[59,48,72,24,50,23,36,66,60,29,22,56,53,50,61,34,47,68,38,41,35,25,25,61,31,30,19,42,63,67,32,42,58,57,53,62,52,46,48,48,50,21,32,54,61,56,33,27,67,37,58,65,34,46,35,37,37,41,60,66,29,37,41,39,67,36,46,60,59,53,48,48,66,52,52,46,40,22,50,20,68,52,44,38,49,61,29,61,34,36,52,61,43,35,27,29,64,41,49,48,53,53,23,65,41,55,22,56,54,59,60,54,25,54,55,40,62,65,33,53,35,66,62,50,47,47,24,58,34,51,31,22,53,37,28,47,23,50,58,55,60,41,60,40,57,37,40,33,32,35,55,49,39,60,67,41,44,48,45,47,46,36,34,53,61,37,33,68,49,48,55,43,60,31,53,67,61,62,60,42,38,62,61,61,53,28,26,30,50,48,51,47,64,51,30,56,42,62,34,60,64,39,71,48,79,40,49,51,57,59,51,74,67,49,57,56,52,69,37,24,55,36,42,21,41,57,20,67,34,41,38,51,52,67,61,67,56,64,58,55,62,57,20,53,32,41,60,26,37,45,67,34,50,71,57,49,35,41,70,52,60,62,44,28,58,39,34,65,66,51,50,59,52,69,53,47,52,39,67,59,51,23,68,44,60,52,38,61,68,28,65,69,51,29,55,34,67,49,55,59,53,48,52,69,60,46,51,67,49,46,47,75,28,65,42,51,53,54,73,54,42,75,55,68,57,48,61,69,38,45,51,71,57,56,32,50,43,54,31,56,44,57,64,43,19,71,50,59,57,49,41,25,52,34,42,28,47,32,43,59,53,60,54,35,49,58,36,46,44,46,54,63,41,28,19,61,48,54,53,48,53,29,62,50,58,55,54,36,63,47,51,42,37,28,58,32,25,63,52,65,42,53,79,43,44,62,33,56,66,34,46,50,69,34,71,47,41,34,51,43,55,59,27,51,49,27,57,39,62,37,46,68,51,41,53,45,33,60,47,60,36,36],\"xaxis\":\"x\",\"y\":[0,1,2,3,4,5,6,7,8,9,10,11,12,13,14,15,16,17,18,19,20,21,22,23,24,25,26,27,28,29,30,31,32,33,34,35,36,37,38,39,40,41,42,43,44,45,46,47,48,49,50,51,52,53,54,55,56,57,58,59,60,61,62,63,64,65,66,67,68,69,70,71,72,73,74,75,76,77,78,79,80,81,82,83,84,85,86,87,88,89,90,91,92,93,94,95,96,97,98,99,100,101,102,103,104,105,106,107,108,109,110,111,112,113,114,115,116,117,118,119,120,121,122,123,124,125,126,127,128,129,130,131,132,133,134,135,136,137,138,139,140,141,142,143,144,145,146,147,148,149,150,151,152,153,154,155,156,157,158,159,160,161,162,163,164,165,166,167,168,169,170,171,172,173,174,175,176,177,178,179,180,181,182,183,184,185,186,187,188,189,190,191,192,193,194,195,196,197,198,199,200,201,202,203,204,205,206,207,208,209,210,211,212,213,214,215,216,217,218,219,220,221,222,223,224,225,226,227,228,229,230,231,232,233,234,235,236,237,238,239,240,241,242,243,244,245,246,247,248,249,250,251,252,253,254,255,256,257,258,259,260,261,262,263,264,265,266,267,268,269,270,271,272,273,274,275,276,277,278,279,280,281,282,283,284,285,286,287,288,289,290,291,292,293,294,295,296,297,298,299,300,301,302,303,304,305,306,307,308,309,310,311,312,313,314,315,316,317,318,319,320,321,322,323,324,325,326,327,328,329,330,331,332,333,334,335,336,337,338,339,340,341,342,343,344,345,346,347,348,349,350,351,352,353,354,355,356,357,358,359,360,361,362,363,364,365,366,367,368,369,370,371,372,373,374,375,376,377,378,379,380,381,382,383,384,385,386,387,388,389,390,391,392,393,394,395,396,397,398,399,400,401,402,403,404,405,406,407,408,409,410,411,412,413,414,415,416,417,418,419,420,421,422,423,424,425,426,427,428,429,430,431,432,433,434,435,436,437,438,439,440,441],\"yaxis\":\"y\",\"type\":\"scatter\"}],                        {\"template\":{\"data\":{\"bar\":[{\"error_x\":{\"color\":\"#2a3f5f\"},\"error_y\":{\"color\":\"#2a3f5f\"},\"marker\":{\"line\":{\"color\":\"#E5ECF6\",\"width\":0.5},\"pattern\":{\"fillmode\":\"overlay\",\"size\":10,\"solidity\":0.2}},\"type\":\"bar\"}],\"barpolar\":[{\"marker\":{\"line\":{\"color\":\"#E5ECF6\",\"width\":0.5},\"pattern\":{\"fillmode\":\"overlay\",\"size\":10,\"solidity\":0.2}},\"type\":\"barpolar\"}],\"carpet\":[{\"aaxis\":{\"endlinecolor\":\"#2a3f5f\",\"gridcolor\":\"white\",\"linecolor\":\"white\",\"minorgridcolor\":\"white\",\"startlinecolor\":\"#2a3f5f\"},\"baxis\":{\"endlinecolor\":\"#2a3f5f\",\"gridcolor\":\"white\",\"linecolor\":\"white\",\"minorgridcolor\":\"white\",\"startlinecolor\":\"#2a3f5f\"},\"type\":\"carpet\"}],\"choropleth\":[{\"colorbar\":{\"outlinewidth\":0,\"ticks\":\"\"},\"type\":\"choropleth\"}],\"contour\":[{\"colorbar\":{\"outlinewidth\":0,\"ticks\":\"\"},\"colorscale\":[[0.0,\"#0d0887\"],[0.1111111111111111,\"#46039f\"],[0.2222222222222222,\"#7201a8\"],[0.3333333333333333,\"#9c179e\"],[0.4444444444444444,\"#bd3786\"],[0.5555555555555556,\"#d8576b\"],[0.6666666666666666,\"#ed7953\"],[0.7777777777777778,\"#fb9f3a\"],[0.8888888888888888,\"#fdca26\"],[1.0,\"#f0f921\"]],\"type\":\"contour\"}],\"contourcarpet\":[{\"colorbar\":{\"outlinewidth\":0,\"ticks\":\"\"},\"type\":\"contourcarpet\"}],\"heatmap\":[{\"colorbar\":{\"outlinewidth\":0,\"ticks\":\"\"},\"colorscale\":[[0.0,\"#0d0887\"],[0.1111111111111111,\"#46039f\"],[0.2222222222222222,\"#7201a8\"],[0.3333333333333333,\"#9c179e\"],[0.4444444444444444,\"#bd3786\"],[0.5555555555555556,\"#d8576b\"],[0.6666666666666666,\"#ed7953\"],[0.7777777777777778,\"#fb9f3a\"],[0.8888888888888888,\"#fdca26\"],[1.0,\"#f0f921\"]],\"type\":\"heatmap\"}],\"heatmapgl\":[{\"colorbar\":{\"outlinewidth\":0,\"ticks\":\"\"},\"colorscale\":[[0.0,\"#0d0887\"],[0.1111111111111111,\"#46039f\"],[0.2222222222222222,\"#7201a8\"],[0.3333333333333333,\"#9c179e\"],[0.4444444444444444,\"#bd3786\"],[0.5555555555555556,\"#d8576b\"],[0.6666666666666666,\"#ed7953\"],[0.7777777777777778,\"#fb9f3a\"],[0.8888888888888888,\"#fdca26\"],[1.0,\"#f0f921\"]],\"type\":\"heatmapgl\"}],\"histogram\":[{\"marker\":{\"pattern\":{\"fillmode\":\"overlay\",\"size\":10,\"solidity\":0.2}},\"type\":\"histogram\"}],\"histogram2d\":[{\"colorbar\":{\"outlinewidth\":0,\"ticks\":\"\"},\"colorscale\":[[0.0,\"#0d0887\"],[0.1111111111111111,\"#46039f\"],[0.2222222222222222,\"#7201a8\"],[0.3333333333333333,\"#9c179e\"],[0.4444444444444444,\"#bd3786\"],[0.5555555555555556,\"#d8576b\"],[0.6666666666666666,\"#ed7953\"],[0.7777777777777778,\"#fb9f3a\"],[0.8888888888888888,\"#fdca26\"],[1.0,\"#f0f921\"]],\"type\":\"histogram2d\"}],\"histogram2dcontour\":[{\"colorbar\":{\"outlinewidth\":0,\"ticks\":\"\"},\"colorscale\":[[0.0,\"#0d0887\"],[0.1111111111111111,\"#46039f\"],[0.2222222222222222,\"#7201a8\"],[0.3333333333333333,\"#9c179e\"],[0.4444444444444444,\"#bd3786\"],[0.5555555555555556,\"#d8576b\"],[0.6666666666666666,\"#ed7953\"],[0.7777777777777778,\"#fb9f3a\"],[0.8888888888888888,\"#fdca26\"],[1.0,\"#f0f921\"]],\"type\":\"histogram2dcontour\"}],\"mesh3d\":[{\"colorbar\":{\"outlinewidth\":0,\"ticks\":\"\"},\"type\":\"mesh3d\"}],\"parcoords\":[{\"line\":{\"colorbar\":{\"outlinewidth\":0,\"ticks\":\"\"}},\"type\":\"parcoords\"}],\"pie\":[{\"automargin\":true,\"type\":\"pie\"}],\"scatter\":[{\"marker\":{\"colorbar\":{\"outlinewidth\":0,\"ticks\":\"\"}},\"type\":\"scatter\"}],\"scatter3d\":[{\"line\":{\"colorbar\":{\"outlinewidth\":0,\"ticks\":\"\"}},\"marker\":{\"colorbar\":{\"outlinewidth\":0,\"ticks\":\"\"}},\"type\":\"scatter3d\"}],\"scattercarpet\":[{\"marker\":{\"colorbar\":{\"outlinewidth\":0,\"ticks\":\"\"}},\"type\":\"scattercarpet\"}],\"scattergeo\":[{\"marker\":{\"colorbar\":{\"outlinewidth\":0,\"ticks\":\"\"}},\"type\":\"scattergeo\"}],\"scattergl\":[{\"marker\":{\"colorbar\":{\"outlinewidth\":0,\"ticks\":\"\"}},\"type\":\"scattergl\"}],\"scattermapbox\":[{\"marker\":{\"colorbar\":{\"outlinewidth\":0,\"ticks\":\"\"}},\"type\":\"scattermapbox\"}],\"scatterpolar\":[{\"marker\":{\"colorbar\":{\"outlinewidth\":0,\"ticks\":\"\"}},\"type\":\"scatterpolar\"}],\"scatterpolargl\":[{\"marker\":{\"colorbar\":{\"outlinewidth\":0,\"ticks\":\"\"}},\"type\":\"scatterpolargl\"}],\"scatterternary\":[{\"marker\":{\"colorbar\":{\"outlinewidth\":0,\"ticks\":\"\"}},\"type\":\"scatterternary\"}],\"surface\":[{\"colorbar\":{\"outlinewidth\":0,\"ticks\":\"\"},\"colorscale\":[[0.0,\"#0d0887\"],[0.1111111111111111,\"#46039f\"],[0.2222222222222222,\"#7201a8\"],[0.3333333333333333,\"#9c179e\"],[0.4444444444444444,\"#bd3786\"],[0.5555555555555556,\"#d8576b\"],[0.6666666666666666,\"#ed7953\"],[0.7777777777777778,\"#fb9f3a\"],[0.8888888888888888,\"#fdca26\"],[1.0,\"#f0f921\"]],\"type\":\"surface\"}],\"table\":[{\"cells\":{\"fill\":{\"color\":\"#EBF0F8\"},\"line\":{\"color\":\"white\"}},\"header\":{\"fill\":{\"color\":\"#C8D4E3\"},\"line\":{\"color\":\"white\"}},\"type\":\"table\"}]},\"layout\":{\"annotationdefaults\":{\"arrowcolor\":\"#2a3f5f\",\"arrowhead\":0,\"arrowwidth\":1},\"autotypenumbers\":\"strict\",\"coloraxis\":{\"colorbar\":{\"outlinewidth\":0,\"ticks\":\"\"}},\"colorscale\":{\"diverging\":[[0,\"#8e0152\"],[0.1,\"#c51b7d\"],[0.2,\"#de77ae\"],[0.3,\"#f1b6da\"],[0.4,\"#fde0ef\"],[0.5,\"#f7f7f7\"],[0.6,\"#e6f5d0\"],[0.7,\"#b8e186\"],[0.8,\"#7fbc41\"],[0.9,\"#4d9221\"],[1,\"#276419\"]],\"sequential\":[[0.0,\"#0d0887\"],[0.1111111111111111,\"#46039f\"],[0.2222222222222222,\"#7201a8\"],[0.3333333333333333,\"#9c179e\"],[0.4444444444444444,\"#bd3786\"],[0.5555555555555556,\"#d8576b\"],[0.6666666666666666,\"#ed7953\"],[0.7777777777777778,\"#fb9f3a\"],[0.8888888888888888,\"#fdca26\"],[1.0,\"#f0f921\"]],\"sequentialminus\":[[0.0,\"#0d0887\"],[0.1111111111111111,\"#46039f\"],[0.2222222222222222,\"#7201a8\"],[0.3333333333333333,\"#9c179e\"],[0.4444444444444444,\"#bd3786\"],[0.5555555555555556,\"#d8576b\"],[0.6666666666666666,\"#ed7953\"],[0.7777777777777778,\"#fb9f3a\"],[0.8888888888888888,\"#fdca26\"],[1.0,\"#f0f921\"]]},\"colorway\":[\"#636efa\",\"#EF553B\",\"#00cc96\",\"#ab63fa\",\"#FFA15A\",\"#19d3f3\",\"#FF6692\",\"#B6E880\",\"#FF97FF\",\"#FECB52\"],\"font\":{\"color\":\"#2a3f5f\"},\"geo\":{\"bgcolor\":\"white\",\"lakecolor\":\"white\",\"landcolor\":\"#E5ECF6\",\"showlakes\":true,\"showland\":true,\"subunitcolor\":\"white\"},\"hoverlabel\":{\"align\":\"left\"},\"hovermode\":\"closest\",\"mapbox\":{\"style\":\"light\"},\"paper_bgcolor\":\"white\",\"plot_bgcolor\":\"#E5ECF6\",\"polar\":{\"angularaxis\":{\"gridcolor\":\"white\",\"linecolor\":\"white\",\"ticks\":\"\"},\"bgcolor\":\"#E5ECF6\",\"radialaxis\":{\"gridcolor\":\"white\",\"linecolor\":\"white\",\"ticks\":\"\"}},\"scene\":{\"xaxis\":{\"backgroundcolor\":\"#E5ECF6\",\"gridcolor\":\"white\",\"gridwidth\":2,\"linecolor\":\"white\",\"showbackground\":true,\"ticks\":\"\",\"zerolinecolor\":\"white\"},\"yaxis\":{\"backgroundcolor\":\"#E5ECF6\",\"gridcolor\":\"white\",\"gridwidth\":2,\"linecolor\":\"white\",\"showbackground\":true,\"ticks\":\"\",\"zerolinecolor\":\"white\"},\"zaxis\":{\"backgroundcolor\":\"#E5ECF6\",\"gridcolor\":\"white\",\"gridwidth\":2,\"linecolor\":\"white\",\"showbackground\":true,\"ticks\":\"\",\"zerolinecolor\":\"white\"}},\"shapedefaults\":{\"line\":{\"color\":\"#2a3f5f\"}},\"ternary\":{\"aaxis\":{\"gridcolor\":\"white\",\"linecolor\":\"white\",\"ticks\":\"\"},\"baxis\":{\"gridcolor\":\"white\",\"linecolor\":\"white\",\"ticks\":\"\"},\"bgcolor\":\"#E5ECF6\",\"caxis\":{\"gridcolor\":\"white\",\"linecolor\":\"white\",\"ticks\":\"\"}},\"title\":{\"x\":0.05},\"xaxis\":{\"automargin\":true,\"gridcolor\":\"white\",\"linecolor\":\"white\",\"ticks\":\"\",\"title\":{\"standoff\":15},\"zerolinecolor\":\"white\",\"zerolinewidth\":2},\"yaxis\":{\"automargin\":true,\"gridcolor\":\"white\",\"linecolor\":\"white\",\"ticks\":\"\",\"title\":{\"standoff\":15},\"zerolinecolor\":\"white\",\"zerolinewidth\":2}}},\"xaxis\":{\"anchor\":\"y\",\"domain\":[0.0,1.0],\"title\":{\"text\":\"x\"}},\"yaxis\":{\"anchor\":\"x\",\"domain\":[0.0,1.0],\"title\":{\"text\":\"index\"}},\"legend\":{\"tracegroupgap\":0},\"title\":{\"text\":\"Age vs Glucose\"}},                        {\"responsive\": true}                    ).then(function(){\n",
       "                            \n",
       "var gd = document.getElementById('3939a2ff-d0f0-4825-bbe3-2800dd067d70');\n",
       "var x = new MutationObserver(function (mutations, observer) {{\n",
       "        var display = window.getComputedStyle(gd).display;\n",
       "        if (!display || display === 'none') {{\n",
       "            console.log([gd, 'removed!']);\n",
       "            Plotly.purge(gd);\n",
       "            observer.disconnect();\n",
       "        }}\n",
       "}});\n",
       "\n",
       "// Listen for the removal of the full notebook cells\n",
       "var notebookContainer = gd.closest('#notebook-container');\n",
       "if (notebookContainer) {{\n",
       "    x.observe(notebookContainer, {childList: true});\n",
       "}}\n",
       "\n",
       "// Listen for the clearing of the current output cell\n",
       "var outputEl = gd.closest('.output');\n",
       "if (outputEl) {{\n",
       "    x.observe(outputEl, {childList: true});\n",
       "}}\n",
       "\n",
       "                        })                };                });            </script>        </div>"
      ]
     },
     "metadata": {},
     "output_type": "display_data"
    }
   ],
   "source": [
    "## put your code here\n",
    "fig = px.scatter(SAS_df['Glucose'],SAS_df['AGE'],title='Age vs Glucose')\n",
    "fig.show()"
   ]
  },
  {
   "cell_type": "markdown",
   "metadata": {},
   "source": [
    "&#9989; **(6 pt):** Create a histogram for BMI distribution and have it seperated by sex. Make sure to include a title."
   ]
  },
  {
   "cell_type": "code",
   "execution_count": 59,
   "metadata": {},
   "outputs": [
    {
     "data": {
      "application/vnd.plotly.v1+json": {
       "config": {
        "plotlyServerURL": "https://plot.ly"
       },
       "data": [
        {
         "alignmentgroup": "True",
         "bingroup": "x",
         "hovertemplate": "SEX=2<br>BMI=%{x}<br>count=%{y}<extra></extra>",
         "legendgroup": "2",
         "marker": {
          "color": "#636efa",
          "pattern": {
           "shape": ""
          }
         },
         "name": "2",
         "offsetgroup": "2",
         "orientation": "v",
         "showlegend": true,
         "type": "histogram",
         "x": [
          32.1,
          30.5,
          22,
          26.2,
          32.1,
          28,
          26.2,
          24.7,
          27.5,
          24.3,
          32,
          25.2,
          25.8,
          38,
          23.5,
          33,
          27.7,
          25.6,
          25.4,
          32.7,
          23.1,
          22.5,
          27.7,
          27.9,
          24,
          26.8,
          25.7,
          24,
          24.1,
          24.7,
          25,
          23.6,
          26,
          24.5,
          26.6,
          23.5,
          29,
          24.3,
          19.4,
          22.6,
          27.3,
          25.9,
          22.2,
          30.2,
          23.4,
          30.6,
          25.5,
          23.4,
          27.7,
          26.5,
          31.8,
          25.4,
          33.9,
          29.6,
          25.6,
          26.2,
          35.3,
          24.4,
          21.4,
          36.7,
          27.7,
          27.5,
          30.7,
          31.9,
          27.8,
          25.9,
          26.3,
          22.3,
          28.3,
          32,
          23.3,
          32.3,
          33.1,
          20.8,
          31.9,
          24.5,
          33,
          19,
          27.3,
          28.2,
          26.8,
          26.9,
          23.1,
          24.7,
          30.3,
          22.5,
          23.5,
          25.9,
          28.7,
          26.7,
          21.2,
          26.5,
          29.2,
          27,
          28.8,
          24.7,
          35.1,
          29.7,
          22.7,
          24,
          29.4,
          22.1,
          23.6,
          24.9,
          33,
          26.4,
          25,
          25.5,
          33.3,
          25.6,
          24.2,
          22.1,
          31.4,
          35.5,
          31.6,
          21.2,
          24.1,
          38.2,
          19.2,
          29,
          24,
          20.6,
          34.6,
          29.2,
          27.2,
          24.5,
          25.3,
          23,
          24.1,
          28.1,
          18,
          24.3,
          24.8,
          31.5,
          33.5,
          23.5,
          30,
          22.9,
          25.1,
          24.1,
          22.8,
          22.7,
          26.2,
          23.5,
          26.5,
          31.3,
          27.7,
          32.1,
          25.7,
          25.6,
          21.2,
          29.2,
          24,
          25.8,
          22,
          25.2,
          31.9,
          28.4,
          26.1,
          28,
          23.6,
          21,
          32,
          22.6,
          19.7,
          30.6,
          25.5,
          23.3,
          31,
          26.9,
          36.1,
          24.1,
          25.8,
          39.1,
          42.2,
          26.6,
          25.5,
          24.2,
          26.1,
          27.3,
          26.6,
          18.1,
          23.7,
          23.6,
          24.6,
          24.1,
          26.5,
          32.8,
          23.6,
          23.5,
          28.5,
          23.3,
          37.8,
          25.3,
          23.8,
          27,
          27.9,
          33.6,
          22.7,
          27.4,
          23.2,
          26.9,
          34.6,
          23.5,
          28.2,
          24.9,
          24.9
         ],
         "xaxis": "x",
         "yaxis": "y"
        },
        {
         "alignmentgroup": "True",
         "bingroup": "x",
         "hovertemplate": "SEX=1<br>BMI=%{x}<br>count=%{y}<extra></extra>",
         "legendgroup": "1",
         "marker": {
          "color": "#EF553B",
          "pattern": {
           "shape": ""
          }
         },
         "name": "1",
         "offsetgroup": "1",
         "orientation": "v",
         "showlegend": true,
         "type": "histogram",
         "x": [
          21.6,
          25.3,
          23,
          22.6,
          30,
          18.6,
          23.7,
          24,
          30.3,
          25.4,
          24.7,
          21.1,
          26,
          29.7,
          19.2,
          31.9,
          24.4,
          30.5,
          20.3,
          21.7,
          20.5,
          28.5,
          27.4,
          20.1,
          24.2,
          25.3,
          19.6,
          25.7,
          25.5,
          24.9,
          28.7,
          21.8,
          30.2,
          20.5,
          20.4,
          26,
          22.9,
          22.1,
          19.9,
          29.5,
          23,
          21,
          22.9,
          27.5,
          23.1,
          27.3,
          22.7,
          33,
          25.8,
          21.9,
          24,
          31.2,
          26.8,
          20.4,
          24.8,
          21,
          34.6,
          20.4,
          28,
          29,
          32.4,
          19.3,
          31,
          26.8,
          28.3,
          36.6,
          24.4,
          22,
          26.8,
          28,
          28.6,
          20.7,
          20.6,
          27.9,
          19.9,
          30.4,
          31.6,
          18.8,
          31,
          32.1,
          30.8,
          26.9,
          38.3,
          35,
          32.9,
          26,
          25.4,
          20.3,
          30.4,
          20.6,
          29.2,
          24.6,
          20.2,
          32.8,
          23.9,
          22.1,
          22.8,
          28.9,
          25.6,
          24.9,
          22.4,
          28.6,
          21.3,
          26.1,
          20.2,
          25.2,
          20.9,
          22.1,
          31.4,
          22.2,
          21,
          30.7,
          30.6,
          30.1,
          27.7,
          29.8,
          26.7,
          19.8,
          23.3,
          29.3,
          20.3,
          22.5,
          22.8,
          24.2,
          20.2,
          25.2,
          23.5,
          29.8,
          30,
          27,
          20,
          28.2,
          23.1,
          23.4,
          18.8,
          30.8,
          32,
          31.6,
          31.9,
          29.5,
          20.3,
          41.3,
          23,
          25.6,
          22.5,
          26.3,
          23.4,
          27,
          24.1,
          28.8,
          20.9,
          25.9,
          21.5,
          24.5,
          21.3,
          25.8,
          28.1,
          24.3,
          35,
          20.7,
          25.6,
          33.2,
          29.5,
          29.6,
          22.1,
          32.4,
          30.1,
          24.2,
          30.1,
          24.5,
          23.2,
          27,
          26.8,
          29.2,
          31.2,
          26.9,
          31.4,
          37,
          32.6,
          36.1,
          21.9,
          34.3,
          23.3,
          25.7,
          25.1,
          28.1,
          25.3,
          24.5,
          21.2,
          18.5,
          28.3,
          25.7,
          22.8,
          29.9,
          21,
          25.4,
          23.2,
          32.7,
          22.8,
          28.8,
          32,
          22.6,
          27.8,
          19.9,
          22.1,
          28.1,
          26.5,
          26,
          27.8,
          30.6,
          22.2,
          35.4,
          31.4,
          18.9,
          35,
          21.7,
          31.8,
          34.3,
          26.3,
          27.2,
          33.8,
          33,
          24.1,
          21.3,
          23,
          22.6,
          23.3,
          21.1,
          31.5,
          20.8,
          26.5,
          24.2,
          19.5,
          30,
          19.6
         ],
         "xaxis": "x",
         "yaxis": "y"
        }
       ],
       "layout": {
        "barmode": "relative",
        "legend": {
         "title": {
          "text": "SEX"
         },
         "tracegroupgap": 0
        },
        "template": {
         "data": {
          "bar": [
           {
            "error_x": {
             "color": "#2a3f5f"
            },
            "error_y": {
             "color": "#2a3f5f"
            },
            "marker": {
             "line": {
              "color": "#E5ECF6",
              "width": 0.5
             },
             "pattern": {
              "fillmode": "overlay",
              "size": 10,
              "solidity": 0.2
             }
            },
            "type": "bar"
           }
          ],
          "barpolar": [
           {
            "marker": {
             "line": {
              "color": "#E5ECF6",
              "width": 0.5
             },
             "pattern": {
              "fillmode": "overlay",
              "size": 10,
              "solidity": 0.2
             }
            },
            "type": "barpolar"
           }
          ],
          "carpet": [
           {
            "aaxis": {
             "endlinecolor": "#2a3f5f",
             "gridcolor": "white",
             "linecolor": "white",
             "minorgridcolor": "white",
             "startlinecolor": "#2a3f5f"
            },
            "baxis": {
             "endlinecolor": "#2a3f5f",
             "gridcolor": "white",
             "linecolor": "white",
             "minorgridcolor": "white",
             "startlinecolor": "#2a3f5f"
            },
            "type": "carpet"
           }
          ],
          "choropleth": [
           {
            "colorbar": {
             "outlinewidth": 0,
             "ticks": ""
            },
            "type": "choropleth"
           }
          ],
          "contour": [
           {
            "colorbar": {
             "outlinewidth": 0,
             "ticks": ""
            },
            "colorscale": [
             [
              0,
              "#0d0887"
             ],
             [
              0.1111111111111111,
              "#46039f"
             ],
             [
              0.2222222222222222,
              "#7201a8"
             ],
             [
              0.3333333333333333,
              "#9c179e"
             ],
             [
              0.4444444444444444,
              "#bd3786"
             ],
             [
              0.5555555555555556,
              "#d8576b"
             ],
             [
              0.6666666666666666,
              "#ed7953"
             ],
             [
              0.7777777777777778,
              "#fb9f3a"
             ],
             [
              0.8888888888888888,
              "#fdca26"
             ],
             [
              1,
              "#f0f921"
             ]
            ],
            "type": "contour"
           }
          ],
          "contourcarpet": [
           {
            "colorbar": {
             "outlinewidth": 0,
             "ticks": ""
            },
            "type": "contourcarpet"
           }
          ],
          "heatmap": [
           {
            "colorbar": {
             "outlinewidth": 0,
             "ticks": ""
            },
            "colorscale": [
             [
              0,
              "#0d0887"
             ],
             [
              0.1111111111111111,
              "#46039f"
             ],
             [
              0.2222222222222222,
              "#7201a8"
             ],
             [
              0.3333333333333333,
              "#9c179e"
             ],
             [
              0.4444444444444444,
              "#bd3786"
             ],
             [
              0.5555555555555556,
              "#d8576b"
             ],
             [
              0.6666666666666666,
              "#ed7953"
             ],
             [
              0.7777777777777778,
              "#fb9f3a"
             ],
             [
              0.8888888888888888,
              "#fdca26"
             ],
             [
              1,
              "#f0f921"
             ]
            ],
            "type": "heatmap"
           }
          ],
          "heatmapgl": [
           {
            "colorbar": {
             "outlinewidth": 0,
             "ticks": ""
            },
            "colorscale": [
             [
              0,
              "#0d0887"
             ],
             [
              0.1111111111111111,
              "#46039f"
             ],
             [
              0.2222222222222222,
              "#7201a8"
             ],
             [
              0.3333333333333333,
              "#9c179e"
             ],
             [
              0.4444444444444444,
              "#bd3786"
             ],
             [
              0.5555555555555556,
              "#d8576b"
             ],
             [
              0.6666666666666666,
              "#ed7953"
             ],
             [
              0.7777777777777778,
              "#fb9f3a"
             ],
             [
              0.8888888888888888,
              "#fdca26"
             ],
             [
              1,
              "#f0f921"
             ]
            ],
            "type": "heatmapgl"
           }
          ],
          "histogram": [
           {
            "marker": {
             "pattern": {
              "fillmode": "overlay",
              "size": 10,
              "solidity": 0.2
             }
            },
            "type": "histogram"
           }
          ],
          "histogram2d": [
           {
            "colorbar": {
             "outlinewidth": 0,
             "ticks": ""
            },
            "colorscale": [
             [
              0,
              "#0d0887"
             ],
             [
              0.1111111111111111,
              "#46039f"
             ],
             [
              0.2222222222222222,
              "#7201a8"
             ],
             [
              0.3333333333333333,
              "#9c179e"
             ],
             [
              0.4444444444444444,
              "#bd3786"
             ],
             [
              0.5555555555555556,
              "#d8576b"
             ],
             [
              0.6666666666666666,
              "#ed7953"
             ],
             [
              0.7777777777777778,
              "#fb9f3a"
             ],
             [
              0.8888888888888888,
              "#fdca26"
             ],
             [
              1,
              "#f0f921"
             ]
            ],
            "type": "histogram2d"
           }
          ],
          "histogram2dcontour": [
           {
            "colorbar": {
             "outlinewidth": 0,
             "ticks": ""
            },
            "colorscale": [
             [
              0,
              "#0d0887"
             ],
             [
              0.1111111111111111,
              "#46039f"
             ],
             [
              0.2222222222222222,
              "#7201a8"
             ],
             [
              0.3333333333333333,
              "#9c179e"
             ],
             [
              0.4444444444444444,
              "#bd3786"
             ],
             [
              0.5555555555555556,
              "#d8576b"
             ],
             [
              0.6666666666666666,
              "#ed7953"
             ],
             [
              0.7777777777777778,
              "#fb9f3a"
             ],
             [
              0.8888888888888888,
              "#fdca26"
             ],
             [
              1,
              "#f0f921"
             ]
            ],
            "type": "histogram2dcontour"
           }
          ],
          "mesh3d": [
           {
            "colorbar": {
             "outlinewidth": 0,
             "ticks": ""
            },
            "type": "mesh3d"
           }
          ],
          "parcoords": [
           {
            "line": {
             "colorbar": {
              "outlinewidth": 0,
              "ticks": ""
             }
            },
            "type": "parcoords"
           }
          ],
          "pie": [
           {
            "automargin": true,
            "type": "pie"
           }
          ],
          "scatter": [
           {
            "marker": {
             "colorbar": {
              "outlinewidth": 0,
              "ticks": ""
             }
            },
            "type": "scatter"
           }
          ],
          "scatter3d": [
           {
            "line": {
             "colorbar": {
              "outlinewidth": 0,
              "ticks": ""
             }
            },
            "marker": {
             "colorbar": {
              "outlinewidth": 0,
              "ticks": ""
             }
            },
            "type": "scatter3d"
           }
          ],
          "scattercarpet": [
           {
            "marker": {
             "colorbar": {
              "outlinewidth": 0,
              "ticks": ""
             }
            },
            "type": "scattercarpet"
           }
          ],
          "scattergeo": [
           {
            "marker": {
             "colorbar": {
              "outlinewidth": 0,
              "ticks": ""
             }
            },
            "type": "scattergeo"
           }
          ],
          "scattergl": [
           {
            "marker": {
             "colorbar": {
              "outlinewidth": 0,
              "ticks": ""
             }
            },
            "type": "scattergl"
           }
          ],
          "scattermapbox": [
           {
            "marker": {
             "colorbar": {
              "outlinewidth": 0,
              "ticks": ""
             }
            },
            "type": "scattermapbox"
           }
          ],
          "scatterpolar": [
           {
            "marker": {
             "colorbar": {
              "outlinewidth": 0,
              "ticks": ""
             }
            },
            "type": "scatterpolar"
           }
          ],
          "scatterpolargl": [
           {
            "marker": {
             "colorbar": {
              "outlinewidth": 0,
              "ticks": ""
             }
            },
            "type": "scatterpolargl"
           }
          ],
          "scatterternary": [
           {
            "marker": {
             "colorbar": {
              "outlinewidth": 0,
              "ticks": ""
             }
            },
            "type": "scatterternary"
           }
          ],
          "surface": [
           {
            "colorbar": {
             "outlinewidth": 0,
             "ticks": ""
            },
            "colorscale": [
             [
              0,
              "#0d0887"
             ],
             [
              0.1111111111111111,
              "#46039f"
             ],
             [
              0.2222222222222222,
              "#7201a8"
             ],
             [
              0.3333333333333333,
              "#9c179e"
             ],
             [
              0.4444444444444444,
              "#bd3786"
             ],
             [
              0.5555555555555556,
              "#d8576b"
             ],
             [
              0.6666666666666666,
              "#ed7953"
             ],
             [
              0.7777777777777778,
              "#fb9f3a"
             ],
             [
              0.8888888888888888,
              "#fdca26"
             ],
             [
              1,
              "#f0f921"
             ]
            ],
            "type": "surface"
           }
          ],
          "table": [
           {
            "cells": {
             "fill": {
              "color": "#EBF0F8"
             },
             "line": {
              "color": "white"
             }
            },
            "header": {
             "fill": {
              "color": "#C8D4E3"
             },
             "line": {
              "color": "white"
             }
            },
            "type": "table"
           }
          ]
         },
         "layout": {
          "annotationdefaults": {
           "arrowcolor": "#2a3f5f",
           "arrowhead": 0,
           "arrowwidth": 1
          },
          "autotypenumbers": "strict",
          "coloraxis": {
           "colorbar": {
            "outlinewidth": 0,
            "ticks": ""
           }
          },
          "colorscale": {
           "diverging": [
            [
             0,
             "#8e0152"
            ],
            [
             0.1,
             "#c51b7d"
            ],
            [
             0.2,
             "#de77ae"
            ],
            [
             0.3,
             "#f1b6da"
            ],
            [
             0.4,
             "#fde0ef"
            ],
            [
             0.5,
             "#f7f7f7"
            ],
            [
             0.6,
             "#e6f5d0"
            ],
            [
             0.7,
             "#b8e186"
            ],
            [
             0.8,
             "#7fbc41"
            ],
            [
             0.9,
             "#4d9221"
            ],
            [
             1,
             "#276419"
            ]
           ],
           "sequential": [
            [
             0,
             "#0d0887"
            ],
            [
             0.1111111111111111,
             "#46039f"
            ],
            [
             0.2222222222222222,
             "#7201a8"
            ],
            [
             0.3333333333333333,
             "#9c179e"
            ],
            [
             0.4444444444444444,
             "#bd3786"
            ],
            [
             0.5555555555555556,
             "#d8576b"
            ],
            [
             0.6666666666666666,
             "#ed7953"
            ],
            [
             0.7777777777777778,
             "#fb9f3a"
            ],
            [
             0.8888888888888888,
             "#fdca26"
            ],
            [
             1,
             "#f0f921"
            ]
           ],
           "sequentialminus": [
            [
             0,
             "#0d0887"
            ],
            [
             0.1111111111111111,
             "#46039f"
            ],
            [
             0.2222222222222222,
             "#7201a8"
            ],
            [
             0.3333333333333333,
             "#9c179e"
            ],
            [
             0.4444444444444444,
             "#bd3786"
            ],
            [
             0.5555555555555556,
             "#d8576b"
            ],
            [
             0.6666666666666666,
             "#ed7953"
            ],
            [
             0.7777777777777778,
             "#fb9f3a"
            ],
            [
             0.8888888888888888,
             "#fdca26"
            ],
            [
             1,
             "#f0f921"
            ]
           ]
          },
          "colorway": [
           "#636efa",
           "#EF553B",
           "#00cc96",
           "#ab63fa",
           "#FFA15A",
           "#19d3f3",
           "#FF6692",
           "#B6E880",
           "#FF97FF",
           "#FECB52"
          ],
          "font": {
           "color": "#2a3f5f"
          },
          "geo": {
           "bgcolor": "white",
           "lakecolor": "white",
           "landcolor": "#E5ECF6",
           "showlakes": true,
           "showland": true,
           "subunitcolor": "white"
          },
          "hoverlabel": {
           "align": "left"
          },
          "hovermode": "closest",
          "mapbox": {
           "style": "light"
          },
          "paper_bgcolor": "white",
          "plot_bgcolor": "#E5ECF6",
          "polar": {
           "angularaxis": {
            "gridcolor": "white",
            "linecolor": "white",
            "ticks": ""
           },
           "bgcolor": "#E5ECF6",
           "radialaxis": {
            "gridcolor": "white",
            "linecolor": "white",
            "ticks": ""
           }
          },
          "scene": {
           "xaxis": {
            "backgroundcolor": "#E5ECF6",
            "gridcolor": "white",
            "gridwidth": 2,
            "linecolor": "white",
            "showbackground": true,
            "ticks": "",
            "zerolinecolor": "white"
           },
           "yaxis": {
            "backgroundcolor": "#E5ECF6",
            "gridcolor": "white",
            "gridwidth": 2,
            "linecolor": "white",
            "showbackground": true,
            "ticks": "",
            "zerolinecolor": "white"
           },
           "zaxis": {
            "backgroundcolor": "#E5ECF6",
            "gridcolor": "white",
            "gridwidth": 2,
            "linecolor": "white",
            "showbackground": true,
            "ticks": "",
            "zerolinecolor": "white"
           }
          },
          "shapedefaults": {
           "line": {
            "color": "#2a3f5f"
           }
          },
          "ternary": {
           "aaxis": {
            "gridcolor": "white",
            "linecolor": "white",
            "ticks": ""
           },
           "baxis": {
            "gridcolor": "white",
            "linecolor": "white",
            "ticks": ""
           },
           "bgcolor": "#E5ECF6",
           "caxis": {
            "gridcolor": "white",
            "linecolor": "white",
            "ticks": ""
           }
          },
          "title": {
           "x": 0.05
          },
          "xaxis": {
           "automargin": true,
           "gridcolor": "white",
           "linecolor": "white",
           "ticks": "",
           "title": {
            "standoff": 15
           },
           "zerolinecolor": "white",
           "zerolinewidth": 2
          },
          "yaxis": {
           "automargin": true,
           "gridcolor": "white",
           "linecolor": "white",
           "ticks": "",
           "title": {
            "standoff": 15
           },
           "zerolinecolor": "white",
           "zerolinewidth": 2
          }
         }
        },
        "title": {
         "text": "BMI Histogram for male(blue) and female(orange)"
        },
        "xaxis": {
         "anchor": "y",
         "domain": [
          0,
          1
         ],
         "title": {
          "text": "BMI"
         }
        },
        "yaxis": {
         "anchor": "x",
         "domain": [
          0,
          1
         ],
         "title": {
          "text": "count"
         }
        }
       }
      },
      "text/html": [
       "<div>                            <div id=\"ff410230-aa94-487d-9d60-cdf3aa5ac487\" class=\"plotly-graph-div\" style=\"height:525px; width:100%;\"></div>            <script type=\"text/javascript\">                require([\"plotly\"], function(Plotly) {                    window.PLOTLYENV=window.PLOTLYENV || {};                                    if (document.getElementById(\"ff410230-aa94-487d-9d60-cdf3aa5ac487\")) {                    Plotly.newPlot(                        \"ff410230-aa94-487d-9d60-cdf3aa5ac487\",                        [{\"alignmentgroup\":\"True\",\"bingroup\":\"x\",\"hovertemplate\":\"SEX=2<br>BMI=%{x}<br>count=%{y}<extra></extra>\",\"legendgroup\":\"2\",\"marker\":{\"color\":\"#636efa\",\"pattern\":{\"shape\":\"\"}},\"name\":\"2\",\"offsetgroup\":\"2\",\"orientation\":\"v\",\"showlegend\":true,\"x\":[32.1,30.5,22.0,26.2,32.1,28.0,26.2,24.7,27.5,24.3,32.0,25.2,25.8,38.0,23.5,33.0,27.7,25.6,25.4,32.7,23.1,22.5,27.7,27.9,24.0,26.8,25.7,24.0,24.1,24.7,25.0,23.6,26.0,24.5,26.6,23.5,29.0,24.3,19.4,22.6,27.3,25.9,22.2,30.2,23.4,30.6,25.5,23.4,27.7,26.5,31.8,25.4,33.9,29.6,25.6,26.2,35.3,24.4,21.4,36.7,27.7,27.5,30.7,31.9,27.8,25.9,26.3,22.3,28.3,32.0,23.3,32.3,33.1,20.8,31.9,24.5,33.0,19.0,27.3,28.2,26.8,26.9,23.1,24.7,30.3,22.5,23.5,25.9,28.7,26.7,21.2,26.5,29.2,27.0,28.8,24.7,35.1,29.7,22.7,24.0,29.4,22.1,23.6,24.9,33.0,26.4,25.0,25.5,33.3,25.6,24.2,22.1,31.4,35.5,31.6,21.2,24.1,38.2,19.2,29.0,24.0,20.6,34.6,29.2,27.2,24.5,25.3,23.0,24.1,28.1,18.0,24.3,24.8,31.5,33.5,23.5,30.0,22.9,25.1,24.1,22.8,22.7,26.2,23.5,26.5,31.3,27.7,32.1,25.7,25.6,21.2,29.2,24.0,25.8,22.0,25.2,31.9,28.4,26.1,28.0,23.6,21.0,32.0,22.6,19.7,30.6,25.5,23.3,31.0,26.9,36.1,24.1,25.8,39.1,42.2,26.6,25.5,24.2,26.1,27.3,26.6,18.1,23.7,23.6,24.6,24.1,26.5,32.8,23.6,23.5,28.5,23.3,37.8,25.3,23.8,27.0,27.9,33.6,22.7,27.4,23.2,26.9,34.6,23.5,28.2,24.9,24.9],\"xaxis\":\"x\",\"yaxis\":\"y\",\"type\":\"histogram\"},{\"alignmentgroup\":\"True\",\"bingroup\":\"x\",\"hovertemplate\":\"SEX=1<br>BMI=%{x}<br>count=%{y}<extra></extra>\",\"legendgroup\":\"1\",\"marker\":{\"color\":\"#EF553B\",\"pattern\":{\"shape\":\"\"}},\"name\":\"1\",\"offsetgroup\":\"1\",\"orientation\":\"v\",\"showlegend\":true,\"x\":[21.6,25.3,23.0,22.6,30.0,18.6,23.7,24.0,30.3,25.4,24.7,21.1,26.0,29.7,19.2,31.9,24.4,30.5,20.3,21.7,20.5,28.5,27.4,20.1,24.2,25.3,19.6,25.7,25.5,24.9,28.7,21.8,30.2,20.5,20.4,26.0,22.9,22.1,19.9,29.5,23.0,21.0,22.9,27.5,23.1,27.3,22.7,33.0,25.8,21.9,24.0,31.2,26.8,20.4,24.8,21.0,34.6,20.4,28.0,29.0,32.4,19.3,31.0,26.8,28.3,36.6,24.4,22.0,26.8,28.0,28.6,20.7,20.6,27.9,19.9,30.4,31.6,18.8,31.0,32.1,30.8,26.9,38.3,35.0,32.9,26.0,25.4,20.3,30.4,20.6,29.2,24.6,20.2,32.8,23.9,22.1,22.8,28.9,25.6,24.9,22.4,28.6,21.3,26.1,20.2,25.2,20.9,22.1,31.4,22.2,21.0,30.7,30.6,30.1,27.7,29.8,26.7,19.8,23.3,29.3,20.3,22.5,22.8,24.2,20.2,25.2,23.5,29.8,30.0,27.0,20.0,28.2,23.1,23.4,18.8,30.8,32.0,31.6,31.9,29.5,20.3,41.3,23.0,25.6,22.5,26.3,23.4,27.0,24.1,28.8,20.9,25.9,21.5,24.5,21.3,25.8,28.1,24.3,35.0,20.7,25.6,33.2,29.5,29.6,22.1,32.4,30.1,24.2,30.1,24.5,23.2,27.0,26.8,29.2,31.2,26.9,31.4,37.0,32.6,36.1,21.9,34.3,23.3,25.7,25.1,28.1,25.3,24.5,21.2,18.5,28.3,25.7,22.8,29.9,21.0,25.4,23.2,32.7,22.8,28.8,32.0,22.6,27.8,19.9,22.1,28.1,26.5,26.0,27.8,30.6,22.2,35.4,31.4,18.9,35.0,21.7,31.8,34.3,26.3,27.2,33.8,33.0,24.1,21.3,23.0,22.6,23.3,21.1,31.5,20.8,26.5,24.2,19.5,30.0,19.6],\"xaxis\":\"x\",\"yaxis\":\"y\",\"type\":\"histogram\"}],                        {\"template\":{\"data\":{\"bar\":[{\"error_x\":{\"color\":\"#2a3f5f\"},\"error_y\":{\"color\":\"#2a3f5f\"},\"marker\":{\"line\":{\"color\":\"#E5ECF6\",\"width\":0.5},\"pattern\":{\"fillmode\":\"overlay\",\"size\":10,\"solidity\":0.2}},\"type\":\"bar\"}],\"barpolar\":[{\"marker\":{\"line\":{\"color\":\"#E5ECF6\",\"width\":0.5},\"pattern\":{\"fillmode\":\"overlay\",\"size\":10,\"solidity\":0.2}},\"type\":\"barpolar\"}],\"carpet\":[{\"aaxis\":{\"endlinecolor\":\"#2a3f5f\",\"gridcolor\":\"white\",\"linecolor\":\"white\",\"minorgridcolor\":\"white\",\"startlinecolor\":\"#2a3f5f\"},\"baxis\":{\"endlinecolor\":\"#2a3f5f\",\"gridcolor\":\"white\",\"linecolor\":\"white\",\"minorgridcolor\":\"white\",\"startlinecolor\":\"#2a3f5f\"},\"type\":\"carpet\"}],\"choropleth\":[{\"colorbar\":{\"outlinewidth\":0,\"ticks\":\"\"},\"type\":\"choropleth\"}],\"contour\":[{\"colorbar\":{\"outlinewidth\":0,\"ticks\":\"\"},\"colorscale\":[[0.0,\"#0d0887\"],[0.1111111111111111,\"#46039f\"],[0.2222222222222222,\"#7201a8\"],[0.3333333333333333,\"#9c179e\"],[0.4444444444444444,\"#bd3786\"],[0.5555555555555556,\"#d8576b\"],[0.6666666666666666,\"#ed7953\"],[0.7777777777777778,\"#fb9f3a\"],[0.8888888888888888,\"#fdca26\"],[1.0,\"#f0f921\"]],\"type\":\"contour\"}],\"contourcarpet\":[{\"colorbar\":{\"outlinewidth\":0,\"ticks\":\"\"},\"type\":\"contourcarpet\"}],\"heatmap\":[{\"colorbar\":{\"outlinewidth\":0,\"ticks\":\"\"},\"colorscale\":[[0.0,\"#0d0887\"],[0.1111111111111111,\"#46039f\"],[0.2222222222222222,\"#7201a8\"],[0.3333333333333333,\"#9c179e\"],[0.4444444444444444,\"#bd3786\"],[0.5555555555555556,\"#d8576b\"],[0.6666666666666666,\"#ed7953\"],[0.7777777777777778,\"#fb9f3a\"],[0.8888888888888888,\"#fdca26\"],[1.0,\"#f0f921\"]],\"type\":\"heatmap\"}],\"heatmapgl\":[{\"colorbar\":{\"outlinewidth\":0,\"ticks\":\"\"},\"colorscale\":[[0.0,\"#0d0887\"],[0.1111111111111111,\"#46039f\"],[0.2222222222222222,\"#7201a8\"],[0.3333333333333333,\"#9c179e\"],[0.4444444444444444,\"#bd3786\"],[0.5555555555555556,\"#d8576b\"],[0.6666666666666666,\"#ed7953\"],[0.7777777777777778,\"#fb9f3a\"],[0.8888888888888888,\"#fdca26\"],[1.0,\"#f0f921\"]],\"type\":\"heatmapgl\"}],\"histogram\":[{\"marker\":{\"pattern\":{\"fillmode\":\"overlay\",\"size\":10,\"solidity\":0.2}},\"type\":\"histogram\"}],\"histogram2d\":[{\"colorbar\":{\"outlinewidth\":0,\"ticks\":\"\"},\"colorscale\":[[0.0,\"#0d0887\"],[0.1111111111111111,\"#46039f\"],[0.2222222222222222,\"#7201a8\"],[0.3333333333333333,\"#9c179e\"],[0.4444444444444444,\"#bd3786\"],[0.5555555555555556,\"#d8576b\"],[0.6666666666666666,\"#ed7953\"],[0.7777777777777778,\"#fb9f3a\"],[0.8888888888888888,\"#fdca26\"],[1.0,\"#f0f921\"]],\"type\":\"histogram2d\"}],\"histogram2dcontour\":[{\"colorbar\":{\"outlinewidth\":0,\"ticks\":\"\"},\"colorscale\":[[0.0,\"#0d0887\"],[0.1111111111111111,\"#46039f\"],[0.2222222222222222,\"#7201a8\"],[0.3333333333333333,\"#9c179e\"],[0.4444444444444444,\"#bd3786\"],[0.5555555555555556,\"#d8576b\"],[0.6666666666666666,\"#ed7953\"],[0.7777777777777778,\"#fb9f3a\"],[0.8888888888888888,\"#fdca26\"],[1.0,\"#f0f921\"]],\"type\":\"histogram2dcontour\"}],\"mesh3d\":[{\"colorbar\":{\"outlinewidth\":0,\"ticks\":\"\"},\"type\":\"mesh3d\"}],\"parcoords\":[{\"line\":{\"colorbar\":{\"outlinewidth\":0,\"ticks\":\"\"}},\"type\":\"parcoords\"}],\"pie\":[{\"automargin\":true,\"type\":\"pie\"}],\"scatter\":[{\"marker\":{\"colorbar\":{\"outlinewidth\":0,\"ticks\":\"\"}},\"type\":\"scatter\"}],\"scatter3d\":[{\"line\":{\"colorbar\":{\"outlinewidth\":0,\"ticks\":\"\"}},\"marker\":{\"colorbar\":{\"outlinewidth\":0,\"ticks\":\"\"}},\"type\":\"scatter3d\"}],\"scattercarpet\":[{\"marker\":{\"colorbar\":{\"outlinewidth\":0,\"ticks\":\"\"}},\"type\":\"scattercarpet\"}],\"scattergeo\":[{\"marker\":{\"colorbar\":{\"outlinewidth\":0,\"ticks\":\"\"}},\"type\":\"scattergeo\"}],\"scattergl\":[{\"marker\":{\"colorbar\":{\"outlinewidth\":0,\"ticks\":\"\"}},\"type\":\"scattergl\"}],\"scattermapbox\":[{\"marker\":{\"colorbar\":{\"outlinewidth\":0,\"ticks\":\"\"}},\"type\":\"scattermapbox\"}],\"scatterpolar\":[{\"marker\":{\"colorbar\":{\"outlinewidth\":0,\"ticks\":\"\"}},\"type\":\"scatterpolar\"}],\"scatterpolargl\":[{\"marker\":{\"colorbar\":{\"outlinewidth\":0,\"ticks\":\"\"}},\"type\":\"scatterpolargl\"}],\"scatterternary\":[{\"marker\":{\"colorbar\":{\"outlinewidth\":0,\"ticks\":\"\"}},\"type\":\"scatterternary\"}],\"surface\":[{\"colorbar\":{\"outlinewidth\":0,\"ticks\":\"\"},\"colorscale\":[[0.0,\"#0d0887\"],[0.1111111111111111,\"#46039f\"],[0.2222222222222222,\"#7201a8\"],[0.3333333333333333,\"#9c179e\"],[0.4444444444444444,\"#bd3786\"],[0.5555555555555556,\"#d8576b\"],[0.6666666666666666,\"#ed7953\"],[0.7777777777777778,\"#fb9f3a\"],[0.8888888888888888,\"#fdca26\"],[1.0,\"#f0f921\"]],\"type\":\"surface\"}],\"table\":[{\"cells\":{\"fill\":{\"color\":\"#EBF0F8\"},\"line\":{\"color\":\"white\"}},\"header\":{\"fill\":{\"color\":\"#C8D4E3\"},\"line\":{\"color\":\"white\"}},\"type\":\"table\"}]},\"layout\":{\"annotationdefaults\":{\"arrowcolor\":\"#2a3f5f\",\"arrowhead\":0,\"arrowwidth\":1},\"autotypenumbers\":\"strict\",\"coloraxis\":{\"colorbar\":{\"outlinewidth\":0,\"ticks\":\"\"}},\"colorscale\":{\"diverging\":[[0,\"#8e0152\"],[0.1,\"#c51b7d\"],[0.2,\"#de77ae\"],[0.3,\"#f1b6da\"],[0.4,\"#fde0ef\"],[0.5,\"#f7f7f7\"],[0.6,\"#e6f5d0\"],[0.7,\"#b8e186\"],[0.8,\"#7fbc41\"],[0.9,\"#4d9221\"],[1,\"#276419\"]],\"sequential\":[[0.0,\"#0d0887\"],[0.1111111111111111,\"#46039f\"],[0.2222222222222222,\"#7201a8\"],[0.3333333333333333,\"#9c179e\"],[0.4444444444444444,\"#bd3786\"],[0.5555555555555556,\"#d8576b\"],[0.6666666666666666,\"#ed7953\"],[0.7777777777777778,\"#fb9f3a\"],[0.8888888888888888,\"#fdca26\"],[1.0,\"#f0f921\"]],\"sequentialminus\":[[0.0,\"#0d0887\"],[0.1111111111111111,\"#46039f\"],[0.2222222222222222,\"#7201a8\"],[0.3333333333333333,\"#9c179e\"],[0.4444444444444444,\"#bd3786\"],[0.5555555555555556,\"#d8576b\"],[0.6666666666666666,\"#ed7953\"],[0.7777777777777778,\"#fb9f3a\"],[0.8888888888888888,\"#fdca26\"],[1.0,\"#f0f921\"]]},\"colorway\":[\"#636efa\",\"#EF553B\",\"#00cc96\",\"#ab63fa\",\"#FFA15A\",\"#19d3f3\",\"#FF6692\",\"#B6E880\",\"#FF97FF\",\"#FECB52\"],\"font\":{\"color\":\"#2a3f5f\"},\"geo\":{\"bgcolor\":\"white\",\"lakecolor\":\"white\",\"landcolor\":\"#E5ECF6\",\"showlakes\":true,\"showland\":true,\"subunitcolor\":\"white\"},\"hoverlabel\":{\"align\":\"left\"},\"hovermode\":\"closest\",\"mapbox\":{\"style\":\"light\"},\"paper_bgcolor\":\"white\",\"plot_bgcolor\":\"#E5ECF6\",\"polar\":{\"angularaxis\":{\"gridcolor\":\"white\",\"linecolor\":\"white\",\"ticks\":\"\"},\"bgcolor\":\"#E5ECF6\",\"radialaxis\":{\"gridcolor\":\"white\",\"linecolor\":\"white\",\"ticks\":\"\"}},\"scene\":{\"xaxis\":{\"backgroundcolor\":\"#E5ECF6\",\"gridcolor\":\"white\",\"gridwidth\":2,\"linecolor\":\"white\",\"showbackground\":true,\"ticks\":\"\",\"zerolinecolor\":\"white\"},\"yaxis\":{\"backgroundcolor\":\"#E5ECF6\",\"gridcolor\":\"white\",\"gridwidth\":2,\"linecolor\":\"white\",\"showbackground\":true,\"ticks\":\"\",\"zerolinecolor\":\"white\"},\"zaxis\":{\"backgroundcolor\":\"#E5ECF6\",\"gridcolor\":\"white\",\"gridwidth\":2,\"linecolor\":\"white\",\"showbackground\":true,\"ticks\":\"\",\"zerolinecolor\":\"white\"}},\"shapedefaults\":{\"line\":{\"color\":\"#2a3f5f\"}},\"ternary\":{\"aaxis\":{\"gridcolor\":\"white\",\"linecolor\":\"white\",\"ticks\":\"\"},\"baxis\":{\"gridcolor\":\"white\",\"linecolor\":\"white\",\"ticks\":\"\"},\"bgcolor\":\"#E5ECF6\",\"caxis\":{\"gridcolor\":\"white\",\"linecolor\":\"white\",\"ticks\":\"\"}},\"title\":{\"x\":0.05},\"xaxis\":{\"automargin\":true,\"gridcolor\":\"white\",\"linecolor\":\"white\",\"ticks\":\"\",\"title\":{\"standoff\":15},\"zerolinecolor\":\"white\",\"zerolinewidth\":2},\"yaxis\":{\"automargin\":true,\"gridcolor\":\"white\",\"linecolor\":\"white\",\"ticks\":\"\",\"title\":{\"standoff\":15},\"zerolinecolor\":\"white\",\"zerolinewidth\":2}}},\"xaxis\":{\"anchor\":\"y\",\"domain\":[0.0,1.0],\"title\":{\"text\":\"BMI\"}},\"yaxis\":{\"anchor\":\"x\",\"domain\":[0.0,1.0],\"title\":{\"text\":\"count\"}},\"legend\":{\"title\":{\"text\":\"SEX\"},\"tracegroupgap\":0},\"title\":{\"text\":\"BMI Histogram for male(blue) and female(orange)\"},\"barmode\":\"relative\"},                        {\"responsive\": true}                    ).then(function(){\n",
       "                            \n",
       "var gd = document.getElementById('ff410230-aa94-487d-9d60-cdf3aa5ac487');\n",
       "var x = new MutationObserver(function (mutations, observer) {{\n",
       "        var display = window.getComputedStyle(gd).display;\n",
       "        if (!display || display === 'none') {{\n",
       "            console.log([gd, 'removed!']);\n",
       "            Plotly.purge(gd);\n",
       "            observer.disconnect();\n",
       "        }}\n",
       "}});\n",
       "\n",
       "// Listen for the removal of the full notebook cells\n",
       "var notebookContainer = gd.closest('#notebook-container');\n",
       "if (notebookContainer) {{\n",
       "    x.observe(notebookContainer, {childList: true});\n",
       "}}\n",
       "\n",
       "// Listen for the clearing of the current output cell\n",
       "var outputEl = gd.closest('.output');\n",
       "if (outputEl) {{\n",
       "    x.observe(outputEl, {childList: true});\n",
       "}}\n",
       "\n",
       "                        })                };                });            </script>        </div>"
      ]
     },
     "metadata": {},
     "output_type": "display_data"
    }
   ],
   "source": [
    "## put your code here\n",
    "hist_fig=px.histogram(SAS_df,x='BMI', color='SEX',title='BMI Histogram for male(blue) and female(orange)')\n",
    "hist_fig.show()"
   ]
  },
  {
   "cell_type": "markdown",
   "metadata": {},
   "source": [
    "&#9989; **(6 pt):** Draw a scatter matrix plot of the data with the variables: **AGE, BMI, LD_lipo, triglycerides, and Glucose.** Make sure to include a title for your plot. (**Note** It may be useful to use Google to help you find relevant documentation.)"
   ]
  },
  {
   "cell_type": "code",
   "execution_count": 65,
   "metadata": {},
   "outputs": [
    {
     "data": {
      "application/vnd.plotly.v1+json": {
       "config": {
        "plotlyServerURL": "https://plot.ly"
       },
       "data": [
        {
         "dimensions": [
          {
           "axis": {
            "matches": true
           },
           "label": "AGE",
           "values": [
            59,
            48,
            72,
            24,
            50,
            23,
            36,
            66,
            60,
            29,
            22,
            56,
            53,
            50,
            61,
            34,
            47,
            68,
            38,
            41,
            35,
            25,
            25,
            61,
            31,
            30,
            19,
            42,
            63,
            67,
            32,
            42,
            58,
            57,
            53,
            62,
            52,
            46,
            48,
            48,
            50,
            21,
            32,
            54,
            61,
            56,
            33,
            27,
            67,
            37,
            58,
            65,
            34,
            46,
            35,
            37,
            37,
            41,
            60,
            66,
            29,
            37,
            41,
            39,
            67,
            36,
            46,
            60,
            59,
            53,
            48,
            48,
            66,
            52,
            52,
            46,
            40,
            22,
            50,
            20,
            68,
            52,
            44,
            38,
            49,
            61,
            29,
            61,
            34,
            36,
            52,
            61,
            43,
            35,
            27,
            29,
            64,
            41,
            49,
            48,
            53,
            53,
            23,
            65,
            41,
            55,
            22,
            56,
            54,
            59,
            60,
            54,
            25,
            54,
            55,
            40,
            62,
            65,
            33,
            53,
            35,
            66,
            62,
            50,
            47,
            47,
            24,
            58,
            34,
            51,
            31,
            22,
            53,
            37,
            28,
            47,
            23,
            50,
            58,
            55,
            60,
            41,
            60,
            40,
            57,
            37,
            40,
            33,
            32,
            35,
            55,
            49,
            39,
            60,
            67,
            41,
            44,
            48,
            45,
            47,
            46,
            36,
            34,
            53,
            61,
            37,
            33,
            68,
            49,
            48,
            55,
            43,
            60,
            31,
            53,
            67,
            61,
            62,
            60,
            42,
            38,
            62,
            61,
            61,
            53,
            28,
            26,
            30,
            50,
            48,
            51,
            47,
            64,
            51,
            30,
            56,
            42,
            62,
            34,
            60,
            64,
            39,
            71,
            48,
            79,
            40,
            49,
            51,
            57,
            59,
            51,
            74,
            67,
            49,
            57,
            56,
            52,
            69,
            37,
            24,
            55,
            36,
            42,
            21,
            41,
            57,
            20,
            67,
            34,
            41,
            38,
            51,
            52,
            67,
            61,
            67,
            56,
            64,
            58,
            55,
            62,
            57,
            20,
            53,
            32,
            41,
            60,
            26,
            37,
            45,
            67,
            34,
            50,
            71,
            57,
            49,
            35,
            41,
            70,
            52,
            60,
            62,
            44,
            28,
            58,
            39,
            34,
            65,
            66,
            51,
            50,
            59,
            52,
            69,
            53,
            47,
            52,
            39,
            67,
            59,
            51,
            23,
            68,
            44,
            60,
            52,
            38,
            61,
            68,
            28,
            65,
            69,
            51,
            29,
            55,
            34,
            67,
            49,
            55,
            59,
            53,
            48,
            52,
            69,
            60,
            46,
            51,
            67,
            49,
            46,
            47,
            75,
            28,
            65,
            42,
            51,
            53,
            54,
            73,
            54,
            42,
            75,
            55,
            68,
            57,
            48,
            61,
            69,
            38,
            45,
            51,
            71,
            57,
            56,
            32,
            50,
            43,
            54,
            31,
            56,
            44,
            57,
            64,
            43,
            19,
            71,
            50,
            59,
            57,
            49,
            41,
            25,
            52,
            34,
            42,
            28,
            47,
            32,
            43,
            59,
            53,
            60,
            54,
            35,
            49,
            58,
            36,
            46,
            44,
            46,
            54,
            63,
            41,
            28,
            19,
            61,
            48,
            54,
            53,
            48,
            53,
            29,
            62,
            50,
            58,
            55,
            54,
            36,
            63,
            47,
            51,
            42,
            37,
            28,
            58,
            32,
            25,
            63,
            52,
            65,
            42,
            53,
            79,
            43,
            44,
            62,
            33,
            56,
            66,
            34,
            46,
            50,
            69,
            34,
            71,
            47,
            41,
            34,
            51,
            43,
            55,
            59,
            27,
            51,
            49,
            27,
            57,
            39,
            62,
            37,
            46,
            68,
            51,
            41,
            53,
            45,
            33,
            60,
            47,
            60,
            36,
            36
           ]
          },
          {
           "axis": {
            "matches": true
           },
           "label": "BMI",
           "values": [
            32.1,
            21.6,
            30.5,
            25.3,
            23,
            22.6,
            22,
            26.2,
            32.1,
            30,
            18.6,
            28,
            23.7,
            26.2,
            24,
            24.7,
            30.3,
            27.5,
            25.4,
            24.7,
            21.1,
            24.3,
            26,
            32,
            29.7,
            25.2,
            19.2,
            31.9,
            24.4,
            25.8,
            30.5,
            20.3,
            38,
            21.7,
            20.5,
            23.5,
            28.5,
            27.4,
            33,
            27.7,
            25.6,
            20.1,
            25.4,
            24.2,
            32.7,
            23.1,
            25.3,
            19.6,
            22.5,
            27.7,
            25.7,
            27.9,
            25.5,
            24.9,
            28.7,
            21.8,
            30.2,
            20.5,
            20.4,
            24,
            26,
            26.8,
            25.7,
            22.9,
            24,
            24.1,
            24.7,
            25,
            23.6,
            22.1,
            19.9,
            29.5,
            26,
            24.5,
            26.6,
            23.5,
            29,
            23,
            21,
            22.9,
            27.5,
            24.3,
            23.1,
            27.3,
            22.7,
            33,
            19.4,
            25.8,
            22.6,
            21.9,
            24,
            31.2,
            26.8,
            20.4,
            24.8,
            21,
            27.3,
            34.6,
            25.9,
            20.4,
            28,
            22.2,
            29,
            30.2,
            32.4,
            23.4,
            19.3,
            31,
            30.6,
            25.5,
            23.4,
            26.8,
            28.3,
            27.7,
            36.6,
            26.5,
            31.8,
            24.4,
            25.4,
            22,
            26.8,
            28,
            33.9,
            29.6,
            28.6,
            25.6,
            20.7,
            26.2,
            20.6,
            27.9,
            35.3,
            19.9,
            24.4,
            21.4,
            30.4,
            31.6,
            18.8,
            31,
            36.7,
            32.1,
            27.7,
            30.8,
            27.5,
            26.9,
            30.7,
            38.3,
            31.9,
            35,
            27.8,
            25.9,
            32.9,
            26,
            26.3,
            22.3,
            28.3,
            32,
            25.4,
            23.3,
            20.3,
            30.4,
            20.6,
            32.3,
            29.2,
            33.1,
            24.6,
            20.2,
            20.8,
            32.8,
            31.9,
            23.9,
            24.5,
            22.1,
            33,
            19,
            27.3,
            22.8,
            28.2,
            28.9,
            25.6,
            24.9,
            26.8,
            22.4,
            26.9,
            23.1,
            28.6,
            24.7,
            30.3,
            21.3,
            26.1,
            20.2,
            25.2,
            22.5,
            23.5,
            25.9,
            20.9,
            28.7,
            22.1,
            26.7,
            31.4,
            22.2,
            21,
            21.2,
            26.5,
            29.2,
            27,
            30.7,
            28.8,
            30.6,
            30.1,
            24.7,
            27.7,
            29.8,
            26.7,
            19.8,
            23.3,
            35.1,
            29.7,
            29.3,
            20.3,
            22.5,
            22.7,
            22.8,
            24,
            24.2,
            20.2,
            29.4,
            22.1,
            23.6,
            25.2,
            24.9,
            33,
            23.5,
            26.4,
            29.8,
            30,
            25,
            27,
            20,
            25.5,
            28.2,
            33.3,
            25.6,
            24.2,
            22.1,
            31.4,
            23.1,
            23.4,
            18.8,
            30.8,
            32,
            31.6,
            35.5,
            31.9,
            29.5,
            31.6,
            20.3,
            41.3,
            21.2,
            24.1,
            23,
            25.6,
            22.5,
            38.2,
            19.2,
            29,
            24,
            20.6,
            26.3,
            34.6,
            23.4,
            29.2,
            27.2,
            27,
            24.5,
            24.1,
            25.3,
            28.8,
            20.9,
            23,
            24.1,
            28.1,
            18,
            25.9,
            21.5,
            24.3,
            24.5,
            21.3,
            25.8,
            24.8,
            31.5,
            33.5,
            28.1,
            24.3,
            35,
            23.5,
            30,
            20.7,
            25.6,
            22.9,
            25.1,
            33.2,
            24.1,
            29.5,
            29.6,
            22.8,
            22.7,
            26.2,
            23.5,
            22.1,
            26.5,
            32.4,
            30.1,
            24.2,
            31.3,
            30.1,
            24.5,
            27.7,
            23.2,
            27,
            26.8,
            29.2,
            31.2,
            32.1,
            25.7,
            26.9,
            31.4,
            25.6,
            37,
            32.6,
            21.2,
            29.2,
            24,
            36.1,
            25.8,
            22,
            21.9,
            34.3,
            25.2,
            23.3,
            25.7,
            25.1,
            31.9,
            28.4,
            28.1,
            25.3,
            26.1,
            28,
            23.6,
            24.5,
            21,
            32,
            22.6,
            19.7,
            21.2,
            30.6,
            25.5,
            23.3,
            31,
            18.5,
            26.9,
            28.3,
            25.7,
            36.1,
            24.1,
            25.8,
            22.8,
            39.1,
            42.2,
            26.6,
            29.9,
            21,
            25.5,
            24.2,
            25.4,
            23.2,
            26.1,
            32.7,
            27.3,
            26.6,
            22.8,
            28.8,
            18.1,
            32,
            23.7,
            23.6,
            24.6,
            22.6,
            27.8,
            24.1,
            26.5,
            32.8,
            19.9,
            23.6,
            22.1,
            28.1,
            26.5,
            23.5,
            26,
            27.8,
            28.5,
            30.6,
            22.2,
            23.3,
            35.4,
            31.4,
            37.8,
            18.9,
            35,
            21.7,
            25.3,
            23.8,
            31.8,
            34.3,
            26.3,
            27,
            27.2,
            33.8,
            33,
            24.1,
            21.3,
            23,
            27.9,
            33.6,
            22.7,
            27.4,
            22.6,
            23.2,
            26.9,
            34.6,
            23.3,
            21.1,
            23.5,
            31.5,
            20.8,
            26.5,
            24.2,
            19.5,
            28.2,
            24.9,
            24.9,
            30,
            19.6
           ]
          },
          {
           "axis": {
            "matches": true
           },
           "label": "LD_lipo",
           "values": [
            93.2,
            103.2,
            93.6,
            131.4,
            125.4,
            64.8,
            99.6,
            185,
            119.4,
            93.4,
            57.6,
            144.8,
            109.2,
            105.4,
            115.4,
            184.2,
            100.2,
            147,
            103,
            108.2,
            87.8,
            98.6,
            120.4,
            85.2,
            103.4,
            118.4,
            54,
            87.6,
            91.4,
            54.2,
            110.6,
            81.2,
            107.2,
            58,
            84.2,
            112.8,
            97.2,
            88,
            163.6,
            119.4,
            162.2,
            69,
            100.4,
            109,
            118.4,
            116.4,
            85,
            68,
            119.2,
            119.4,
            91.6,
            96.8,
            144,
            129.6,
            126.8,
            101,
            96,
            48.8,
            78.4,
            146.4,
            65.2,
            98,
            106.6,
            143.2,
            77.2,
            125,
            123.2,
            120.8,
            100,
            76.2,
            109.6,
            132.2,
            146.6,
            149.4,
            126.4,
            114.8,
            47.2,
            97.8,
            71.8,
            128.2,
            149.6,
            133.6,
            126.4,
            81.6,
            96.2,
            114.8,
            105.8,
            125.8,
            91.8,
            105.2,
            86.6,
            156.8,
            102.2,
            105.6,
            106.8,
            97,
            107.6,
            142.6,
            106.6,
            139.4,
            143.8,
            115.2,
            131.4,
            160.6,
            104.4,
            101.6,
            93.2,
            141.4,
            79.8,
            139.4,
            89.8,
            122,
            128,
            128.4,
            94.4,
            147,
            128.6,
            135.6,
            141,
            88,
            103.6,
            129.2,
            156.4,
            242.4,
            90.6,
            74.8,
            80.6,
            124.2,
            112.2,
            122.2,
            112.4,
            108.6,
            146,
            69.6,
            115.6,
            88,
            72,
            105,
            93.8,
            84.2,
            114.6,
            152,
            143.8,
            119.8,
            147.8,
            94.6,
            135.6,
            130.4,
            146.2,
            102.4,
            106.2,
            100.2,
            158.2,
            125.8,
            132.2,
            170.6,
            92.6,
            142.8,
            126.2,
            120,
            107,
            199.4,
            108.2,
            119,
            106.8,
            87.8,
            70.2,
            116.4,
            155.8,
            105.2,
            105.8,
            77.2,
            125.6,
            73,
            55,
            98.6,
            132,
            127.2,
            125.8,
            141.8,
            119.2,
            147.4,
            172.4,
            114.4,
            98.8,
            99.6,
            152.2,
            63,
            160.6,
            117.4,
            112.2,
            66.8,
            129,
            169,
            83.8,
            146.4,
            138.6,
            124,
            93.8,
            105.4,
            146.8,
            110.4,
            173.6,
            151.6,
            110.8,
            85.4,
            140,
            106.6,
            139.6,
            104.8,
            145.6,
            104.8,
            135.4,
            114.8,
            63.6,
            95,
            162.8,
            139,
            124.6,
            68,
            94.2,
            116,
            85,
            77,
            89,
            87.6,
            99.6,
            105.4,
            120.6,
            115,
            215,
            121,
            152,
            93.4,
            100,
            93.4,
            160.6,
            114.8,
            110.6,
            140.2,
            114,
            133,
            72.2,
            105.2,
            84.2,
            78,
            148,
            103.6,
            197.2,
            134.2,
            90.4,
            146.6,
            149.2,
            151.6,
            107.6,
            103,
            102.8,
            100.4,
            149.2,
            123.7,
            95.4,
            99,
            126.6,
            94.6,
            109.2,
            113.6,
            92,
            166.2,
            139.4,
            108.8,
            85.2,
            102,
            73,
            136.4,
            113.4,
            105.6,
            174,
            65.6,
            128,
            98.6,
            122.2,
            96,
            181.2,
            92.2,
            86.6,
            129,
            60.2,
            195.4,
            151.4,
            149.4,
            126.2,
            142.8,
            71.6,
            142.6,
            126.8,
            107.2,
            99.8,
            99.8,
            67.2,
            101.4,
            106.8,
            134.6,
            132.8,
            128.4,
            189.8,
            125.8,
            99.6,
            138.2,
            63.4,
            160.2,
            125,
            154.2,
            106.4,
            128,
            114.8,
            128.6,
            101.8,
            162.8,
            121,
            80.6,
            174.2,
            138.8,
            92.4,
            112.6,
            165.2,
            151.6,
            116.2,
            131.4,
            100.6,
            96.8,
            139,
            85.8,
            108.2,
            114.4,
            78.6,
            111.2,
            172.6,
            120,
            130.8,
            151.6,
            113,
            116.2,
            127,
            121,
            156.6,
            152.4,
            196.8,
            107.4,
            96.6,
            85.4,
            104.2,
            71,
            53.4,
            113.4,
            172.2,
            101.6,
            125.8,
            96.2,
            93.6,
            126.6,
            107,
            84.6,
            98.4,
            97.4,
            118.6,
            118.8,
            135.8,
            137,
            109,
            113,
            107.4,
            103.2,
            123.6,
            79,
            70.4,
            129.8,
            198.6,
            144,
            122.4,
            41.6,
            87.2,
            99,
            69,
            97,
            171,
            76.4,
            104.2,
            104.4,
            112.2,
            104.8,
            100.6,
            83.2,
            138.8,
            100.6,
            80.6,
            101.6,
            80.8,
            78.2,
            136,
            123,
            92.8,
            81,
            128.4,
            100.2,
            97.6,
            51,
            91.8,
            140.8,
            127.8,
            162,
            139.2,
            69.2,
            123.8,
            120,
            190.2,
            145.6,
            127,
            114.6,
            175.6,
            78.8,
            137.6,
            144.2,
            156.6,
            162.4,
            113,
            43.4,
            159.4,
            75.4,
            129.2,
            142,
            144.4,
            85.4,
            144,
            128.2,
            122.4,
            118.4,
            85.4,
            113.8,
            166,
            106.6,
            125.2,
            133.2
           ]
          },
          {
           "axis": {
            "matches": true
           },
           "label": "triglycerides",
           "values": [
            4.8598,
            3.8918,
            4.6728,
            4.8903,
            4.2905,
            4.1897,
            3.9512,
            4.2485,
            4.4773,
            5.3845,
            3.9512,
            3.5835,
            4.3041,
            5.0626,
            4.2905,
            5.037,
            5.2149,
            4.9416,
            4.4427,
            4.5433,
            4.5109,
            3.8501,
            3.9703,
            6.107,
            4.3567,
            4.852,
            4.1744,
            4.4659,
            4.6347,
            5.2933,
            4.3438,
            4.2341,
            4.6444,
            4.4427,
            3.989,
            4.8752,
            5.2417,
            4.8283,
            5.425,
            4.852,
            4.7791,
            4.0943,
            4.5326,
            4.1744,
            4.9972,
            4.4773,
            4.5539,
            4.4427,
            3.989,
            5.0304,
            4.4067,
            4.6151,
            4.4427,
            4.2767,
            4.1897,
            3.912,
            5.0106,
            4.0254,
            4.6347,
            5.0626,
            4.0775,
            5.0434,
            3.7377,
            4.3041,
            4.4308,
            5.1059,
            4.6444,
            4.5109,
            4.4998,
            4.0775,
            3.9512,
            4.9345,
            5.5683,
            4.585,
            4.6821,
            4.7095,
            4.3041,
            3.8286,
            5.112,
            3.8918,
            4.92,
            4.5747,
            3.8712,
            4.4659,
            3.8918,
            4.1897,
            3.5835,
            5.112,
            4.2627,
            4.3694,
            3.8501,
            5.0499,
            4.7791,
            4.2767,
            4.1897,
            4.654,
            5.3083,
            4.6728,
            4.5747,
            4.7707,
            5.0499,
            4.3041,
            4.585,
            4.5218,
            3.9703,
            4.5218,
            3.989,
            4.0604,
            5.1417,
            4.3567,
            3.2581,
            4.382,
            4.382,
            5.1533,
            5.7301,
            5.5607,
            4.8828,
            5.5094,
            4.8675,
            4.9416,
            4.2047,
            4.8598,
            4.9972,
            4.8122,
            4.4659,
            5.5255,
            3.6109,
            4.6913,
            4.3041,
            5.0689,
            4.8903,
            4.1271,
            4.4998,
            3.8501,
            4.3438,
            5.1985,
            3.912,
            4.8283,
            4.9488,
            5.2417,
            4.2767,
            5.1358,
            5.1417,
            4.1897,
            4.7095,
            4.4659,
            4.804,
            4.9273,
            4.3041,
            5.3132,
            4.4308,
            4.5433,
            4.9345,
            4.2627,
            4.7362,
            5.0562,
            4.4067,
            4.7536,
            4.3041,
            5.1059,
            4.2485,
            5.4723,
            4.3041,
            4.382,
            4.8363,
            4.0254,
            3.7842,
            5.4931,
            5.3982,
            6.107,
            3.5835,
            4.0775,
            5.4467,
            4.4427,
            4.8283,
            4.3438,
            4.6052,
            5.4337,
            4.1109,
            4.7958,
            4.8203,
            4.3567,
            4.8122,
            4.8122,
            5.0499,
            5.3799,
            5.1591,
            3.6889,
            4.625,
            4.4188,
            4.8978,
            4.7536,
            4.3175,
            5.0752,
            4.6634,
            4.7274,
            4.2767,
            4.7875,
            3.8286,
            5.6276,
            4.3307,
            4.0604,
            5.5683,
            4.92,
            4.6634,
            5.3375,
            4.7449,
            5.1475,
            4.625,
            4.5109,
            4.2767,
            4.3944,
            4.6347,
            4.3944,
            4.2047,
            5.0434,
            5.1417,
            5.0106,
            4.7185,
            4.654,
            3.5264,
            4.654,
            4.654,
            4.4427,
            4.2485,
            5.3327,
            4.2047,
            4.2195,
            4.3438,
            4.382,
            5.193,
            4.7449,
            4.9053,
            4.3567,
            5.3471,
            4.585,
            5.0876,
            4.1109,
            4.7622,
            5.366,
            5.0106,
            4.3175,
            3.7842,
            4.1589,
            4.1589,
            4.0943,
            5.1358,
            4.5218,
            5.3423,
            5.4116,
            5.4723,
            5.5683,
            4.5951,
            5.0239,
            5.9584,
            4.6052,
            4.9488,
            4.585,
            4.2341,
            4.1589,
            3.7612,
            4.4998,
            5.0239,
            3.8501,
            3.989,
            4.804,
            3.6889,
            4.8978,
            4.9628,
            4.5109,
            4.7362,
            4.4427,
            4.4427,
            5.8081,
            4.8122,
            4.7622,
            5.273,
            4.4067,
            4.654,
            4.4659,
            4.8203,
            4.9053,
            4.5433,
            3.8918,
            4.6728,
            5.2983,
            4.4308,
            4.9972,
            3.8712,
            5.3132,
            4.9698,
            5.2781,
            3.9512,
            4.0431,
            3.8286,
            4.8203,
            4.0254,
            3.9318,
            4.3041,
            4.3567,
            5.112,
            4.4067,
            4.9836,
            5.451,
            4.3944,
            4.8363,
            4.2047,
            4.8978,
            3.9703,
            4.9345,
            4.4427,
            4.7791,
            4.2195,
            5.247,
            4.5109,
            4.5218,
            5.4638,
            4.9127,
            4.7449,
            4.9558,
            5.0039,
            5.7236,
            6.1048,
            6.0568,
            5.366,
            5.5683,
            4.9698,
            4.6347,
            4.625,
            4.4543,
            4.382,
            4.1897,
            5.2679,
            4.9628,
            3.9512,
            4.0775,
            5.5294,
            4.7005,
            4.3944,
            5.118,
            4.2485,
            4.3694,
            4.382,
            4.0073,
            4.7185,
            4.6347,
            5.3279,
            4.6821,
            4.5218,
            3.9703,
            5.4116,
            4.0073,
            4.4188,
            6.0936,
            5.4553,
            4.2767,
            4.3307,
            5.1874,
            3.7377,
            4.804,
            4.7875,
            3.8501,
            4.6821,
            4.852,
            4.804,
            4.9836,
            5.4205,
            5.0106,
            5.5797,
            4.585,
            3.9703,
            5.9506,
            4.5218,
            4.1744,
            4.6347,
            4.9488,
            5.1475,
            4.7449,
            4.8903,
            4.1271,
            4.0775,
            4.4998,
            5.7838,
            4.4427,
            4.9053,
            4.3567,
            4.3041,
            3.4965,
            4.9345,
            4.1897,
            5.7746,
            3.6636,
            4.1897,
            4.2047,
            6.0684,
            4.9904,
            3.5835,
            5.037,
            5.1358,
            5.0752,
            4.2627,
            4.1744,
            4.8122,
            5.3181,
            4.3438,
            5.0434,
            4.0254,
            4.1109,
            5.2781,
            4.9767,
            5.366,
            4.0775,
            4.7095,
            4.2485,
            5.2417,
            4.804,
            4.3175,
            4.1271,
            4.4067,
            3.8286,
            4.2767,
            5.1874,
            5.0876,
            4.8122,
            4.9053,
            4.4188,
            5.0304,
            4.1431,
            5.366,
            4.3567,
            4.5326,
            4.4773,
            5.2523,
            4.0775,
            4.1431,
            4.2195,
            3.9703,
            4.9836,
            4.4427,
            4.1271,
            5.1299,
            4.5951
           ]
          },
          {
           "axis": {
            "matches": true
           },
           "label": "Glucose",
           "values": [
            87,
            69,
            85,
            89,
            80,
            68,
            82,
            92,
            94,
            88,
            83,
            77,
            81,
            88,
            73,
            81,
            98,
            91,
            87,
            78,
            95,
            87,
            88,
            124,
            78,
            83,
            90,
            101,
            78,
            104,
            89,
            81,
            98,
            92,
            75,
            96,
            85,
            90,
            97,
            92,
            114,
            89,
            83,
            109,
            87,
            79,
            70,
            71,
            86,
            88,
            93,
            86,
            88,
            103,
            93,
            93,
            87,
            75,
            79,
            96,
            83,
            96,
            85,
            74,
            94,
            95,
            96,
            92,
            92,
            96,
            101,
            106,
            87,
            89,
            109,
            98,
            95,
            91,
            71,
            85,
            90,
            91,
            72,
            81,
            60,
            74,
            83,
            82,
            108,
            96,
            94,
            96,
            94,
            78,
            69,
            90,
            99,
            110,
            75,
            78,
            91,
            100,
            91,
            84,
            76,
            96,
            71,
            90,
            101,
            117,
            95,
            80,
            92,
            113,
            97,
            92,
            98,
            124,
            105,
            98,
            86,
            94,
            103,
            109,
            88,
            93,
            78,
            68,
            74,
            120,
            109,
            72,
            97,
            84,
            80,
            105,
            86,
            88,
            109,
            90,
            95,
            123,
            91,
            81,
            93,
            79,
            93,
            101,
            91,
            82,
            89,
            88,
            109,
            94,
            92,
            103,
            83,
            98,
            79,
            87,
            80,
            112,
            91,
            106,
            88,
            88,
            66,
            117,
            122,
            96,
            87,
            80,
            112,
            78,
            93,
            92,
            96,
            99,
            84,
            89,
            91,
            76,
            89,
            105,
            99,
            87,
            82,
            66,
            89,
            85,
            90,
            89,
            77,
            96,
            97,
            97,
            94,
            100,
            77,
            93,
            102,
            98,
            84,
            98,
            110,
            85,
            92,
            100,
            120,
            88,
            77,
            86,
            96,
            93,
            78,
            117,
            103,
            102,
            88,
            84,
            75,
            82,
            96,
            79,
            89,
            92,
            78,
            93,
            79,
            94,
            108,
            94,
            99,
            82,
            105,
            103,
            94,
            91,
            86,
            103,
            96,
            105,
            74,
            81,
            90,
            60,
            77,
            69,
            101,
            93,
            100,
            101,
            84,
            108,
            113,
            93,
            94,
            79,
            105,
            93,
            87,
            95,
            92,
            87,
            86,
            101,
            92,
            98,
            109,
            82,
            95,
            93,
            69,
            100,
            95,
            108,
            86,
            95,
            99,
            85,
            87,
            92,
            98,
            84,
            78,
            86,
            90,
            90,
            87,
            83,
            102,
            77,
            82,
            91,
            83,
            92,
            77,
            78,
            88,
            91,
            102,
            100,
            98,
            86,
            88,
            75,
            88,
            111,
            72,
            111,
            99,
            97,
            84,
            91,
            82,
            91,
            101,
            108,
            99,
            106,
            92,
            106,
            111,
            105,
            96,
            103,
            98,
            90,
            96,
            102,
            95,
            90,
            100,
            99,
            78,
            77,
            104,
            92,
            77,
            95,
            84,
            87,
            97,
            93,
            84,
            91,
            95,
            84,
            91,
            74,
            124,
            81,
            82,
            92,
            106,
            94,
            73,
            77,
            80,
            106,
            101,
            97,
            101,
            94,
            115,
            115,
            103,
            99,
            111,
            98,
            73,
            87,
            86,
            91,
            72,
            96,
            91,
            76,
            82,
            97,
            85,
            78,
            100,
            93,
            82,
            88,
            92,
            73,
            82,
            70,
            109,
            79,
            107,
            86,
            93,
            78,
            83,
            97,
            75,
            96,
            89,
            101,
            102,
            101,
            89,
            84,
            58,
            96,
            101,
            90,
            81,
            85,
            112,
            96,
            93,
            92,
            100,
            92,
            93,
            90,
            106,
            95,
            89,
            80,
            97,
            79,
            112,
            99,
            123,
            82,
            87,
            91,
            117,
            89,
            99,
            82,
            80,
            93,
            102,
            95,
            85,
            92
           ]
          }
         ],
         "hovertemplate": "%{xaxis.title.text}=%{x}<br>%{yaxis.title.text}=%{y}<extra></extra>",
         "legendgroup": "",
         "marker": {
          "color": "#636efa",
          "symbol": "circle"
         },
         "name": "",
         "showlegend": false,
         "type": "splom"
        }
       ],
       "layout": {
        "dragmode": "select",
        "legend": {
         "tracegroupgap": 0
        },
        "template": {
         "data": {
          "bar": [
           {
            "error_x": {
             "color": "#2a3f5f"
            },
            "error_y": {
             "color": "#2a3f5f"
            },
            "marker": {
             "line": {
              "color": "#E5ECF6",
              "width": 0.5
             },
             "pattern": {
              "fillmode": "overlay",
              "size": 10,
              "solidity": 0.2
             }
            },
            "type": "bar"
           }
          ],
          "barpolar": [
           {
            "marker": {
             "line": {
              "color": "#E5ECF6",
              "width": 0.5
             },
             "pattern": {
              "fillmode": "overlay",
              "size": 10,
              "solidity": 0.2
             }
            },
            "type": "barpolar"
           }
          ],
          "carpet": [
           {
            "aaxis": {
             "endlinecolor": "#2a3f5f",
             "gridcolor": "white",
             "linecolor": "white",
             "minorgridcolor": "white",
             "startlinecolor": "#2a3f5f"
            },
            "baxis": {
             "endlinecolor": "#2a3f5f",
             "gridcolor": "white",
             "linecolor": "white",
             "minorgridcolor": "white",
             "startlinecolor": "#2a3f5f"
            },
            "type": "carpet"
           }
          ],
          "choropleth": [
           {
            "colorbar": {
             "outlinewidth": 0,
             "ticks": ""
            },
            "type": "choropleth"
           }
          ],
          "contour": [
           {
            "colorbar": {
             "outlinewidth": 0,
             "ticks": ""
            },
            "colorscale": [
             [
              0,
              "#0d0887"
             ],
             [
              0.1111111111111111,
              "#46039f"
             ],
             [
              0.2222222222222222,
              "#7201a8"
             ],
             [
              0.3333333333333333,
              "#9c179e"
             ],
             [
              0.4444444444444444,
              "#bd3786"
             ],
             [
              0.5555555555555556,
              "#d8576b"
             ],
             [
              0.6666666666666666,
              "#ed7953"
             ],
             [
              0.7777777777777778,
              "#fb9f3a"
             ],
             [
              0.8888888888888888,
              "#fdca26"
             ],
             [
              1,
              "#f0f921"
             ]
            ],
            "type": "contour"
           }
          ],
          "contourcarpet": [
           {
            "colorbar": {
             "outlinewidth": 0,
             "ticks": ""
            },
            "type": "contourcarpet"
           }
          ],
          "heatmap": [
           {
            "colorbar": {
             "outlinewidth": 0,
             "ticks": ""
            },
            "colorscale": [
             [
              0,
              "#0d0887"
             ],
             [
              0.1111111111111111,
              "#46039f"
             ],
             [
              0.2222222222222222,
              "#7201a8"
             ],
             [
              0.3333333333333333,
              "#9c179e"
             ],
             [
              0.4444444444444444,
              "#bd3786"
             ],
             [
              0.5555555555555556,
              "#d8576b"
             ],
             [
              0.6666666666666666,
              "#ed7953"
             ],
             [
              0.7777777777777778,
              "#fb9f3a"
             ],
             [
              0.8888888888888888,
              "#fdca26"
             ],
             [
              1,
              "#f0f921"
             ]
            ],
            "type": "heatmap"
           }
          ],
          "heatmapgl": [
           {
            "colorbar": {
             "outlinewidth": 0,
             "ticks": ""
            },
            "colorscale": [
             [
              0,
              "#0d0887"
             ],
             [
              0.1111111111111111,
              "#46039f"
             ],
             [
              0.2222222222222222,
              "#7201a8"
             ],
             [
              0.3333333333333333,
              "#9c179e"
             ],
             [
              0.4444444444444444,
              "#bd3786"
             ],
             [
              0.5555555555555556,
              "#d8576b"
             ],
             [
              0.6666666666666666,
              "#ed7953"
             ],
             [
              0.7777777777777778,
              "#fb9f3a"
             ],
             [
              0.8888888888888888,
              "#fdca26"
             ],
             [
              1,
              "#f0f921"
             ]
            ],
            "type": "heatmapgl"
           }
          ],
          "histogram": [
           {
            "marker": {
             "pattern": {
              "fillmode": "overlay",
              "size": 10,
              "solidity": 0.2
             }
            },
            "type": "histogram"
           }
          ],
          "histogram2d": [
           {
            "colorbar": {
             "outlinewidth": 0,
             "ticks": ""
            },
            "colorscale": [
             [
              0,
              "#0d0887"
             ],
             [
              0.1111111111111111,
              "#46039f"
             ],
             [
              0.2222222222222222,
              "#7201a8"
             ],
             [
              0.3333333333333333,
              "#9c179e"
             ],
             [
              0.4444444444444444,
              "#bd3786"
             ],
             [
              0.5555555555555556,
              "#d8576b"
             ],
             [
              0.6666666666666666,
              "#ed7953"
             ],
             [
              0.7777777777777778,
              "#fb9f3a"
             ],
             [
              0.8888888888888888,
              "#fdca26"
             ],
             [
              1,
              "#f0f921"
             ]
            ],
            "type": "histogram2d"
           }
          ],
          "histogram2dcontour": [
           {
            "colorbar": {
             "outlinewidth": 0,
             "ticks": ""
            },
            "colorscale": [
             [
              0,
              "#0d0887"
             ],
             [
              0.1111111111111111,
              "#46039f"
             ],
             [
              0.2222222222222222,
              "#7201a8"
             ],
             [
              0.3333333333333333,
              "#9c179e"
             ],
             [
              0.4444444444444444,
              "#bd3786"
             ],
             [
              0.5555555555555556,
              "#d8576b"
             ],
             [
              0.6666666666666666,
              "#ed7953"
             ],
             [
              0.7777777777777778,
              "#fb9f3a"
             ],
             [
              0.8888888888888888,
              "#fdca26"
             ],
             [
              1,
              "#f0f921"
             ]
            ],
            "type": "histogram2dcontour"
           }
          ],
          "mesh3d": [
           {
            "colorbar": {
             "outlinewidth": 0,
             "ticks": ""
            },
            "type": "mesh3d"
           }
          ],
          "parcoords": [
           {
            "line": {
             "colorbar": {
              "outlinewidth": 0,
              "ticks": ""
             }
            },
            "type": "parcoords"
           }
          ],
          "pie": [
           {
            "automargin": true,
            "type": "pie"
           }
          ],
          "scatter": [
           {
            "marker": {
             "colorbar": {
              "outlinewidth": 0,
              "ticks": ""
             }
            },
            "type": "scatter"
           }
          ],
          "scatter3d": [
           {
            "line": {
             "colorbar": {
              "outlinewidth": 0,
              "ticks": ""
             }
            },
            "marker": {
             "colorbar": {
              "outlinewidth": 0,
              "ticks": ""
             }
            },
            "type": "scatter3d"
           }
          ],
          "scattercarpet": [
           {
            "marker": {
             "colorbar": {
              "outlinewidth": 0,
              "ticks": ""
             }
            },
            "type": "scattercarpet"
           }
          ],
          "scattergeo": [
           {
            "marker": {
             "colorbar": {
              "outlinewidth": 0,
              "ticks": ""
             }
            },
            "type": "scattergeo"
           }
          ],
          "scattergl": [
           {
            "marker": {
             "colorbar": {
              "outlinewidth": 0,
              "ticks": ""
             }
            },
            "type": "scattergl"
           }
          ],
          "scattermapbox": [
           {
            "marker": {
             "colorbar": {
              "outlinewidth": 0,
              "ticks": ""
             }
            },
            "type": "scattermapbox"
           }
          ],
          "scatterpolar": [
           {
            "marker": {
             "colorbar": {
              "outlinewidth": 0,
              "ticks": ""
             }
            },
            "type": "scatterpolar"
           }
          ],
          "scatterpolargl": [
           {
            "marker": {
             "colorbar": {
              "outlinewidth": 0,
              "ticks": ""
             }
            },
            "type": "scatterpolargl"
           }
          ],
          "scatterternary": [
           {
            "marker": {
             "colorbar": {
              "outlinewidth": 0,
              "ticks": ""
             }
            },
            "type": "scatterternary"
           }
          ],
          "surface": [
           {
            "colorbar": {
             "outlinewidth": 0,
             "ticks": ""
            },
            "colorscale": [
             [
              0,
              "#0d0887"
             ],
             [
              0.1111111111111111,
              "#46039f"
             ],
             [
              0.2222222222222222,
              "#7201a8"
             ],
             [
              0.3333333333333333,
              "#9c179e"
             ],
             [
              0.4444444444444444,
              "#bd3786"
             ],
             [
              0.5555555555555556,
              "#d8576b"
             ],
             [
              0.6666666666666666,
              "#ed7953"
             ],
             [
              0.7777777777777778,
              "#fb9f3a"
             ],
             [
              0.8888888888888888,
              "#fdca26"
             ],
             [
              1,
              "#f0f921"
             ]
            ],
            "type": "surface"
           }
          ],
          "table": [
           {
            "cells": {
             "fill": {
              "color": "#EBF0F8"
             },
             "line": {
              "color": "white"
             }
            },
            "header": {
             "fill": {
              "color": "#C8D4E3"
             },
             "line": {
              "color": "white"
             }
            },
            "type": "table"
           }
          ]
         },
         "layout": {
          "annotationdefaults": {
           "arrowcolor": "#2a3f5f",
           "arrowhead": 0,
           "arrowwidth": 1
          },
          "autotypenumbers": "strict",
          "coloraxis": {
           "colorbar": {
            "outlinewidth": 0,
            "ticks": ""
           }
          },
          "colorscale": {
           "diverging": [
            [
             0,
             "#8e0152"
            ],
            [
             0.1,
             "#c51b7d"
            ],
            [
             0.2,
             "#de77ae"
            ],
            [
             0.3,
             "#f1b6da"
            ],
            [
             0.4,
             "#fde0ef"
            ],
            [
             0.5,
             "#f7f7f7"
            ],
            [
             0.6,
             "#e6f5d0"
            ],
            [
             0.7,
             "#b8e186"
            ],
            [
             0.8,
             "#7fbc41"
            ],
            [
             0.9,
             "#4d9221"
            ],
            [
             1,
             "#276419"
            ]
           ],
           "sequential": [
            [
             0,
             "#0d0887"
            ],
            [
             0.1111111111111111,
             "#46039f"
            ],
            [
             0.2222222222222222,
             "#7201a8"
            ],
            [
             0.3333333333333333,
             "#9c179e"
            ],
            [
             0.4444444444444444,
             "#bd3786"
            ],
            [
             0.5555555555555556,
             "#d8576b"
            ],
            [
             0.6666666666666666,
             "#ed7953"
            ],
            [
             0.7777777777777778,
             "#fb9f3a"
            ],
            [
             0.8888888888888888,
             "#fdca26"
            ],
            [
             1,
             "#f0f921"
            ]
           ],
           "sequentialminus": [
            [
             0,
             "#0d0887"
            ],
            [
             0.1111111111111111,
             "#46039f"
            ],
            [
             0.2222222222222222,
             "#7201a8"
            ],
            [
             0.3333333333333333,
             "#9c179e"
            ],
            [
             0.4444444444444444,
             "#bd3786"
            ],
            [
             0.5555555555555556,
             "#d8576b"
            ],
            [
             0.6666666666666666,
             "#ed7953"
            ],
            [
             0.7777777777777778,
             "#fb9f3a"
            ],
            [
             0.8888888888888888,
             "#fdca26"
            ],
            [
             1,
             "#f0f921"
            ]
           ]
          },
          "colorway": [
           "#636efa",
           "#EF553B",
           "#00cc96",
           "#ab63fa",
           "#FFA15A",
           "#19d3f3",
           "#FF6692",
           "#B6E880",
           "#FF97FF",
           "#FECB52"
          ],
          "font": {
           "color": "#2a3f5f"
          },
          "geo": {
           "bgcolor": "white",
           "lakecolor": "white",
           "landcolor": "#E5ECF6",
           "showlakes": true,
           "showland": true,
           "subunitcolor": "white"
          },
          "hoverlabel": {
           "align": "left"
          },
          "hovermode": "closest",
          "mapbox": {
           "style": "light"
          },
          "paper_bgcolor": "white",
          "plot_bgcolor": "#E5ECF6",
          "polar": {
           "angularaxis": {
            "gridcolor": "white",
            "linecolor": "white",
            "ticks": ""
           },
           "bgcolor": "#E5ECF6",
           "radialaxis": {
            "gridcolor": "white",
            "linecolor": "white",
            "ticks": ""
           }
          },
          "scene": {
           "xaxis": {
            "backgroundcolor": "#E5ECF6",
            "gridcolor": "white",
            "gridwidth": 2,
            "linecolor": "white",
            "showbackground": true,
            "ticks": "",
            "zerolinecolor": "white"
           },
           "yaxis": {
            "backgroundcolor": "#E5ECF6",
            "gridcolor": "white",
            "gridwidth": 2,
            "linecolor": "white",
            "showbackground": true,
            "ticks": "",
            "zerolinecolor": "white"
           },
           "zaxis": {
            "backgroundcolor": "#E5ECF6",
            "gridcolor": "white",
            "gridwidth": 2,
            "linecolor": "white",
            "showbackground": true,
            "ticks": "",
            "zerolinecolor": "white"
           }
          },
          "shapedefaults": {
           "line": {
            "color": "#2a3f5f"
           }
          },
          "ternary": {
           "aaxis": {
            "gridcolor": "white",
            "linecolor": "white",
            "ticks": ""
           },
           "baxis": {
            "gridcolor": "white",
            "linecolor": "white",
            "ticks": ""
           },
           "bgcolor": "#E5ECF6",
           "caxis": {
            "gridcolor": "white",
            "linecolor": "white",
            "ticks": ""
           }
          },
          "title": {
           "x": 0.05
          },
          "xaxis": {
           "automargin": true,
           "gridcolor": "white",
           "linecolor": "white",
           "ticks": "",
           "title": {
            "standoff": 15
           },
           "zerolinecolor": "white",
           "zerolinewidth": 2
          },
          "yaxis": {
           "automargin": true,
           "gridcolor": "white",
           "linecolor": "white",
           "ticks": "",
           "title": {
            "standoff": 15
           },
           "zerolinecolor": "white",
           "zerolinewidth": 2
          }
         }
        },
        "title": {
         "text": "scatter matrix plot of age, bmi ld_lipo, triglycerides, and glucose"
        }
       }
      },
      "text/html": [
       "<div>                            <div id=\"d61b8481-eca3-4c08-bc0d-21cd9912ae3d\" class=\"plotly-graph-div\" style=\"height:525px; width:100%;\"></div>            <script type=\"text/javascript\">                require([\"plotly\"], function(Plotly) {                    window.PLOTLYENV=window.PLOTLYENV || {};                                    if (document.getElementById(\"d61b8481-eca3-4c08-bc0d-21cd9912ae3d\")) {                    Plotly.newPlot(                        \"d61b8481-eca3-4c08-bc0d-21cd9912ae3d\",                        [{\"dimensions\":[{\"axis\":{\"matches\":true},\"label\":\"AGE\",\"values\":[59,48,72,24,50,23,36,66,60,29,22,56,53,50,61,34,47,68,38,41,35,25,25,61,31,30,19,42,63,67,32,42,58,57,53,62,52,46,48,48,50,21,32,54,61,56,33,27,67,37,58,65,34,46,35,37,37,41,60,66,29,37,41,39,67,36,46,60,59,53,48,48,66,52,52,46,40,22,50,20,68,52,44,38,49,61,29,61,34,36,52,61,43,35,27,29,64,41,49,48,53,53,23,65,41,55,22,56,54,59,60,54,25,54,55,40,62,65,33,53,35,66,62,50,47,47,24,58,34,51,31,22,53,37,28,47,23,50,58,55,60,41,60,40,57,37,40,33,32,35,55,49,39,60,67,41,44,48,45,47,46,36,34,53,61,37,33,68,49,48,55,43,60,31,53,67,61,62,60,42,38,62,61,61,53,28,26,30,50,48,51,47,64,51,30,56,42,62,34,60,64,39,71,48,79,40,49,51,57,59,51,74,67,49,57,56,52,69,37,24,55,36,42,21,41,57,20,67,34,41,38,51,52,67,61,67,56,64,58,55,62,57,20,53,32,41,60,26,37,45,67,34,50,71,57,49,35,41,70,52,60,62,44,28,58,39,34,65,66,51,50,59,52,69,53,47,52,39,67,59,51,23,68,44,60,52,38,61,68,28,65,69,51,29,55,34,67,49,55,59,53,48,52,69,60,46,51,67,49,46,47,75,28,65,42,51,53,54,73,54,42,75,55,68,57,48,61,69,38,45,51,71,57,56,32,50,43,54,31,56,44,57,64,43,19,71,50,59,57,49,41,25,52,34,42,28,47,32,43,59,53,60,54,35,49,58,36,46,44,46,54,63,41,28,19,61,48,54,53,48,53,29,62,50,58,55,54,36,63,47,51,42,37,28,58,32,25,63,52,65,42,53,79,43,44,62,33,56,66,34,46,50,69,34,71,47,41,34,51,43,55,59,27,51,49,27,57,39,62,37,46,68,51,41,53,45,33,60,47,60,36,36]},{\"axis\":{\"matches\":true},\"label\":\"BMI\",\"values\":[32.1,21.6,30.5,25.3,23.0,22.6,22.0,26.2,32.1,30.0,18.6,28.0,23.7,26.2,24.0,24.7,30.3,27.5,25.4,24.7,21.1,24.3,26.0,32.0,29.7,25.2,19.2,31.9,24.4,25.8,30.5,20.3,38.0,21.7,20.5,23.5,28.5,27.4,33.0,27.7,25.6,20.1,25.4,24.2,32.7,23.1,25.3,19.6,22.5,27.7,25.7,27.9,25.5,24.9,28.7,21.8,30.2,20.5,20.4,24.0,26.0,26.8,25.7,22.9,24.0,24.1,24.7,25.0,23.6,22.1,19.9,29.5,26.0,24.5,26.6,23.5,29.0,23.0,21.0,22.9,27.5,24.3,23.1,27.3,22.7,33.0,19.4,25.8,22.6,21.9,24.0,31.2,26.8,20.4,24.8,21.0,27.3,34.6,25.9,20.4,28.0,22.2,29.0,30.2,32.4,23.4,19.3,31.0,30.6,25.5,23.4,26.8,28.3,27.7,36.6,26.5,31.8,24.4,25.4,22.0,26.8,28.0,33.9,29.6,28.6,25.6,20.7,26.2,20.6,27.9,35.3,19.9,24.4,21.4,30.4,31.6,18.8,31.0,36.7,32.1,27.7,30.8,27.5,26.9,30.7,38.3,31.9,35.0,27.8,25.9,32.9,26.0,26.3,22.3,28.3,32.0,25.4,23.3,20.3,30.4,20.6,32.3,29.2,33.1,24.6,20.2,20.8,32.8,31.9,23.9,24.5,22.1,33.0,19.0,27.3,22.8,28.2,28.9,25.6,24.9,26.8,22.4,26.9,23.1,28.6,24.7,30.3,21.3,26.1,20.2,25.2,22.5,23.5,25.9,20.9,28.7,22.1,26.7,31.4,22.2,21.0,21.2,26.5,29.2,27.0,30.7,28.8,30.6,30.1,24.7,27.7,29.8,26.7,19.8,23.3,35.1,29.7,29.3,20.3,22.5,22.7,22.8,24.0,24.2,20.2,29.4,22.1,23.6,25.2,24.9,33.0,23.5,26.4,29.8,30.0,25.0,27.0,20.0,25.5,28.2,33.3,25.6,24.2,22.1,31.4,23.1,23.4,18.8,30.8,32.0,31.6,35.5,31.9,29.5,31.6,20.3,41.3,21.2,24.1,23.0,25.6,22.5,38.2,19.2,29.0,24.0,20.6,26.3,34.6,23.4,29.2,27.2,27.0,24.5,24.1,25.3,28.8,20.9,23.0,24.1,28.1,18.0,25.9,21.5,24.3,24.5,21.3,25.8,24.8,31.5,33.5,28.1,24.3,35.0,23.5,30.0,20.7,25.6,22.9,25.1,33.2,24.1,29.5,29.6,22.8,22.7,26.2,23.5,22.1,26.5,32.4,30.1,24.2,31.3,30.1,24.5,27.7,23.2,27.0,26.8,29.2,31.2,32.1,25.7,26.9,31.4,25.6,37.0,32.6,21.2,29.2,24.0,36.1,25.8,22.0,21.9,34.3,25.2,23.3,25.7,25.1,31.9,28.4,28.1,25.3,26.1,28.0,23.6,24.5,21.0,32.0,22.6,19.7,21.2,30.6,25.5,23.3,31.0,18.5,26.9,28.3,25.7,36.1,24.1,25.8,22.8,39.1,42.2,26.6,29.9,21.0,25.5,24.2,25.4,23.2,26.1,32.7,27.3,26.6,22.8,28.8,18.1,32.0,23.7,23.6,24.6,22.6,27.8,24.1,26.5,32.8,19.9,23.6,22.1,28.1,26.5,23.5,26.0,27.8,28.5,30.6,22.2,23.3,35.4,31.4,37.8,18.9,35.0,21.7,25.3,23.8,31.8,34.3,26.3,27.0,27.2,33.8,33.0,24.1,21.3,23.0,27.9,33.6,22.7,27.4,22.6,23.2,26.9,34.6,23.3,21.1,23.5,31.5,20.8,26.5,24.2,19.5,28.2,24.9,24.9,30.0,19.6]},{\"axis\":{\"matches\":true},\"label\":\"LD_lipo\",\"values\":[93.2,103.2,93.6,131.4,125.4,64.8,99.6,185.0,119.4,93.4,57.6,144.8,109.2,105.4,115.4,184.2,100.2,147.0,103.0,108.2,87.8,98.6,120.4,85.2,103.4,118.4,54.0,87.6,91.4,54.2,110.6,81.2,107.2,58.0,84.2,112.8,97.2,88.0,163.6,119.4,162.2,69.0,100.4,109.0,118.4,116.4,85.0,68.0,119.2,119.4,91.6,96.8,144.0,129.6,126.8,101.0,96.0,48.8,78.4,146.4,65.2,98.0,106.6,143.2,77.2,125.0,123.2,120.8,100.0,76.2,109.6,132.2,146.6,149.4,126.4,114.8,47.2,97.8,71.8,128.2,149.6,133.6,126.4,81.6,96.2,114.8,105.8,125.8,91.8,105.2,86.6,156.8,102.2,105.6,106.8,97.0,107.6,142.6,106.6,139.4,143.8,115.2,131.4,160.6,104.4,101.6,93.2,141.4,79.8,139.4,89.8,122.0,128.0,128.4,94.4,147.0,128.6,135.6,141.0,88.0,103.6,129.2,156.4,242.4,90.6,74.8,80.6,124.2,112.2,122.2,112.4,108.6,146.0,69.6,115.6,88.0,72.0,105.0,93.8,84.2,114.6,152.0,143.8,119.8,147.8,94.6,135.6,130.4,146.2,102.4,106.2,100.2,158.2,125.8,132.2,170.6,92.6,142.8,126.2,120.0,107.0,199.4,108.2,119.0,106.8,87.8,70.2,116.4,155.8,105.2,105.8,77.2,125.6,73.0,55.0,98.6,132.0,127.2,125.8,141.8,119.2,147.4,172.4,114.4,98.8,99.6,152.2,63.0,160.6,117.4,112.2,66.8,129.0,169.0,83.8,146.4,138.6,124.0,93.8,105.4,146.8,110.4,173.6,151.6,110.8,85.4,140.0,106.6,139.6,104.8,145.6,104.8,135.4,114.8,63.6,95.0,162.8,139.0,124.6,68.0,94.2,116.0,85.0,77.0,89.0,87.6,99.6,105.4,120.6,115.0,215.0,121.0,152.0,93.4,100.0,93.4,160.6,114.8,110.6,140.2,114.0,133.0,72.2,105.2,84.2,78.0,148.0,103.6,197.2,134.2,90.4,146.6,149.2,151.6,107.6,103.0,102.8,100.4,149.2,123.7,95.4,99.0,126.6,94.6,109.2,113.6,92.0,166.2,139.4,108.8,85.2,102.0,73.0,136.4,113.4,105.6,174.0,65.6,128.0,98.6,122.2,96.0,181.2,92.2,86.6,129.0,60.2,195.4,151.4,149.4,126.2,142.8,71.6,142.6,126.8,107.2,99.8,99.8,67.2,101.4,106.8,134.6,132.8,128.4,189.8,125.8,99.6,138.2,63.4,160.2,125.0,154.2,106.4,128.0,114.8,128.6,101.8,162.8,121.0,80.6,174.2,138.8,92.4,112.6,165.2,151.6,116.2,131.4,100.6,96.8,139.0,85.8,108.2,114.4,78.6,111.2,172.6,120.0,130.8,151.6,113.0,116.2,127.0,121.0,156.6,152.4,196.8,107.4,96.6,85.4,104.2,71.0,53.4,113.4,172.2,101.6,125.8,96.2,93.6,126.6,107.0,84.6,98.4,97.4,118.6,118.8,135.8,137.0,109.0,113.0,107.4,103.2,123.6,79.0,70.4,129.8,198.6,144.0,122.4,41.6,87.2,99.0,69.0,97.0,171.0,76.4,104.2,104.4,112.2,104.8,100.6,83.2,138.8,100.6,80.6,101.6,80.8,78.2,136.0,123.0,92.8,81.0,128.4,100.2,97.6,51.0,91.8,140.8,127.8,162.0,139.2,69.2,123.8,120.0,190.2,145.6,127.0,114.6,175.6,78.8,137.6,144.2,156.6,162.4,113.0,43.4,159.4,75.4,129.2,142.0,144.4,85.4,144.0,128.2,122.4,118.4,85.4,113.8,166.0,106.6,125.2,133.2]},{\"axis\":{\"matches\":true},\"label\":\"triglycerides\",\"values\":[4.8598,3.8918,4.6728,4.8903,4.2905,4.1897,3.9512,4.2485,4.4773,5.3845,3.9512,3.5835,4.3041,5.0626,4.2905,5.037,5.2149,4.9416,4.4427,4.5433,4.5109,3.8501,3.9703,6.107,4.3567,4.852,4.1744,4.4659,4.6347,5.2933,4.3438,4.2341,4.6444,4.4427,3.989,4.8752,5.2417,4.8283,5.425,4.852,4.7791,4.0943,4.5326,4.1744,4.9972,4.4773,4.5539,4.4427,3.989,5.0304,4.4067,4.6151,4.4427,4.2767,4.1897,3.912,5.0106,4.0254,4.6347,5.0626,4.0775,5.0434,3.7377,4.3041,4.4308,5.1059,4.6444,4.5109,4.4998,4.0775,3.9512,4.9345,5.5683,4.585,4.6821,4.7095,4.3041,3.8286,5.112,3.8918,4.92,4.5747,3.8712,4.4659,3.8918,4.1897,3.5835,5.112,4.2627,4.3694,3.8501,5.0499,4.7791,4.2767,4.1897,4.654,5.3083,4.6728,4.5747,4.7707,5.0499,4.3041,4.585,4.5218,3.9703,4.5218,3.989,4.0604,5.1417,4.3567,3.2581,4.382,4.382,5.1533,5.7301,5.5607,4.8828,5.5094,4.8675,4.9416,4.2047,4.8598,4.9972,4.8122,4.4659,5.5255,3.6109,4.6913,4.3041,5.0689,4.8903,4.1271,4.4998,3.8501,4.3438,5.1985,3.912,4.8283,4.9488,5.2417,4.2767,5.1358,5.1417,4.1897,4.7095,4.4659,4.804,4.9273,4.3041,5.3132,4.4308,4.5433,4.9345,4.2627,4.7362,5.0562,4.4067,4.7536,4.3041,5.1059,4.2485,5.4723,4.3041,4.382,4.8363,4.0254,3.7842,5.4931,5.3982,6.107,3.5835,4.0775,5.4467,4.4427,4.8283,4.3438,4.6052,5.4337,4.1109,4.7958,4.8203,4.3567,4.8122,4.8122,5.0499,5.3799,5.1591,3.6889,4.625,4.4188,4.8978,4.7536,4.3175,5.0752,4.6634,4.7274,4.2767,4.7875,3.8286,5.6276,4.3307,4.0604,5.5683,4.92,4.6634,5.3375,4.7449,5.1475,4.625,4.5109,4.2767,4.3944,4.6347,4.3944,4.2047,5.0434,5.1417,5.0106,4.7185,4.654,3.5264,4.654,4.654,4.4427,4.2485,5.3327,4.2047,4.2195,4.3438,4.382,5.193,4.7449,4.9053,4.3567,5.3471,4.585,5.0876,4.1109,4.7622,5.366,5.0106,4.3175,3.7842,4.1589,4.1589,4.0943,5.1358,4.5218,5.3423,5.4116,5.4723,5.5683,4.5951,5.0239,5.9584,4.6052,4.9488,4.585,4.2341,4.1589,3.7612,4.4998,5.0239,3.8501,3.989,4.804,3.6889,4.8978,4.9628,4.5109,4.7362,4.4427,4.4427,5.8081,4.8122,4.7622,5.273,4.4067,4.654,4.4659,4.8203,4.9053,4.5433,3.8918,4.6728,5.2983,4.4308,4.9972,3.8712,5.3132,4.9698,5.2781,3.9512,4.0431,3.8286,4.8203,4.0254,3.9318,4.3041,4.3567,5.112,4.4067,4.9836,5.451,4.3944,4.8363,4.2047,4.8978,3.9703,4.9345,4.4427,4.7791,4.2195,5.247,4.5109,4.5218,5.4638,4.9127,4.7449,4.9558,5.0039,5.7236,6.1048,6.0568,5.366,5.5683,4.9698,4.6347,4.625,4.4543,4.382,4.1897,5.2679,4.9628,3.9512,4.0775,5.5294,4.7005,4.3944,5.118,4.2485,4.3694,4.382,4.0073,4.7185,4.6347,5.3279,4.6821,4.5218,3.9703,5.4116,4.0073,4.4188,6.0936,5.4553,4.2767,4.3307,5.1874,3.7377,4.804,4.7875,3.8501,4.6821,4.852,4.804,4.9836,5.4205,5.0106,5.5797,4.585,3.9703,5.9506,4.5218,4.1744,4.6347,4.9488,5.1475,4.7449,4.8903,4.1271,4.0775,4.4998,5.7838,4.4427,4.9053,4.3567,4.3041,3.4965,4.9345,4.1897,5.7746,3.6636,4.1897,4.2047,6.0684,4.9904,3.5835,5.037,5.1358,5.0752,4.2627,4.1744,4.8122,5.3181,4.3438,5.0434,4.0254,4.1109,5.2781,4.9767,5.366,4.0775,4.7095,4.2485,5.2417,4.804,4.3175,4.1271,4.4067,3.8286,4.2767,5.1874,5.0876,4.8122,4.9053,4.4188,5.0304,4.1431,5.366,4.3567,4.5326,4.4773,5.2523,4.0775,4.1431,4.2195,3.9703,4.9836,4.4427,4.1271,5.1299,4.5951]},{\"axis\":{\"matches\":true},\"label\":\"Glucose\",\"values\":[87,69,85,89,80,68,82,92,94,88,83,77,81,88,73,81,98,91,87,78,95,87,88,124,78,83,90,101,78,104,89,81,98,92,75,96,85,90,97,92,114,89,83,109,87,79,70,71,86,88,93,86,88,103,93,93,87,75,79,96,83,96,85,74,94,95,96,92,92,96,101,106,87,89,109,98,95,91,71,85,90,91,72,81,60,74,83,82,108,96,94,96,94,78,69,90,99,110,75,78,91,100,91,84,76,96,71,90,101,117,95,80,92,113,97,92,98,124,105,98,86,94,103,109,88,93,78,68,74,120,109,72,97,84,80,105,86,88,109,90,95,123,91,81,93,79,93,101,91,82,89,88,109,94,92,103,83,98,79,87,80,112,91,106,88,88,66,117,122,96,87,80,112,78,93,92,96,99,84,89,91,76,89,105,99,87,82,66,89,85,90,89,77,96,97,97,94,100,77,93,102,98,84,98,110,85,92,100,120,88,77,86,96,93,78,117,103,102,88,84,75,82,96,79,89,92,78,93,79,94,108,94,99,82,105,103,94,91,86,103,96,105,74,81,90,60,77,69,101,93,100,101,84,108,113,93,94,79,105,93,87,95,92,87,86,101,92,98,109,82,95,93,69,100,95,108,86,95,99,85,87,92,98,84,78,86,90,90,87,83,102,77,82,91,83,92,77,78,88,91,102,100,98,86,88,75,88,111,72,111,99,97,84,91,82,91,101,108,99,106,92,106,111,105,96,103,98,90,96,102,95,90,100,99,78,77,104,92,77,95,84,87,97,93,84,91,95,84,91,74,124,81,82,92,106,94,73,77,80,106,101,97,101,94,115,115,103,99,111,98,73,87,86,91,72,96,91,76,82,97,85,78,100,93,82,88,92,73,82,70,109,79,107,86,93,78,83,97,75,96,89,101,102,101,89,84,58,96,101,90,81,85,112,96,93,92,100,92,93,90,106,95,89,80,97,79,112,99,123,82,87,91,117,89,99,82,80,93,102,95,85,92]}],\"hovertemplate\":\"%{xaxis.title.text}=%{x}<br>%{yaxis.title.text}=%{y}<extra></extra>\",\"legendgroup\":\"\",\"marker\":{\"color\":\"#636efa\",\"symbol\":\"circle\"},\"name\":\"\",\"showlegend\":false,\"type\":\"splom\"}],                        {\"template\":{\"data\":{\"bar\":[{\"error_x\":{\"color\":\"#2a3f5f\"},\"error_y\":{\"color\":\"#2a3f5f\"},\"marker\":{\"line\":{\"color\":\"#E5ECF6\",\"width\":0.5},\"pattern\":{\"fillmode\":\"overlay\",\"size\":10,\"solidity\":0.2}},\"type\":\"bar\"}],\"barpolar\":[{\"marker\":{\"line\":{\"color\":\"#E5ECF6\",\"width\":0.5},\"pattern\":{\"fillmode\":\"overlay\",\"size\":10,\"solidity\":0.2}},\"type\":\"barpolar\"}],\"carpet\":[{\"aaxis\":{\"endlinecolor\":\"#2a3f5f\",\"gridcolor\":\"white\",\"linecolor\":\"white\",\"minorgridcolor\":\"white\",\"startlinecolor\":\"#2a3f5f\"},\"baxis\":{\"endlinecolor\":\"#2a3f5f\",\"gridcolor\":\"white\",\"linecolor\":\"white\",\"minorgridcolor\":\"white\",\"startlinecolor\":\"#2a3f5f\"},\"type\":\"carpet\"}],\"choropleth\":[{\"colorbar\":{\"outlinewidth\":0,\"ticks\":\"\"},\"type\":\"choropleth\"}],\"contour\":[{\"colorbar\":{\"outlinewidth\":0,\"ticks\":\"\"},\"colorscale\":[[0.0,\"#0d0887\"],[0.1111111111111111,\"#46039f\"],[0.2222222222222222,\"#7201a8\"],[0.3333333333333333,\"#9c179e\"],[0.4444444444444444,\"#bd3786\"],[0.5555555555555556,\"#d8576b\"],[0.6666666666666666,\"#ed7953\"],[0.7777777777777778,\"#fb9f3a\"],[0.8888888888888888,\"#fdca26\"],[1.0,\"#f0f921\"]],\"type\":\"contour\"}],\"contourcarpet\":[{\"colorbar\":{\"outlinewidth\":0,\"ticks\":\"\"},\"type\":\"contourcarpet\"}],\"heatmap\":[{\"colorbar\":{\"outlinewidth\":0,\"ticks\":\"\"},\"colorscale\":[[0.0,\"#0d0887\"],[0.1111111111111111,\"#46039f\"],[0.2222222222222222,\"#7201a8\"],[0.3333333333333333,\"#9c179e\"],[0.4444444444444444,\"#bd3786\"],[0.5555555555555556,\"#d8576b\"],[0.6666666666666666,\"#ed7953\"],[0.7777777777777778,\"#fb9f3a\"],[0.8888888888888888,\"#fdca26\"],[1.0,\"#f0f921\"]],\"type\":\"heatmap\"}],\"heatmapgl\":[{\"colorbar\":{\"outlinewidth\":0,\"ticks\":\"\"},\"colorscale\":[[0.0,\"#0d0887\"],[0.1111111111111111,\"#46039f\"],[0.2222222222222222,\"#7201a8\"],[0.3333333333333333,\"#9c179e\"],[0.4444444444444444,\"#bd3786\"],[0.5555555555555556,\"#d8576b\"],[0.6666666666666666,\"#ed7953\"],[0.7777777777777778,\"#fb9f3a\"],[0.8888888888888888,\"#fdca26\"],[1.0,\"#f0f921\"]],\"type\":\"heatmapgl\"}],\"histogram\":[{\"marker\":{\"pattern\":{\"fillmode\":\"overlay\",\"size\":10,\"solidity\":0.2}},\"type\":\"histogram\"}],\"histogram2d\":[{\"colorbar\":{\"outlinewidth\":0,\"ticks\":\"\"},\"colorscale\":[[0.0,\"#0d0887\"],[0.1111111111111111,\"#46039f\"],[0.2222222222222222,\"#7201a8\"],[0.3333333333333333,\"#9c179e\"],[0.4444444444444444,\"#bd3786\"],[0.5555555555555556,\"#d8576b\"],[0.6666666666666666,\"#ed7953\"],[0.7777777777777778,\"#fb9f3a\"],[0.8888888888888888,\"#fdca26\"],[1.0,\"#f0f921\"]],\"type\":\"histogram2d\"}],\"histogram2dcontour\":[{\"colorbar\":{\"outlinewidth\":0,\"ticks\":\"\"},\"colorscale\":[[0.0,\"#0d0887\"],[0.1111111111111111,\"#46039f\"],[0.2222222222222222,\"#7201a8\"],[0.3333333333333333,\"#9c179e\"],[0.4444444444444444,\"#bd3786\"],[0.5555555555555556,\"#d8576b\"],[0.6666666666666666,\"#ed7953\"],[0.7777777777777778,\"#fb9f3a\"],[0.8888888888888888,\"#fdca26\"],[1.0,\"#f0f921\"]],\"type\":\"histogram2dcontour\"}],\"mesh3d\":[{\"colorbar\":{\"outlinewidth\":0,\"ticks\":\"\"},\"type\":\"mesh3d\"}],\"parcoords\":[{\"line\":{\"colorbar\":{\"outlinewidth\":0,\"ticks\":\"\"}},\"type\":\"parcoords\"}],\"pie\":[{\"automargin\":true,\"type\":\"pie\"}],\"scatter\":[{\"marker\":{\"colorbar\":{\"outlinewidth\":0,\"ticks\":\"\"}},\"type\":\"scatter\"}],\"scatter3d\":[{\"line\":{\"colorbar\":{\"outlinewidth\":0,\"ticks\":\"\"}},\"marker\":{\"colorbar\":{\"outlinewidth\":0,\"ticks\":\"\"}},\"type\":\"scatter3d\"}],\"scattercarpet\":[{\"marker\":{\"colorbar\":{\"outlinewidth\":0,\"ticks\":\"\"}},\"type\":\"scattercarpet\"}],\"scattergeo\":[{\"marker\":{\"colorbar\":{\"outlinewidth\":0,\"ticks\":\"\"}},\"type\":\"scattergeo\"}],\"scattergl\":[{\"marker\":{\"colorbar\":{\"outlinewidth\":0,\"ticks\":\"\"}},\"type\":\"scattergl\"}],\"scattermapbox\":[{\"marker\":{\"colorbar\":{\"outlinewidth\":0,\"ticks\":\"\"}},\"type\":\"scattermapbox\"}],\"scatterpolar\":[{\"marker\":{\"colorbar\":{\"outlinewidth\":0,\"ticks\":\"\"}},\"type\":\"scatterpolar\"}],\"scatterpolargl\":[{\"marker\":{\"colorbar\":{\"outlinewidth\":0,\"ticks\":\"\"}},\"type\":\"scatterpolargl\"}],\"scatterternary\":[{\"marker\":{\"colorbar\":{\"outlinewidth\":0,\"ticks\":\"\"}},\"type\":\"scatterternary\"}],\"surface\":[{\"colorbar\":{\"outlinewidth\":0,\"ticks\":\"\"},\"colorscale\":[[0.0,\"#0d0887\"],[0.1111111111111111,\"#46039f\"],[0.2222222222222222,\"#7201a8\"],[0.3333333333333333,\"#9c179e\"],[0.4444444444444444,\"#bd3786\"],[0.5555555555555556,\"#d8576b\"],[0.6666666666666666,\"#ed7953\"],[0.7777777777777778,\"#fb9f3a\"],[0.8888888888888888,\"#fdca26\"],[1.0,\"#f0f921\"]],\"type\":\"surface\"}],\"table\":[{\"cells\":{\"fill\":{\"color\":\"#EBF0F8\"},\"line\":{\"color\":\"white\"}},\"header\":{\"fill\":{\"color\":\"#C8D4E3\"},\"line\":{\"color\":\"white\"}},\"type\":\"table\"}]},\"layout\":{\"annotationdefaults\":{\"arrowcolor\":\"#2a3f5f\",\"arrowhead\":0,\"arrowwidth\":1},\"autotypenumbers\":\"strict\",\"coloraxis\":{\"colorbar\":{\"outlinewidth\":0,\"ticks\":\"\"}},\"colorscale\":{\"diverging\":[[0,\"#8e0152\"],[0.1,\"#c51b7d\"],[0.2,\"#de77ae\"],[0.3,\"#f1b6da\"],[0.4,\"#fde0ef\"],[0.5,\"#f7f7f7\"],[0.6,\"#e6f5d0\"],[0.7,\"#b8e186\"],[0.8,\"#7fbc41\"],[0.9,\"#4d9221\"],[1,\"#276419\"]],\"sequential\":[[0.0,\"#0d0887\"],[0.1111111111111111,\"#46039f\"],[0.2222222222222222,\"#7201a8\"],[0.3333333333333333,\"#9c179e\"],[0.4444444444444444,\"#bd3786\"],[0.5555555555555556,\"#d8576b\"],[0.6666666666666666,\"#ed7953\"],[0.7777777777777778,\"#fb9f3a\"],[0.8888888888888888,\"#fdca26\"],[1.0,\"#f0f921\"]],\"sequentialminus\":[[0.0,\"#0d0887\"],[0.1111111111111111,\"#46039f\"],[0.2222222222222222,\"#7201a8\"],[0.3333333333333333,\"#9c179e\"],[0.4444444444444444,\"#bd3786\"],[0.5555555555555556,\"#d8576b\"],[0.6666666666666666,\"#ed7953\"],[0.7777777777777778,\"#fb9f3a\"],[0.8888888888888888,\"#fdca26\"],[1.0,\"#f0f921\"]]},\"colorway\":[\"#636efa\",\"#EF553B\",\"#00cc96\",\"#ab63fa\",\"#FFA15A\",\"#19d3f3\",\"#FF6692\",\"#B6E880\",\"#FF97FF\",\"#FECB52\"],\"font\":{\"color\":\"#2a3f5f\"},\"geo\":{\"bgcolor\":\"white\",\"lakecolor\":\"white\",\"landcolor\":\"#E5ECF6\",\"showlakes\":true,\"showland\":true,\"subunitcolor\":\"white\"},\"hoverlabel\":{\"align\":\"left\"},\"hovermode\":\"closest\",\"mapbox\":{\"style\":\"light\"},\"paper_bgcolor\":\"white\",\"plot_bgcolor\":\"#E5ECF6\",\"polar\":{\"angularaxis\":{\"gridcolor\":\"white\",\"linecolor\":\"white\",\"ticks\":\"\"},\"bgcolor\":\"#E5ECF6\",\"radialaxis\":{\"gridcolor\":\"white\",\"linecolor\":\"white\",\"ticks\":\"\"}},\"scene\":{\"xaxis\":{\"backgroundcolor\":\"#E5ECF6\",\"gridcolor\":\"white\",\"gridwidth\":2,\"linecolor\":\"white\",\"showbackground\":true,\"ticks\":\"\",\"zerolinecolor\":\"white\"},\"yaxis\":{\"backgroundcolor\":\"#E5ECF6\",\"gridcolor\":\"white\",\"gridwidth\":2,\"linecolor\":\"white\",\"showbackground\":true,\"ticks\":\"\",\"zerolinecolor\":\"white\"},\"zaxis\":{\"backgroundcolor\":\"#E5ECF6\",\"gridcolor\":\"white\",\"gridwidth\":2,\"linecolor\":\"white\",\"showbackground\":true,\"ticks\":\"\",\"zerolinecolor\":\"white\"}},\"shapedefaults\":{\"line\":{\"color\":\"#2a3f5f\"}},\"ternary\":{\"aaxis\":{\"gridcolor\":\"white\",\"linecolor\":\"white\",\"ticks\":\"\"},\"baxis\":{\"gridcolor\":\"white\",\"linecolor\":\"white\",\"ticks\":\"\"},\"bgcolor\":\"#E5ECF6\",\"caxis\":{\"gridcolor\":\"white\",\"linecolor\":\"white\",\"ticks\":\"\"}},\"title\":{\"x\":0.05},\"xaxis\":{\"automargin\":true,\"gridcolor\":\"white\",\"linecolor\":\"white\",\"ticks\":\"\",\"title\":{\"standoff\":15},\"zerolinecolor\":\"white\",\"zerolinewidth\":2},\"yaxis\":{\"automargin\":true,\"gridcolor\":\"white\",\"linecolor\":\"white\",\"ticks\":\"\",\"title\":{\"standoff\":15},\"zerolinecolor\":\"white\",\"zerolinewidth\":2}}},\"legend\":{\"tracegroupgap\":0},\"title\":{\"text\":\"scatter matrix plot of age, bmi ld_lipo, triglycerides, and glucose\"},\"dragmode\":\"select\"},                        {\"responsive\": true}                    ).then(function(){\n",
       "                            \n",
       "var gd = document.getElementById('d61b8481-eca3-4c08-bc0d-21cd9912ae3d');\n",
       "var x = new MutationObserver(function (mutations, observer) {{\n",
       "        var display = window.getComputedStyle(gd).display;\n",
       "        if (!display || display === 'none') {{\n",
       "            console.log([gd, 'removed!']);\n",
       "            Plotly.purge(gd);\n",
       "            observer.disconnect();\n",
       "        }}\n",
       "}});\n",
       "\n",
       "// Listen for the removal of the full notebook cells\n",
       "var notebookContainer = gd.closest('#notebook-container');\n",
       "if (notebookContainer) {{\n",
       "    x.observe(notebookContainer, {childList: true});\n",
       "}}\n",
       "\n",
       "// Listen for the clearing of the current output cell\n",
       "var outputEl = gd.closest('.output');\n",
       "if (outputEl) {{\n",
       "    x.observe(outputEl, {childList: true});\n",
       "}}\n",
       "\n",
       "                        })                };                });            </script>        </div>"
      ]
     },
     "metadata": {},
     "output_type": "display_data"
    }
   ],
   "source": [
    "## Put your code here\n",
    "\n",
    "fig3 = px.scatter_matrix(SAS_df, dimensions=[\"AGE\", \"BMI\", \"LD_lipo\", \"triglycerides\",\"Glucose\"],title=\"scatter matrix plot of age, bmi ld_lipo, triglycerides, and glucose\")\n",
    "fig3.show()"
   ]
  },
  {
   "cell_type": "markdown",
   "metadata": {},
   "source": [
    "&#9989; **(7 pt):** Create another scatter matrix plot like you did above, but now use different colors for the male and female data points."
   ]
  },
  {
   "cell_type": "code",
   "execution_count": 64,
   "metadata": {},
   "outputs": [
    {
     "data": {
      "application/vnd.plotly.v1+json": {
       "config": {
        "plotlyServerURL": "https://plot.ly"
       },
       "data": [
        {
         "dimensions": [
          {
           "axis": {
            "matches": true
           },
           "label": "AGE",
           "values": [
            59,
            48,
            72,
            24,
            50,
            23,
            36,
            66,
            60,
            29,
            22,
            56,
            53,
            50,
            61,
            34,
            47,
            68,
            38,
            41,
            35,
            25,
            25,
            61,
            31,
            30,
            19,
            42,
            63,
            67,
            32,
            42,
            58,
            57,
            53,
            62,
            52,
            46,
            48,
            48,
            50,
            21,
            32,
            54,
            61,
            56,
            33,
            27,
            67,
            37,
            58,
            65,
            34,
            46,
            35,
            37,
            37,
            41,
            60,
            66,
            29,
            37,
            41,
            39,
            67,
            36,
            46,
            60,
            59,
            53,
            48,
            48,
            66,
            52,
            52,
            46,
            40,
            22,
            50,
            20,
            68,
            52,
            44,
            38,
            49,
            61,
            29,
            61,
            34,
            36,
            52,
            61,
            43,
            35,
            27,
            29,
            64,
            41,
            49,
            48,
            53,
            53,
            23,
            65,
            41,
            55,
            22,
            56,
            54,
            59,
            60,
            54,
            25,
            54,
            55,
            40,
            62,
            65,
            33,
            53,
            35,
            66,
            62,
            50,
            47,
            47,
            24,
            58,
            34,
            51,
            31,
            22,
            53,
            37,
            28,
            47,
            23,
            50,
            58,
            55,
            60,
            41,
            60,
            40,
            57,
            37,
            40,
            33,
            32,
            35,
            55,
            49,
            39,
            60,
            67,
            41,
            44,
            48,
            45,
            47,
            46,
            36,
            34,
            53,
            61,
            37,
            33,
            68,
            49,
            48,
            55,
            43,
            60,
            31,
            53,
            67,
            61,
            62,
            60,
            42,
            38,
            62,
            61,
            61,
            53,
            28,
            26,
            30,
            50,
            48,
            51,
            47,
            64,
            51,
            30,
            56,
            42,
            62,
            34,
            60,
            64,
            39,
            71,
            48,
            79,
            40,
            49,
            51,
            57,
            59,
            51,
            74,
            67,
            49,
            57,
            56,
            52,
            69,
            37,
            24,
            55,
            36,
            42,
            21,
            41,
            57,
            20,
            67,
            34,
            41,
            38,
            51,
            52,
            67,
            61,
            67,
            56,
            64,
            58,
            55,
            62,
            57,
            20,
            53,
            32,
            41,
            60,
            26,
            37,
            45,
            67,
            34,
            50,
            71,
            57,
            49,
            35,
            41,
            70,
            52,
            60,
            62,
            44,
            28,
            58,
            39,
            34,
            65,
            66,
            51,
            50,
            59,
            52,
            69,
            53,
            47,
            52,
            39,
            67,
            59,
            51,
            23,
            68,
            44,
            60,
            52,
            38,
            61,
            68,
            28,
            65,
            69,
            51,
            29,
            55,
            34,
            67,
            49,
            55,
            59,
            53,
            48,
            52,
            69,
            60,
            46,
            51,
            67,
            49,
            46,
            47,
            75,
            28,
            65,
            42,
            51,
            53,
            54,
            73,
            54,
            42,
            75,
            55,
            68,
            57,
            48,
            61,
            69,
            38,
            45,
            51,
            71,
            57,
            56,
            32,
            50,
            43,
            54,
            31,
            56,
            44,
            57,
            64,
            43,
            19,
            71,
            50,
            59,
            57,
            49,
            41,
            25,
            52,
            34,
            42,
            28,
            47,
            32,
            43,
            59,
            53,
            60,
            54,
            35,
            49,
            58,
            36,
            46,
            44,
            46,
            54,
            63,
            41,
            28,
            19,
            61,
            48,
            54,
            53,
            48,
            53,
            29,
            62,
            50,
            58,
            55,
            54,
            36,
            63,
            47,
            51,
            42,
            37,
            28,
            58,
            32,
            25,
            63,
            52,
            65,
            42,
            53,
            79,
            43,
            44,
            62,
            33,
            56,
            66,
            34,
            46,
            50,
            69,
            34,
            71,
            47,
            41,
            34,
            51,
            43,
            55,
            59,
            27,
            51,
            49,
            27,
            57,
            39,
            62,
            37,
            46,
            68,
            51,
            41,
            53,
            45,
            33,
            60,
            47,
            60,
            36,
            36
           ]
          },
          {
           "axis": {
            "matches": true
           },
           "label": "BMI",
           "values": [
            32.1,
            21.6,
            30.5,
            25.3,
            23,
            22.6,
            22,
            26.2,
            32.1,
            30,
            18.6,
            28,
            23.7,
            26.2,
            24,
            24.7,
            30.3,
            27.5,
            25.4,
            24.7,
            21.1,
            24.3,
            26,
            32,
            29.7,
            25.2,
            19.2,
            31.9,
            24.4,
            25.8,
            30.5,
            20.3,
            38,
            21.7,
            20.5,
            23.5,
            28.5,
            27.4,
            33,
            27.7,
            25.6,
            20.1,
            25.4,
            24.2,
            32.7,
            23.1,
            25.3,
            19.6,
            22.5,
            27.7,
            25.7,
            27.9,
            25.5,
            24.9,
            28.7,
            21.8,
            30.2,
            20.5,
            20.4,
            24,
            26,
            26.8,
            25.7,
            22.9,
            24,
            24.1,
            24.7,
            25,
            23.6,
            22.1,
            19.9,
            29.5,
            26,
            24.5,
            26.6,
            23.5,
            29,
            23,
            21,
            22.9,
            27.5,
            24.3,
            23.1,
            27.3,
            22.7,
            33,
            19.4,
            25.8,
            22.6,
            21.9,
            24,
            31.2,
            26.8,
            20.4,
            24.8,
            21,
            27.3,
            34.6,
            25.9,
            20.4,
            28,
            22.2,
            29,
            30.2,
            32.4,
            23.4,
            19.3,
            31,
            30.6,
            25.5,
            23.4,
            26.8,
            28.3,
            27.7,
            36.6,
            26.5,
            31.8,
            24.4,
            25.4,
            22,
            26.8,
            28,
            33.9,
            29.6,
            28.6,
            25.6,
            20.7,
            26.2,
            20.6,
            27.9,
            35.3,
            19.9,
            24.4,
            21.4,
            30.4,
            31.6,
            18.8,
            31,
            36.7,
            32.1,
            27.7,
            30.8,
            27.5,
            26.9,
            30.7,
            38.3,
            31.9,
            35,
            27.8,
            25.9,
            32.9,
            26,
            26.3,
            22.3,
            28.3,
            32,
            25.4,
            23.3,
            20.3,
            30.4,
            20.6,
            32.3,
            29.2,
            33.1,
            24.6,
            20.2,
            20.8,
            32.8,
            31.9,
            23.9,
            24.5,
            22.1,
            33,
            19,
            27.3,
            22.8,
            28.2,
            28.9,
            25.6,
            24.9,
            26.8,
            22.4,
            26.9,
            23.1,
            28.6,
            24.7,
            30.3,
            21.3,
            26.1,
            20.2,
            25.2,
            22.5,
            23.5,
            25.9,
            20.9,
            28.7,
            22.1,
            26.7,
            31.4,
            22.2,
            21,
            21.2,
            26.5,
            29.2,
            27,
            30.7,
            28.8,
            30.6,
            30.1,
            24.7,
            27.7,
            29.8,
            26.7,
            19.8,
            23.3,
            35.1,
            29.7,
            29.3,
            20.3,
            22.5,
            22.7,
            22.8,
            24,
            24.2,
            20.2,
            29.4,
            22.1,
            23.6,
            25.2,
            24.9,
            33,
            23.5,
            26.4,
            29.8,
            30,
            25,
            27,
            20,
            25.5,
            28.2,
            33.3,
            25.6,
            24.2,
            22.1,
            31.4,
            23.1,
            23.4,
            18.8,
            30.8,
            32,
            31.6,
            35.5,
            31.9,
            29.5,
            31.6,
            20.3,
            41.3,
            21.2,
            24.1,
            23,
            25.6,
            22.5,
            38.2,
            19.2,
            29,
            24,
            20.6,
            26.3,
            34.6,
            23.4,
            29.2,
            27.2,
            27,
            24.5,
            24.1,
            25.3,
            28.8,
            20.9,
            23,
            24.1,
            28.1,
            18,
            25.9,
            21.5,
            24.3,
            24.5,
            21.3,
            25.8,
            24.8,
            31.5,
            33.5,
            28.1,
            24.3,
            35,
            23.5,
            30,
            20.7,
            25.6,
            22.9,
            25.1,
            33.2,
            24.1,
            29.5,
            29.6,
            22.8,
            22.7,
            26.2,
            23.5,
            22.1,
            26.5,
            32.4,
            30.1,
            24.2,
            31.3,
            30.1,
            24.5,
            27.7,
            23.2,
            27,
            26.8,
            29.2,
            31.2,
            32.1,
            25.7,
            26.9,
            31.4,
            25.6,
            37,
            32.6,
            21.2,
            29.2,
            24,
            36.1,
            25.8,
            22,
            21.9,
            34.3,
            25.2,
            23.3,
            25.7,
            25.1,
            31.9,
            28.4,
            28.1,
            25.3,
            26.1,
            28,
            23.6,
            24.5,
            21,
            32,
            22.6,
            19.7,
            21.2,
            30.6,
            25.5,
            23.3,
            31,
            18.5,
            26.9,
            28.3,
            25.7,
            36.1,
            24.1,
            25.8,
            22.8,
            39.1,
            42.2,
            26.6,
            29.9,
            21,
            25.5,
            24.2,
            25.4,
            23.2,
            26.1,
            32.7,
            27.3,
            26.6,
            22.8,
            28.8,
            18.1,
            32,
            23.7,
            23.6,
            24.6,
            22.6,
            27.8,
            24.1,
            26.5,
            32.8,
            19.9,
            23.6,
            22.1,
            28.1,
            26.5,
            23.5,
            26,
            27.8,
            28.5,
            30.6,
            22.2,
            23.3,
            35.4,
            31.4,
            37.8,
            18.9,
            35,
            21.7,
            25.3,
            23.8,
            31.8,
            34.3,
            26.3,
            27,
            27.2,
            33.8,
            33,
            24.1,
            21.3,
            23,
            27.9,
            33.6,
            22.7,
            27.4,
            22.6,
            23.2,
            26.9,
            34.6,
            23.3,
            21.1,
            23.5,
            31.5,
            20.8,
            26.5,
            24.2,
            19.5,
            28.2,
            24.9,
            24.9,
            30,
            19.6
           ]
          },
          {
           "axis": {
            "matches": true
           },
           "label": "LD_lipo",
           "values": [
            93.2,
            103.2,
            93.6,
            131.4,
            125.4,
            64.8,
            99.6,
            185,
            119.4,
            93.4,
            57.6,
            144.8,
            109.2,
            105.4,
            115.4,
            184.2,
            100.2,
            147,
            103,
            108.2,
            87.8,
            98.6,
            120.4,
            85.2,
            103.4,
            118.4,
            54,
            87.6,
            91.4,
            54.2,
            110.6,
            81.2,
            107.2,
            58,
            84.2,
            112.8,
            97.2,
            88,
            163.6,
            119.4,
            162.2,
            69,
            100.4,
            109,
            118.4,
            116.4,
            85,
            68,
            119.2,
            119.4,
            91.6,
            96.8,
            144,
            129.6,
            126.8,
            101,
            96,
            48.8,
            78.4,
            146.4,
            65.2,
            98,
            106.6,
            143.2,
            77.2,
            125,
            123.2,
            120.8,
            100,
            76.2,
            109.6,
            132.2,
            146.6,
            149.4,
            126.4,
            114.8,
            47.2,
            97.8,
            71.8,
            128.2,
            149.6,
            133.6,
            126.4,
            81.6,
            96.2,
            114.8,
            105.8,
            125.8,
            91.8,
            105.2,
            86.6,
            156.8,
            102.2,
            105.6,
            106.8,
            97,
            107.6,
            142.6,
            106.6,
            139.4,
            143.8,
            115.2,
            131.4,
            160.6,
            104.4,
            101.6,
            93.2,
            141.4,
            79.8,
            139.4,
            89.8,
            122,
            128,
            128.4,
            94.4,
            147,
            128.6,
            135.6,
            141,
            88,
            103.6,
            129.2,
            156.4,
            242.4,
            90.6,
            74.8,
            80.6,
            124.2,
            112.2,
            122.2,
            112.4,
            108.6,
            146,
            69.6,
            115.6,
            88,
            72,
            105,
            93.8,
            84.2,
            114.6,
            152,
            143.8,
            119.8,
            147.8,
            94.6,
            135.6,
            130.4,
            146.2,
            102.4,
            106.2,
            100.2,
            158.2,
            125.8,
            132.2,
            170.6,
            92.6,
            142.8,
            126.2,
            120,
            107,
            199.4,
            108.2,
            119,
            106.8,
            87.8,
            70.2,
            116.4,
            155.8,
            105.2,
            105.8,
            77.2,
            125.6,
            73,
            55,
            98.6,
            132,
            127.2,
            125.8,
            141.8,
            119.2,
            147.4,
            172.4,
            114.4,
            98.8,
            99.6,
            152.2,
            63,
            160.6,
            117.4,
            112.2,
            66.8,
            129,
            169,
            83.8,
            146.4,
            138.6,
            124,
            93.8,
            105.4,
            146.8,
            110.4,
            173.6,
            151.6,
            110.8,
            85.4,
            140,
            106.6,
            139.6,
            104.8,
            145.6,
            104.8,
            135.4,
            114.8,
            63.6,
            95,
            162.8,
            139,
            124.6,
            68,
            94.2,
            116,
            85,
            77,
            89,
            87.6,
            99.6,
            105.4,
            120.6,
            115,
            215,
            121,
            152,
            93.4,
            100,
            93.4,
            160.6,
            114.8,
            110.6,
            140.2,
            114,
            133,
            72.2,
            105.2,
            84.2,
            78,
            148,
            103.6,
            197.2,
            134.2,
            90.4,
            146.6,
            149.2,
            151.6,
            107.6,
            103,
            102.8,
            100.4,
            149.2,
            123.7,
            95.4,
            99,
            126.6,
            94.6,
            109.2,
            113.6,
            92,
            166.2,
            139.4,
            108.8,
            85.2,
            102,
            73,
            136.4,
            113.4,
            105.6,
            174,
            65.6,
            128,
            98.6,
            122.2,
            96,
            181.2,
            92.2,
            86.6,
            129,
            60.2,
            195.4,
            151.4,
            149.4,
            126.2,
            142.8,
            71.6,
            142.6,
            126.8,
            107.2,
            99.8,
            99.8,
            67.2,
            101.4,
            106.8,
            134.6,
            132.8,
            128.4,
            189.8,
            125.8,
            99.6,
            138.2,
            63.4,
            160.2,
            125,
            154.2,
            106.4,
            128,
            114.8,
            128.6,
            101.8,
            162.8,
            121,
            80.6,
            174.2,
            138.8,
            92.4,
            112.6,
            165.2,
            151.6,
            116.2,
            131.4,
            100.6,
            96.8,
            139,
            85.8,
            108.2,
            114.4,
            78.6,
            111.2,
            172.6,
            120,
            130.8,
            151.6,
            113,
            116.2,
            127,
            121,
            156.6,
            152.4,
            196.8,
            107.4,
            96.6,
            85.4,
            104.2,
            71,
            53.4,
            113.4,
            172.2,
            101.6,
            125.8,
            96.2,
            93.6,
            126.6,
            107,
            84.6,
            98.4,
            97.4,
            118.6,
            118.8,
            135.8,
            137,
            109,
            113,
            107.4,
            103.2,
            123.6,
            79,
            70.4,
            129.8,
            198.6,
            144,
            122.4,
            41.6,
            87.2,
            99,
            69,
            97,
            171,
            76.4,
            104.2,
            104.4,
            112.2,
            104.8,
            100.6,
            83.2,
            138.8,
            100.6,
            80.6,
            101.6,
            80.8,
            78.2,
            136,
            123,
            92.8,
            81,
            128.4,
            100.2,
            97.6,
            51,
            91.8,
            140.8,
            127.8,
            162,
            139.2,
            69.2,
            123.8,
            120,
            190.2,
            145.6,
            127,
            114.6,
            175.6,
            78.8,
            137.6,
            144.2,
            156.6,
            162.4,
            113,
            43.4,
            159.4,
            75.4,
            129.2,
            142,
            144.4,
            85.4,
            144,
            128.2,
            122.4,
            118.4,
            85.4,
            113.8,
            166,
            106.6,
            125.2,
            133.2
           ]
          },
          {
           "axis": {
            "matches": true
           },
           "label": "triglycerides",
           "values": [
            4.8598,
            3.8918,
            4.6728,
            4.8903,
            4.2905,
            4.1897,
            3.9512,
            4.2485,
            4.4773,
            5.3845,
            3.9512,
            3.5835,
            4.3041,
            5.0626,
            4.2905,
            5.037,
            5.2149,
            4.9416,
            4.4427,
            4.5433,
            4.5109,
            3.8501,
            3.9703,
            6.107,
            4.3567,
            4.852,
            4.1744,
            4.4659,
            4.6347,
            5.2933,
            4.3438,
            4.2341,
            4.6444,
            4.4427,
            3.989,
            4.8752,
            5.2417,
            4.8283,
            5.425,
            4.852,
            4.7791,
            4.0943,
            4.5326,
            4.1744,
            4.9972,
            4.4773,
            4.5539,
            4.4427,
            3.989,
            5.0304,
            4.4067,
            4.6151,
            4.4427,
            4.2767,
            4.1897,
            3.912,
            5.0106,
            4.0254,
            4.6347,
            5.0626,
            4.0775,
            5.0434,
            3.7377,
            4.3041,
            4.4308,
            5.1059,
            4.6444,
            4.5109,
            4.4998,
            4.0775,
            3.9512,
            4.9345,
            5.5683,
            4.585,
            4.6821,
            4.7095,
            4.3041,
            3.8286,
            5.112,
            3.8918,
            4.92,
            4.5747,
            3.8712,
            4.4659,
            3.8918,
            4.1897,
            3.5835,
            5.112,
            4.2627,
            4.3694,
            3.8501,
            5.0499,
            4.7791,
            4.2767,
            4.1897,
            4.654,
            5.3083,
            4.6728,
            4.5747,
            4.7707,
            5.0499,
            4.3041,
            4.585,
            4.5218,
            3.9703,
            4.5218,
            3.989,
            4.0604,
            5.1417,
            4.3567,
            3.2581,
            4.382,
            4.382,
            5.1533,
            5.7301,
            5.5607,
            4.8828,
            5.5094,
            4.8675,
            4.9416,
            4.2047,
            4.8598,
            4.9972,
            4.8122,
            4.4659,
            5.5255,
            3.6109,
            4.6913,
            4.3041,
            5.0689,
            4.8903,
            4.1271,
            4.4998,
            3.8501,
            4.3438,
            5.1985,
            3.912,
            4.8283,
            4.9488,
            5.2417,
            4.2767,
            5.1358,
            5.1417,
            4.1897,
            4.7095,
            4.4659,
            4.804,
            4.9273,
            4.3041,
            5.3132,
            4.4308,
            4.5433,
            4.9345,
            4.2627,
            4.7362,
            5.0562,
            4.4067,
            4.7536,
            4.3041,
            5.1059,
            4.2485,
            5.4723,
            4.3041,
            4.382,
            4.8363,
            4.0254,
            3.7842,
            5.4931,
            5.3982,
            6.107,
            3.5835,
            4.0775,
            5.4467,
            4.4427,
            4.8283,
            4.3438,
            4.6052,
            5.4337,
            4.1109,
            4.7958,
            4.8203,
            4.3567,
            4.8122,
            4.8122,
            5.0499,
            5.3799,
            5.1591,
            3.6889,
            4.625,
            4.4188,
            4.8978,
            4.7536,
            4.3175,
            5.0752,
            4.6634,
            4.7274,
            4.2767,
            4.7875,
            3.8286,
            5.6276,
            4.3307,
            4.0604,
            5.5683,
            4.92,
            4.6634,
            5.3375,
            4.7449,
            5.1475,
            4.625,
            4.5109,
            4.2767,
            4.3944,
            4.6347,
            4.3944,
            4.2047,
            5.0434,
            5.1417,
            5.0106,
            4.7185,
            4.654,
            3.5264,
            4.654,
            4.654,
            4.4427,
            4.2485,
            5.3327,
            4.2047,
            4.2195,
            4.3438,
            4.382,
            5.193,
            4.7449,
            4.9053,
            4.3567,
            5.3471,
            4.585,
            5.0876,
            4.1109,
            4.7622,
            5.366,
            5.0106,
            4.3175,
            3.7842,
            4.1589,
            4.1589,
            4.0943,
            5.1358,
            4.5218,
            5.3423,
            5.4116,
            5.4723,
            5.5683,
            4.5951,
            5.0239,
            5.9584,
            4.6052,
            4.9488,
            4.585,
            4.2341,
            4.1589,
            3.7612,
            4.4998,
            5.0239,
            3.8501,
            3.989,
            4.804,
            3.6889,
            4.8978,
            4.9628,
            4.5109,
            4.7362,
            4.4427,
            4.4427,
            5.8081,
            4.8122,
            4.7622,
            5.273,
            4.4067,
            4.654,
            4.4659,
            4.8203,
            4.9053,
            4.5433,
            3.8918,
            4.6728,
            5.2983,
            4.4308,
            4.9972,
            3.8712,
            5.3132,
            4.9698,
            5.2781,
            3.9512,
            4.0431,
            3.8286,
            4.8203,
            4.0254,
            3.9318,
            4.3041,
            4.3567,
            5.112,
            4.4067,
            4.9836,
            5.451,
            4.3944,
            4.8363,
            4.2047,
            4.8978,
            3.9703,
            4.9345,
            4.4427,
            4.7791,
            4.2195,
            5.247,
            4.5109,
            4.5218,
            5.4638,
            4.9127,
            4.7449,
            4.9558,
            5.0039,
            5.7236,
            6.1048,
            6.0568,
            5.366,
            5.5683,
            4.9698,
            4.6347,
            4.625,
            4.4543,
            4.382,
            4.1897,
            5.2679,
            4.9628,
            3.9512,
            4.0775,
            5.5294,
            4.7005,
            4.3944,
            5.118,
            4.2485,
            4.3694,
            4.382,
            4.0073,
            4.7185,
            4.6347,
            5.3279,
            4.6821,
            4.5218,
            3.9703,
            5.4116,
            4.0073,
            4.4188,
            6.0936,
            5.4553,
            4.2767,
            4.3307,
            5.1874,
            3.7377,
            4.804,
            4.7875,
            3.8501,
            4.6821,
            4.852,
            4.804,
            4.9836,
            5.4205,
            5.0106,
            5.5797,
            4.585,
            3.9703,
            5.9506,
            4.5218,
            4.1744,
            4.6347,
            4.9488,
            5.1475,
            4.7449,
            4.8903,
            4.1271,
            4.0775,
            4.4998,
            5.7838,
            4.4427,
            4.9053,
            4.3567,
            4.3041,
            3.4965,
            4.9345,
            4.1897,
            5.7746,
            3.6636,
            4.1897,
            4.2047,
            6.0684,
            4.9904,
            3.5835,
            5.037,
            5.1358,
            5.0752,
            4.2627,
            4.1744,
            4.8122,
            5.3181,
            4.3438,
            5.0434,
            4.0254,
            4.1109,
            5.2781,
            4.9767,
            5.366,
            4.0775,
            4.7095,
            4.2485,
            5.2417,
            4.804,
            4.3175,
            4.1271,
            4.4067,
            3.8286,
            4.2767,
            5.1874,
            5.0876,
            4.8122,
            4.9053,
            4.4188,
            5.0304,
            4.1431,
            5.366,
            4.3567,
            4.5326,
            4.4773,
            5.2523,
            4.0775,
            4.1431,
            4.2195,
            3.9703,
            4.9836,
            4.4427,
            4.1271,
            5.1299,
            4.5951
           ]
          },
          {
           "axis": {
            "matches": true
           },
           "label": "Glucose",
           "values": [
            87,
            69,
            85,
            89,
            80,
            68,
            82,
            92,
            94,
            88,
            83,
            77,
            81,
            88,
            73,
            81,
            98,
            91,
            87,
            78,
            95,
            87,
            88,
            124,
            78,
            83,
            90,
            101,
            78,
            104,
            89,
            81,
            98,
            92,
            75,
            96,
            85,
            90,
            97,
            92,
            114,
            89,
            83,
            109,
            87,
            79,
            70,
            71,
            86,
            88,
            93,
            86,
            88,
            103,
            93,
            93,
            87,
            75,
            79,
            96,
            83,
            96,
            85,
            74,
            94,
            95,
            96,
            92,
            92,
            96,
            101,
            106,
            87,
            89,
            109,
            98,
            95,
            91,
            71,
            85,
            90,
            91,
            72,
            81,
            60,
            74,
            83,
            82,
            108,
            96,
            94,
            96,
            94,
            78,
            69,
            90,
            99,
            110,
            75,
            78,
            91,
            100,
            91,
            84,
            76,
            96,
            71,
            90,
            101,
            117,
            95,
            80,
            92,
            113,
            97,
            92,
            98,
            124,
            105,
            98,
            86,
            94,
            103,
            109,
            88,
            93,
            78,
            68,
            74,
            120,
            109,
            72,
            97,
            84,
            80,
            105,
            86,
            88,
            109,
            90,
            95,
            123,
            91,
            81,
            93,
            79,
            93,
            101,
            91,
            82,
            89,
            88,
            109,
            94,
            92,
            103,
            83,
            98,
            79,
            87,
            80,
            112,
            91,
            106,
            88,
            88,
            66,
            117,
            122,
            96,
            87,
            80,
            112,
            78,
            93,
            92,
            96,
            99,
            84,
            89,
            91,
            76,
            89,
            105,
            99,
            87,
            82,
            66,
            89,
            85,
            90,
            89,
            77,
            96,
            97,
            97,
            94,
            100,
            77,
            93,
            102,
            98,
            84,
            98,
            110,
            85,
            92,
            100,
            120,
            88,
            77,
            86,
            96,
            93,
            78,
            117,
            103,
            102,
            88,
            84,
            75,
            82,
            96,
            79,
            89,
            92,
            78,
            93,
            79,
            94,
            108,
            94,
            99,
            82,
            105,
            103,
            94,
            91,
            86,
            103,
            96,
            105,
            74,
            81,
            90,
            60,
            77,
            69,
            101,
            93,
            100,
            101,
            84,
            108,
            113,
            93,
            94,
            79,
            105,
            93,
            87,
            95,
            92,
            87,
            86,
            101,
            92,
            98,
            109,
            82,
            95,
            93,
            69,
            100,
            95,
            108,
            86,
            95,
            99,
            85,
            87,
            92,
            98,
            84,
            78,
            86,
            90,
            90,
            87,
            83,
            102,
            77,
            82,
            91,
            83,
            92,
            77,
            78,
            88,
            91,
            102,
            100,
            98,
            86,
            88,
            75,
            88,
            111,
            72,
            111,
            99,
            97,
            84,
            91,
            82,
            91,
            101,
            108,
            99,
            106,
            92,
            106,
            111,
            105,
            96,
            103,
            98,
            90,
            96,
            102,
            95,
            90,
            100,
            99,
            78,
            77,
            104,
            92,
            77,
            95,
            84,
            87,
            97,
            93,
            84,
            91,
            95,
            84,
            91,
            74,
            124,
            81,
            82,
            92,
            106,
            94,
            73,
            77,
            80,
            106,
            101,
            97,
            101,
            94,
            115,
            115,
            103,
            99,
            111,
            98,
            73,
            87,
            86,
            91,
            72,
            96,
            91,
            76,
            82,
            97,
            85,
            78,
            100,
            93,
            82,
            88,
            92,
            73,
            82,
            70,
            109,
            79,
            107,
            86,
            93,
            78,
            83,
            97,
            75,
            96,
            89,
            101,
            102,
            101,
            89,
            84,
            58,
            96,
            101,
            90,
            81,
            85,
            112,
            96,
            93,
            92,
            100,
            92,
            93,
            90,
            106,
            95,
            89,
            80,
            97,
            79,
            112,
            99,
            123,
            82,
            87,
            91,
            117,
            89,
            99,
            82,
            80,
            93,
            102,
            95,
            85,
            92
           ]
          }
         ],
         "hovertemplate": "%{xaxis.title.text}=%{x}<br>%{yaxis.title.text}=%{y}<br>SEX=%{marker.color}<extra></extra>",
         "legendgroup": "",
         "marker": {
          "color": [
           2,
           1,
           2,
           1,
           1,
           1,
           2,
           2,
           2,
           1,
           1,
           2,
           1,
           2,
           1,
           2,
           1,
           2,
           1,
           1,
           1,
           2,
           1,
           2,
           1,
           2,
           1,
           1,
           1,
           2,
           1,
           1,
           2,
           1,
           1,
           2,
           1,
           1,
           2,
           2,
           2,
           1,
           2,
           1,
           2,
           2,
           1,
           1,
           2,
           2,
           1,
           2,
           1,
           1,
           1,
           1,
           1,
           1,
           1,
           2,
           1,
           2,
           2,
           1,
           2,
           2,
           2,
           2,
           2,
           1,
           1,
           1,
           2,
           2,
           2,
           2,
           2,
           1,
           1,
           1,
           1,
           2,
           1,
           1,
           1,
           1,
           2,
           1,
           2,
           1,
           1,
           1,
           1,
           1,
           1,
           1,
           2,
           1,
           2,
           1,
           1,
           2,
           1,
           2,
           1,
           2,
           1,
           1,
           2,
           2,
           2,
           1,
           1,
           2,
           1,
           2,
           2,
           1,
           2,
           1,
           1,
           1,
           2,
           2,
           1,
           2,
           1,
           2,
           1,
           1,
           2,
           1,
           2,
           2,
           1,
           1,
           1,
           1,
           2,
           1,
           2,
           1,
           2,
           1,
           2,
           1,
           2,
           1,
           2,
           2,
           1,
           1,
           2,
           2,
           2,
           2,
           1,
           2,
           1,
           1,
           1,
           2,
           1,
           2,
           1,
           1,
           2,
           1,
           2,
           1,
           2,
           1,
           2,
           2,
           2,
           1,
           2,
           1,
           1,
           1,
           2,
           1,
           2,
           2,
           1,
           2,
           2,
           1,
           1,
           1,
           1,
           2,
           2,
           2,
           1,
           2,
           1,
           2,
           1,
           1,
           1,
           2,
           2,
           2,
           2,
           1,
           2,
           1,
           1,
           2,
           1,
           1,
           1,
           1,
           1,
           2,
           2,
           1,
           1,
           1,
           2,
           1,
           2,
           1,
           1,
           2,
           2,
           2,
           1,
           2,
           2,
           1,
           2,
           1,
           1,
           2,
           1,
           1,
           2,
           1,
           2,
           2,
           2,
           2,
           2,
           1,
           1,
           1,
           1,
           1,
           1,
           2,
           1,
           1,
           2,
           1,
           1,
           2,
           2,
           1,
           1,
           1,
           2,
           2,
           2,
           2,
           2,
           1,
           2,
           1,
           2,
           2,
           1,
           2,
           1,
           2,
           1,
           1,
           2,
           2,
           2,
           2,
           1,
           1,
           2,
           1,
           1,
           1,
           2,
           2,
           2,
           1,
           1,
           1,
           2,
           2,
           1,
           1,
           2,
           2,
           1,
           2,
           1,
           1,
           2,
           2,
           2,
           2,
           1,
           2,
           1,
           1,
           1,
           2,
           1,
           1,
           2,
           1,
           1,
           1,
           1,
           1,
           2,
           2,
           1,
           1,
           2,
           1,
           1,
           2,
           2,
           2,
           1,
           2,
           2,
           1,
           1,
           2,
           1,
           1,
           1,
           2,
           2,
           1,
           1,
           2,
           2,
           2,
           1,
           2,
           2,
           2,
           2,
           1,
           2,
           2,
           2,
           2,
           1,
           2,
           1,
           1,
           2,
           2,
           2,
           1,
           2,
           2,
           2,
           1,
           1,
           2,
           2,
           1,
           1,
           2,
           1,
           2,
           2,
           1,
           1,
           2,
           1,
           2,
           2,
           2,
           1,
           1,
           2,
           2,
           2,
           1,
           2,
           1,
           1,
           1,
           2,
           1,
           1,
           2,
           1,
           1,
           2,
           1,
           1,
           2,
           1,
           1,
           1,
           2,
           2,
           1,
           1,
           1,
           2,
           1,
           1,
           1,
           1,
           1,
           1,
           2,
           2,
           2,
           2,
           1,
           2,
           2,
           2,
           1,
           1,
           2,
           1,
           1,
           1,
           1,
           1,
           2,
           2,
           2,
           1,
           1
          ],
          "coloraxis": "coloraxis",
          "symbol": "circle"
         },
         "name": "",
         "showlegend": false,
         "type": "splom"
        }
       ],
       "layout": {
        "coloraxis": {
         "colorbar": {
          "title": {
           "text": "SEX"
          }
         },
         "colorscale": [
          [
           0,
           "#0d0887"
          ],
          [
           0.1111111111111111,
           "#46039f"
          ],
          [
           0.2222222222222222,
           "#7201a8"
          ],
          [
           0.3333333333333333,
           "#9c179e"
          ],
          [
           0.4444444444444444,
           "#bd3786"
          ],
          [
           0.5555555555555556,
           "#d8576b"
          ],
          [
           0.6666666666666666,
           "#ed7953"
          ],
          [
           0.7777777777777778,
           "#fb9f3a"
          ],
          [
           0.8888888888888888,
           "#fdca26"
          ],
          [
           1,
           "#f0f921"
          ]
         ]
        },
        "dragmode": "select",
        "legend": {
         "tracegroupgap": 0
        },
        "template": {
         "data": {
          "bar": [
           {
            "error_x": {
             "color": "#2a3f5f"
            },
            "error_y": {
             "color": "#2a3f5f"
            },
            "marker": {
             "line": {
              "color": "#E5ECF6",
              "width": 0.5
             },
             "pattern": {
              "fillmode": "overlay",
              "size": 10,
              "solidity": 0.2
             }
            },
            "type": "bar"
           }
          ],
          "barpolar": [
           {
            "marker": {
             "line": {
              "color": "#E5ECF6",
              "width": 0.5
             },
             "pattern": {
              "fillmode": "overlay",
              "size": 10,
              "solidity": 0.2
             }
            },
            "type": "barpolar"
           }
          ],
          "carpet": [
           {
            "aaxis": {
             "endlinecolor": "#2a3f5f",
             "gridcolor": "white",
             "linecolor": "white",
             "minorgridcolor": "white",
             "startlinecolor": "#2a3f5f"
            },
            "baxis": {
             "endlinecolor": "#2a3f5f",
             "gridcolor": "white",
             "linecolor": "white",
             "minorgridcolor": "white",
             "startlinecolor": "#2a3f5f"
            },
            "type": "carpet"
           }
          ],
          "choropleth": [
           {
            "colorbar": {
             "outlinewidth": 0,
             "ticks": ""
            },
            "type": "choropleth"
           }
          ],
          "contour": [
           {
            "colorbar": {
             "outlinewidth": 0,
             "ticks": ""
            },
            "colorscale": [
             [
              0,
              "#0d0887"
             ],
             [
              0.1111111111111111,
              "#46039f"
             ],
             [
              0.2222222222222222,
              "#7201a8"
             ],
             [
              0.3333333333333333,
              "#9c179e"
             ],
             [
              0.4444444444444444,
              "#bd3786"
             ],
             [
              0.5555555555555556,
              "#d8576b"
             ],
             [
              0.6666666666666666,
              "#ed7953"
             ],
             [
              0.7777777777777778,
              "#fb9f3a"
             ],
             [
              0.8888888888888888,
              "#fdca26"
             ],
             [
              1,
              "#f0f921"
             ]
            ],
            "type": "contour"
           }
          ],
          "contourcarpet": [
           {
            "colorbar": {
             "outlinewidth": 0,
             "ticks": ""
            },
            "type": "contourcarpet"
           }
          ],
          "heatmap": [
           {
            "colorbar": {
             "outlinewidth": 0,
             "ticks": ""
            },
            "colorscale": [
             [
              0,
              "#0d0887"
             ],
             [
              0.1111111111111111,
              "#46039f"
             ],
             [
              0.2222222222222222,
              "#7201a8"
             ],
             [
              0.3333333333333333,
              "#9c179e"
             ],
             [
              0.4444444444444444,
              "#bd3786"
             ],
             [
              0.5555555555555556,
              "#d8576b"
             ],
             [
              0.6666666666666666,
              "#ed7953"
             ],
             [
              0.7777777777777778,
              "#fb9f3a"
             ],
             [
              0.8888888888888888,
              "#fdca26"
             ],
             [
              1,
              "#f0f921"
             ]
            ],
            "type": "heatmap"
           }
          ],
          "heatmapgl": [
           {
            "colorbar": {
             "outlinewidth": 0,
             "ticks": ""
            },
            "colorscale": [
             [
              0,
              "#0d0887"
             ],
             [
              0.1111111111111111,
              "#46039f"
             ],
             [
              0.2222222222222222,
              "#7201a8"
             ],
             [
              0.3333333333333333,
              "#9c179e"
             ],
             [
              0.4444444444444444,
              "#bd3786"
             ],
             [
              0.5555555555555556,
              "#d8576b"
             ],
             [
              0.6666666666666666,
              "#ed7953"
             ],
             [
              0.7777777777777778,
              "#fb9f3a"
             ],
             [
              0.8888888888888888,
              "#fdca26"
             ],
             [
              1,
              "#f0f921"
             ]
            ],
            "type": "heatmapgl"
           }
          ],
          "histogram": [
           {
            "marker": {
             "pattern": {
              "fillmode": "overlay",
              "size": 10,
              "solidity": 0.2
             }
            },
            "type": "histogram"
           }
          ],
          "histogram2d": [
           {
            "colorbar": {
             "outlinewidth": 0,
             "ticks": ""
            },
            "colorscale": [
             [
              0,
              "#0d0887"
             ],
             [
              0.1111111111111111,
              "#46039f"
             ],
             [
              0.2222222222222222,
              "#7201a8"
             ],
             [
              0.3333333333333333,
              "#9c179e"
             ],
             [
              0.4444444444444444,
              "#bd3786"
             ],
             [
              0.5555555555555556,
              "#d8576b"
             ],
             [
              0.6666666666666666,
              "#ed7953"
             ],
             [
              0.7777777777777778,
              "#fb9f3a"
             ],
             [
              0.8888888888888888,
              "#fdca26"
             ],
             [
              1,
              "#f0f921"
             ]
            ],
            "type": "histogram2d"
           }
          ],
          "histogram2dcontour": [
           {
            "colorbar": {
             "outlinewidth": 0,
             "ticks": ""
            },
            "colorscale": [
             [
              0,
              "#0d0887"
             ],
             [
              0.1111111111111111,
              "#46039f"
             ],
             [
              0.2222222222222222,
              "#7201a8"
             ],
             [
              0.3333333333333333,
              "#9c179e"
             ],
             [
              0.4444444444444444,
              "#bd3786"
             ],
             [
              0.5555555555555556,
              "#d8576b"
             ],
             [
              0.6666666666666666,
              "#ed7953"
             ],
             [
              0.7777777777777778,
              "#fb9f3a"
             ],
             [
              0.8888888888888888,
              "#fdca26"
             ],
             [
              1,
              "#f0f921"
             ]
            ],
            "type": "histogram2dcontour"
           }
          ],
          "mesh3d": [
           {
            "colorbar": {
             "outlinewidth": 0,
             "ticks": ""
            },
            "type": "mesh3d"
           }
          ],
          "parcoords": [
           {
            "line": {
             "colorbar": {
              "outlinewidth": 0,
              "ticks": ""
             }
            },
            "type": "parcoords"
           }
          ],
          "pie": [
           {
            "automargin": true,
            "type": "pie"
           }
          ],
          "scatter": [
           {
            "marker": {
             "colorbar": {
              "outlinewidth": 0,
              "ticks": ""
             }
            },
            "type": "scatter"
           }
          ],
          "scatter3d": [
           {
            "line": {
             "colorbar": {
              "outlinewidth": 0,
              "ticks": ""
             }
            },
            "marker": {
             "colorbar": {
              "outlinewidth": 0,
              "ticks": ""
             }
            },
            "type": "scatter3d"
           }
          ],
          "scattercarpet": [
           {
            "marker": {
             "colorbar": {
              "outlinewidth": 0,
              "ticks": ""
             }
            },
            "type": "scattercarpet"
           }
          ],
          "scattergeo": [
           {
            "marker": {
             "colorbar": {
              "outlinewidth": 0,
              "ticks": ""
             }
            },
            "type": "scattergeo"
           }
          ],
          "scattergl": [
           {
            "marker": {
             "colorbar": {
              "outlinewidth": 0,
              "ticks": ""
             }
            },
            "type": "scattergl"
           }
          ],
          "scattermapbox": [
           {
            "marker": {
             "colorbar": {
              "outlinewidth": 0,
              "ticks": ""
             }
            },
            "type": "scattermapbox"
           }
          ],
          "scatterpolar": [
           {
            "marker": {
             "colorbar": {
              "outlinewidth": 0,
              "ticks": ""
             }
            },
            "type": "scatterpolar"
           }
          ],
          "scatterpolargl": [
           {
            "marker": {
             "colorbar": {
              "outlinewidth": 0,
              "ticks": ""
             }
            },
            "type": "scatterpolargl"
           }
          ],
          "scatterternary": [
           {
            "marker": {
             "colorbar": {
              "outlinewidth": 0,
              "ticks": ""
             }
            },
            "type": "scatterternary"
           }
          ],
          "surface": [
           {
            "colorbar": {
             "outlinewidth": 0,
             "ticks": ""
            },
            "colorscale": [
             [
              0,
              "#0d0887"
             ],
             [
              0.1111111111111111,
              "#46039f"
             ],
             [
              0.2222222222222222,
              "#7201a8"
             ],
             [
              0.3333333333333333,
              "#9c179e"
             ],
             [
              0.4444444444444444,
              "#bd3786"
             ],
             [
              0.5555555555555556,
              "#d8576b"
             ],
             [
              0.6666666666666666,
              "#ed7953"
             ],
             [
              0.7777777777777778,
              "#fb9f3a"
             ],
             [
              0.8888888888888888,
              "#fdca26"
             ],
             [
              1,
              "#f0f921"
             ]
            ],
            "type": "surface"
           }
          ],
          "table": [
           {
            "cells": {
             "fill": {
              "color": "#EBF0F8"
             },
             "line": {
              "color": "white"
             }
            },
            "header": {
             "fill": {
              "color": "#C8D4E3"
             },
             "line": {
              "color": "white"
             }
            },
            "type": "table"
           }
          ]
         },
         "layout": {
          "annotationdefaults": {
           "arrowcolor": "#2a3f5f",
           "arrowhead": 0,
           "arrowwidth": 1
          },
          "autotypenumbers": "strict",
          "coloraxis": {
           "colorbar": {
            "outlinewidth": 0,
            "ticks": ""
           }
          },
          "colorscale": {
           "diverging": [
            [
             0,
             "#8e0152"
            ],
            [
             0.1,
             "#c51b7d"
            ],
            [
             0.2,
             "#de77ae"
            ],
            [
             0.3,
             "#f1b6da"
            ],
            [
             0.4,
             "#fde0ef"
            ],
            [
             0.5,
             "#f7f7f7"
            ],
            [
             0.6,
             "#e6f5d0"
            ],
            [
             0.7,
             "#b8e186"
            ],
            [
             0.8,
             "#7fbc41"
            ],
            [
             0.9,
             "#4d9221"
            ],
            [
             1,
             "#276419"
            ]
           ],
           "sequential": [
            [
             0,
             "#0d0887"
            ],
            [
             0.1111111111111111,
             "#46039f"
            ],
            [
             0.2222222222222222,
             "#7201a8"
            ],
            [
             0.3333333333333333,
             "#9c179e"
            ],
            [
             0.4444444444444444,
             "#bd3786"
            ],
            [
             0.5555555555555556,
             "#d8576b"
            ],
            [
             0.6666666666666666,
             "#ed7953"
            ],
            [
             0.7777777777777778,
             "#fb9f3a"
            ],
            [
             0.8888888888888888,
             "#fdca26"
            ],
            [
             1,
             "#f0f921"
            ]
           ],
           "sequentialminus": [
            [
             0,
             "#0d0887"
            ],
            [
             0.1111111111111111,
             "#46039f"
            ],
            [
             0.2222222222222222,
             "#7201a8"
            ],
            [
             0.3333333333333333,
             "#9c179e"
            ],
            [
             0.4444444444444444,
             "#bd3786"
            ],
            [
             0.5555555555555556,
             "#d8576b"
            ],
            [
             0.6666666666666666,
             "#ed7953"
            ],
            [
             0.7777777777777778,
             "#fb9f3a"
            ],
            [
             0.8888888888888888,
             "#fdca26"
            ],
            [
             1,
             "#f0f921"
            ]
           ]
          },
          "colorway": [
           "#636efa",
           "#EF553B",
           "#00cc96",
           "#ab63fa",
           "#FFA15A",
           "#19d3f3",
           "#FF6692",
           "#B6E880",
           "#FF97FF",
           "#FECB52"
          ],
          "font": {
           "color": "#2a3f5f"
          },
          "geo": {
           "bgcolor": "white",
           "lakecolor": "white",
           "landcolor": "#E5ECF6",
           "showlakes": true,
           "showland": true,
           "subunitcolor": "white"
          },
          "hoverlabel": {
           "align": "left"
          },
          "hovermode": "closest",
          "mapbox": {
           "style": "light"
          },
          "paper_bgcolor": "white",
          "plot_bgcolor": "#E5ECF6",
          "polar": {
           "angularaxis": {
            "gridcolor": "white",
            "linecolor": "white",
            "ticks": ""
           },
           "bgcolor": "#E5ECF6",
           "radialaxis": {
            "gridcolor": "white",
            "linecolor": "white",
            "ticks": ""
           }
          },
          "scene": {
           "xaxis": {
            "backgroundcolor": "#E5ECF6",
            "gridcolor": "white",
            "gridwidth": 2,
            "linecolor": "white",
            "showbackground": true,
            "ticks": "",
            "zerolinecolor": "white"
           },
           "yaxis": {
            "backgroundcolor": "#E5ECF6",
            "gridcolor": "white",
            "gridwidth": 2,
            "linecolor": "white",
            "showbackground": true,
            "ticks": "",
            "zerolinecolor": "white"
           },
           "zaxis": {
            "backgroundcolor": "#E5ECF6",
            "gridcolor": "white",
            "gridwidth": 2,
            "linecolor": "white",
            "showbackground": true,
            "ticks": "",
            "zerolinecolor": "white"
           }
          },
          "shapedefaults": {
           "line": {
            "color": "#2a3f5f"
           }
          },
          "ternary": {
           "aaxis": {
            "gridcolor": "white",
            "linecolor": "white",
            "ticks": ""
           },
           "baxis": {
            "gridcolor": "white",
            "linecolor": "white",
            "ticks": ""
           },
           "bgcolor": "#E5ECF6",
           "caxis": {
            "gridcolor": "white",
            "linecolor": "white",
            "ticks": ""
           }
          },
          "title": {
           "x": 0.05
          },
          "xaxis": {
           "automargin": true,
           "gridcolor": "white",
           "linecolor": "white",
           "ticks": "",
           "title": {
            "standoff": 15
           },
           "zerolinecolor": "white",
           "zerolinewidth": 2
          },
          "yaxis": {
           "automargin": true,
           "gridcolor": "white",
           "linecolor": "white",
           "ticks": "",
           "title": {
            "standoff": 15
           },
           "zerolinecolor": "white",
           "zerolinewidth": 2
          }
         }
        },
        "title": {
         "text": "scatter matrix plot of age, bmi ld_lipo, triglycerides,and glucose for males(yellow) and females(blue)"
        }
       }
      },
      "text/html": [
       "<div>                            <div id=\"f02be39a-0292-4229-835e-68dcefc6bcc2\" class=\"plotly-graph-div\" style=\"height:525px; width:100%;\"></div>            <script type=\"text/javascript\">                require([\"plotly\"], function(Plotly) {                    window.PLOTLYENV=window.PLOTLYENV || {};                                    if (document.getElementById(\"f02be39a-0292-4229-835e-68dcefc6bcc2\")) {                    Plotly.newPlot(                        \"f02be39a-0292-4229-835e-68dcefc6bcc2\",                        [{\"dimensions\":[{\"axis\":{\"matches\":true},\"label\":\"AGE\",\"values\":[59,48,72,24,50,23,36,66,60,29,22,56,53,50,61,34,47,68,38,41,35,25,25,61,31,30,19,42,63,67,32,42,58,57,53,62,52,46,48,48,50,21,32,54,61,56,33,27,67,37,58,65,34,46,35,37,37,41,60,66,29,37,41,39,67,36,46,60,59,53,48,48,66,52,52,46,40,22,50,20,68,52,44,38,49,61,29,61,34,36,52,61,43,35,27,29,64,41,49,48,53,53,23,65,41,55,22,56,54,59,60,54,25,54,55,40,62,65,33,53,35,66,62,50,47,47,24,58,34,51,31,22,53,37,28,47,23,50,58,55,60,41,60,40,57,37,40,33,32,35,55,49,39,60,67,41,44,48,45,47,46,36,34,53,61,37,33,68,49,48,55,43,60,31,53,67,61,62,60,42,38,62,61,61,53,28,26,30,50,48,51,47,64,51,30,56,42,62,34,60,64,39,71,48,79,40,49,51,57,59,51,74,67,49,57,56,52,69,37,24,55,36,42,21,41,57,20,67,34,41,38,51,52,67,61,67,56,64,58,55,62,57,20,53,32,41,60,26,37,45,67,34,50,71,57,49,35,41,70,52,60,62,44,28,58,39,34,65,66,51,50,59,52,69,53,47,52,39,67,59,51,23,68,44,60,52,38,61,68,28,65,69,51,29,55,34,67,49,55,59,53,48,52,69,60,46,51,67,49,46,47,75,28,65,42,51,53,54,73,54,42,75,55,68,57,48,61,69,38,45,51,71,57,56,32,50,43,54,31,56,44,57,64,43,19,71,50,59,57,49,41,25,52,34,42,28,47,32,43,59,53,60,54,35,49,58,36,46,44,46,54,63,41,28,19,61,48,54,53,48,53,29,62,50,58,55,54,36,63,47,51,42,37,28,58,32,25,63,52,65,42,53,79,43,44,62,33,56,66,34,46,50,69,34,71,47,41,34,51,43,55,59,27,51,49,27,57,39,62,37,46,68,51,41,53,45,33,60,47,60,36,36]},{\"axis\":{\"matches\":true},\"label\":\"BMI\",\"values\":[32.1,21.6,30.5,25.3,23.0,22.6,22.0,26.2,32.1,30.0,18.6,28.0,23.7,26.2,24.0,24.7,30.3,27.5,25.4,24.7,21.1,24.3,26.0,32.0,29.7,25.2,19.2,31.9,24.4,25.8,30.5,20.3,38.0,21.7,20.5,23.5,28.5,27.4,33.0,27.7,25.6,20.1,25.4,24.2,32.7,23.1,25.3,19.6,22.5,27.7,25.7,27.9,25.5,24.9,28.7,21.8,30.2,20.5,20.4,24.0,26.0,26.8,25.7,22.9,24.0,24.1,24.7,25.0,23.6,22.1,19.9,29.5,26.0,24.5,26.6,23.5,29.0,23.0,21.0,22.9,27.5,24.3,23.1,27.3,22.7,33.0,19.4,25.8,22.6,21.9,24.0,31.2,26.8,20.4,24.8,21.0,27.3,34.6,25.9,20.4,28.0,22.2,29.0,30.2,32.4,23.4,19.3,31.0,30.6,25.5,23.4,26.8,28.3,27.7,36.6,26.5,31.8,24.4,25.4,22.0,26.8,28.0,33.9,29.6,28.6,25.6,20.7,26.2,20.6,27.9,35.3,19.9,24.4,21.4,30.4,31.6,18.8,31.0,36.7,32.1,27.7,30.8,27.5,26.9,30.7,38.3,31.9,35.0,27.8,25.9,32.9,26.0,26.3,22.3,28.3,32.0,25.4,23.3,20.3,30.4,20.6,32.3,29.2,33.1,24.6,20.2,20.8,32.8,31.9,23.9,24.5,22.1,33.0,19.0,27.3,22.8,28.2,28.9,25.6,24.9,26.8,22.4,26.9,23.1,28.6,24.7,30.3,21.3,26.1,20.2,25.2,22.5,23.5,25.9,20.9,28.7,22.1,26.7,31.4,22.2,21.0,21.2,26.5,29.2,27.0,30.7,28.8,30.6,30.1,24.7,27.7,29.8,26.7,19.8,23.3,35.1,29.7,29.3,20.3,22.5,22.7,22.8,24.0,24.2,20.2,29.4,22.1,23.6,25.2,24.9,33.0,23.5,26.4,29.8,30.0,25.0,27.0,20.0,25.5,28.2,33.3,25.6,24.2,22.1,31.4,23.1,23.4,18.8,30.8,32.0,31.6,35.5,31.9,29.5,31.6,20.3,41.3,21.2,24.1,23.0,25.6,22.5,38.2,19.2,29.0,24.0,20.6,26.3,34.6,23.4,29.2,27.2,27.0,24.5,24.1,25.3,28.8,20.9,23.0,24.1,28.1,18.0,25.9,21.5,24.3,24.5,21.3,25.8,24.8,31.5,33.5,28.1,24.3,35.0,23.5,30.0,20.7,25.6,22.9,25.1,33.2,24.1,29.5,29.6,22.8,22.7,26.2,23.5,22.1,26.5,32.4,30.1,24.2,31.3,30.1,24.5,27.7,23.2,27.0,26.8,29.2,31.2,32.1,25.7,26.9,31.4,25.6,37.0,32.6,21.2,29.2,24.0,36.1,25.8,22.0,21.9,34.3,25.2,23.3,25.7,25.1,31.9,28.4,28.1,25.3,26.1,28.0,23.6,24.5,21.0,32.0,22.6,19.7,21.2,30.6,25.5,23.3,31.0,18.5,26.9,28.3,25.7,36.1,24.1,25.8,22.8,39.1,42.2,26.6,29.9,21.0,25.5,24.2,25.4,23.2,26.1,32.7,27.3,26.6,22.8,28.8,18.1,32.0,23.7,23.6,24.6,22.6,27.8,24.1,26.5,32.8,19.9,23.6,22.1,28.1,26.5,23.5,26.0,27.8,28.5,30.6,22.2,23.3,35.4,31.4,37.8,18.9,35.0,21.7,25.3,23.8,31.8,34.3,26.3,27.0,27.2,33.8,33.0,24.1,21.3,23.0,27.9,33.6,22.7,27.4,22.6,23.2,26.9,34.6,23.3,21.1,23.5,31.5,20.8,26.5,24.2,19.5,28.2,24.9,24.9,30.0,19.6]},{\"axis\":{\"matches\":true},\"label\":\"LD_lipo\",\"values\":[93.2,103.2,93.6,131.4,125.4,64.8,99.6,185.0,119.4,93.4,57.6,144.8,109.2,105.4,115.4,184.2,100.2,147.0,103.0,108.2,87.8,98.6,120.4,85.2,103.4,118.4,54.0,87.6,91.4,54.2,110.6,81.2,107.2,58.0,84.2,112.8,97.2,88.0,163.6,119.4,162.2,69.0,100.4,109.0,118.4,116.4,85.0,68.0,119.2,119.4,91.6,96.8,144.0,129.6,126.8,101.0,96.0,48.8,78.4,146.4,65.2,98.0,106.6,143.2,77.2,125.0,123.2,120.8,100.0,76.2,109.6,132.2,146.6,149.4,126.4,114.8,47.2,97.8,71.8,128.2,149.6,133.6,126.4,81.6,96.2,114.8,105.8,125.8,91.8,105.2,86.6,156.8,102.2,105.6,106.8,97.0,107.6,142.6,106.6,139.4,143.8,115.2,131.4,160.6,104.4,101.6,93.2,141.4,79.8,139.4,89.8,122.0,128.0,128.4,94.4,147.0,128.6,135.6,141.0,88.0,103.6,129.2,156.4,242.4,90.6,74.8,80.6,124.2,112.2,122.2,112.4,108.6,146.0,69.6,115.6,88.0,72.0,105.0,93.8,84.2,114.6,152.0,143.8,119.8,147.8,94.6,135.6,130.4,146.2,102.4,106.2,100.2,158.2,125.8,132.2,170.6,92.6,142.8,126.2,120.0,107.0,199.4,108.2,119.0,106.8,87.8,70.2,116.4,155.8,105.2,105.8,77.2,125.6,73.0,55.0,98.6,132.0,127.2,125.8,141.8,119.2,147.4,172.4,114.4,98.8,99.6,152.2,63.0,160.6,117.4,112.2,66.8,129.0,169.0,83.8,146.4,138.6,124.0,93.8,105.4,146.8,110.4,173.6,151.6,110.8,85.4,140.0,106.6,139.6,104.8,145.6,104.8,135.4,114.8,63.6,95.0,162.8,139.0,124.6,68.0,94.2,116.0,85.0,77.0,89.0,87.6,99.6,105.4,120.6,115.0,215.0,121.0,152.0,93.4,100.0,93.4,160.6,114.8,110.6,140.2,114.0,133.0,72.2,105.2,84.2,78.0,148.0,103.6,197.2,134.2,90.4,146.6,149.2,151.6,107.6,103.0,102.8,100.4,149.2,123.7,95.4,99.0,126.6,94.6,109.2,113.6,92.0,166.2,139.4,108.8,85.2,102.0,73.0,136.4,113.4,105.6,174.0,65.6,128.0,98.6,122.2,96.0,181.2,92.2,86.6,129.0,60.2,195.4,151.4,149.4,126.2,142.8,71.6,142.6,126.8,107.2,99.8,99.8,67.2,101.4,106.8,134.6,132.8,128.4,189.8,125.8,99.6,138.2,63.4,160.2,125.0,154.2,106.4,128.0,114.8,128.6,101.8,162.8,121.0,80.6,174.2,138.8,92.4,112.6,165.2,151.6,116.2,131.4,100.6,96.8,139.0,85.8,108.2,114.4,78.6,111.2,172.6,120.0,130.8,151.6,113.0,116.2,127.0,121.0,156.6,152.4,196.8,107.4,96.6,85.4,104.2,71.0,53.4,113.4,172.2,101.6,125.8,96.2,93.6,126.6,107.0,84.6,98.4,97.4,118.6,118.8,135.8,137.0,109.0,113.0,107.4,103.2,123.6,79.0,70.4,129.8,198.6,144.0,122.4,41.6,87.2,99.0,69.0,97.0,171.0,76.4,104.2,104.4,112.2,104.8,100.6,83.2,138.8,100.6,80.6,101.6,80.8,78.2,136.0,123.0,92.8,81.0,128.4,100.2,97.6,51.0,91.8,140.8,127.8,162.0,139.2,69.2,123.8,120.0,190.2,145.6,127.0,114.6,175.6,78.8,137.6,144.2,156.6,162.4,113.0,43.4,159.4,75.4,129.2,142.0,144.4,85.4,144.0,128.2,122.4,118.4,85.4,113.8,166.0,106.6,125.2,133.2]},{\"axis\":{\"matches\":true},\"label\":\"triglycerides\",\"values\":[4.8598,3.8918,4.6728,4.8903,4.2905,4.1897,3.9512,4.2485,4.4773,5.3845,3.9512,3.5835,4.3041,5.0626,4.2905,5.037,5.2149,4.9416,4.4427,4.5433,4.5109,3.8501,3.9703,6.107,4.3567,4.852,4.1744,4.4659,4.6347,5.2933,4.3438,4.2341,4.6444,4.4427,3.989,4.8752,5.2417,4.8283,5.425,4.852,4.7791,4.0943,4.5326,4.1744,4.9972,4.4773,4.5539,4.4427,3.989,5.0304,4.4067,4.6151,4.4427,4.2767,4.1897,3.912,5.0106,4.0254,4.6347,5.0626,4.0775,5.0434,3.7377,4.3041,4.4308,5.1059,4.6444,4.5109,4.4998,4.0775,3.9512,4.9345,5.5683,4.585,4.6821,4.7095,4.3041,3.8286,5.112,3.8918,4.92,4.5747,3.8712,4.4659,3.8918,4.1897,3.5835,5.112,4.2627,4.3694,3.8501,5.0499,4.7791,4.2767,4.1897,4.654,5.3083,4.6728,4.5747,4.7707,5.0499,4.3041,4.585,4.5218,3.9703,4.5218,3.989,4.0604,5.1417,4.3567,3.2581,4.382,4.382,5.1533,5.7301,5.5607,4.8828,5.5094,4.8675,4.9416,4.2047,4.8598,4.9972,4.8122,4.4659,5.5255,3.6109,4.6913,4.3041,5.0689,4.8903,4.1271,4.4998,3.8501,4.3438,5.1985,3.912,4.8283,4.9488,5.2417,4.2767,5.1358,5.1417,4.1897,4.7095,4.4659,4.804,4.9273,4.3041,5.3132,4.4308,4.5433,4.9345,4.2627,4.7362,5.0562,4.4067,4.7536,4.3041,5.1059,4.2485,5.4723,4.3041,4.382,4.8363,4.0254,3.7842,5.4931,5.3982,6.107,3.5835,4.0775,5.4467,4.4427,4.8283,4.3438,4.6052,5.4337,4.1109,4.7958,4.8203,4.3567,4.8122,4.8122,5.0499,5.3799,5.1591,3.6889,4.625,4.4188,4.8978,4.7536,4.3175,5.0752,4.6634,4.7274,4.2767,4.7875,3.8286,5.6276,4.3307,4.0604,5.5683,4.92,4.6634,5.3375,4.7449,5.1475,4.625,4.5109,4.2767,4.3944,4.6347,4.3944,4.2047,5.0434,5.1417,5.0106,4.7185,4.654,3.5264,4.654,4.654,4.4427,4.2485,5.3327,4.2047,4.2195,4.3438,4.382,5.193,4.7449,4.9053,4.3567,5.3471,4.585,5.0876,4.1109,4.7622,5.366,5.0106,4.3175,3.7842,4.1589,4.1589,4.0943,5.1358,4.5218,5.3423,5.4116,5.4723,5.5683,4.5951,5.0239,5.9584,4.6052,4.9488,4.585,4.2341,4.1589,3.7612,4.4998,5.0239,3.8501,3.989,4.804,3.6889,4.8978,4.9628,4.5109,4.7362,4.4427,4.4427,5.8081,4.8122,4.7622,5.273,4.4067,4.654,4.4659,4.8203,4.9053,4.5433,3.8918,4.6728,5.2983,4.4308,4.9972,3.8712,5.3132,4.9698,5.2781,3.9512,4.0431,3.8286,4.8203,4.0254,3.9318,4.3041,4.3567,5.112,4.4067,4.9836,5.451,4.3944,4.8363,4.2047,4.8978,3.9703,4.9345,4.4427,4.7791,4.2195,5.247,4.5109,4.5218,5.4638,4.9127,4.7449,4.9558,5.0039,5.7236,6.1048,6.0568,5.366,5.5683,4.9698,4.6347,4.625,4.4543,4.382,4.1897,5.2679,4.9628,3.9512,4.0775,5.5294,4.7005,4.3944,5.118,4.2485,4.3694,4.382,4.0073,4.7185,4.6347,5.3279,4.6821,4.5218,3.9703,5.4116,4.0073,4.4188,6.0936,5.4553,4.2767,4.3307,5.1874,3.7377,4.804,4.7875,3.8501,4.6821,4.852,4.804,4.9836,5.4205,5.0106,5.5797,4.585,3.9703,5.9506,4.5218,4.1744,4.6347,4.9488,5.1475,4.7449,4.8903,4.1271,4.0775,4.4998,5.7838,4.4427,4.9053,4.3567,4.3041,3.4965,4.9345,4.1897,5.7746,3.6636,4.1897,4.2047,6.0684,4.9904,3.5835,5.037,5.1358,5.0752,4.2627,4.1744,4.8122,5.3181,4.3438,5.0434,4.0254,4.1109,5.2781,4.9767,5.366,4.0775,4.7095,4.2485,5.2417,4.804,4.3175,4.1271,4.4067,3.8286,4.2767,5.1874,5.0876,4.8122,4.9053,4.4188,5.0304,4.1431,5.366,4.3567,4.5326,4.4773,5.2523,4.0775,4.1431,4.2195,3.9703,4.9836,4.4427,4.1271,5.1299,4.5951]},{\"axis\":{\"matches\":true},\"label\":\"Glucose\",\"values\":[87,69,85,89,80,68,82,92,94,88,83,77,81,88,73,81,98,91,87,78,95,87,88,124,78,83,90,101,78,104,89,81,98,92,75,96,85,90,97,92,114,89,83,109,87,79,70,71,86,88,93,86,88,103,93,93,87,75,79,96,83,96,85,74,94,95,96,92,92,96,101,106,87,89,109,98,95,91,71,85,90,91,72,81,60,74,83,82,108,96,94,96,94,78,69,90,99,110,75,78,91,100,91,84,76,96,71,90,101,117,95,80,92,113,97,92,98,124,105,98,86,94,103,109,88,93,78,68,74,120,109,72,97,84,80,105,86,88,109,90,95,123,91,81,93,79,93,101,91,82,89,88,109,94,92,103,83,98,79,87,80,112,91,106,88,88,66,117,122,96,87,80,112,78,93,92,96,99,84,89,91,76,89,105,99,87,82,66,89,85,90,89,77,96,97,97,94,100,77,93,102,98,84,98,110,85,92,100,120,88,77,86,96,93,78,117,103,102,88,84,75,82,96,79,89,92,78,93,79,94,108,94,99,82,105,103,94,91,86,103,96,105,74,81,90,60,77,69,101,93,100,101,84,108,113,93,94,79,105,93,87,95,92,87,86,101,92,98,109,82,95,93,69,100,95,108,86,95,99,85,87,92,98,84,78,86,90,90,87,83,102,77,82,91,83,92,77,78,88,91,102,100,98,86,88,75,88,111,72,111,99,97,84,91,82,91,101,108,99,106,92,106,111,105,96,103,98,90,96,102,95,90,100,99,78,77,104,92,77,95,84,87,97,93,84,91,95,84,91,74,124,81,82,92,106,94,73,77,80,106,101,97,101,94,115,115,103,99,111,98,73,87,86,91,72,96,91,76,82,97,85,78,100,93,82,88,92,73,82,70,109,79,107,86,93,78,83,97,75,96,89,101,102,101,89,84,58,96,101,90,81,85,112,96,93,92,100,92,93,90,106,95,89,80,97,79,112,99,123,82,87,91,117,89,99,82,80,93,102,95,85,92]}],\"hovertemplate\":\"%{xaxis.title.text}=%{x}<br>%{yaxis.title.text}=%{y}<br>SEX=%{marker.color}<extra></extra>\",\"legendgroup\":\"\",\"marker\":{\"color\":[2,1,2,1,1,1,2,2,2,1,1,2,1,2,1,2,1,2,1,1,1,2,1,2,1,2,1,1,1,2,1,1,2,1,1,2,1,1,2,2,2,1,2,1,2,2,1,1,2,2,1,2,1,1,1,1,1,1,1,2,1,2,2,1,2,2,2,2,2,1,1,1,2,2,2,2,2,1,1,1,1,2,1,1,1,1,2,1,2,1,1,1,1,1,1,1,2,1,2,1,1,2,1,2,1,2,1,1,2,2,2,1,1,2,1,2,2,1,2,1,1,1,2,2,1,2,1,2,1,1,2,1,2,2,1,1,1,1,2,1,2,1,2,1,2,1,2,1,2,2,1,1,2,2,2,2,1,2,1,1,1,2,1,2,1,1,2,1,2,1,2,1,2,2,2,1,2,1,1,1,2,1,2,2,1,2,2,1,1,1,1,2,2,2,1,2,1,2,1,1,1,2,2,2,2,1,2,1,1,2,1,1,1,1,1,2,2,1,1,1,2,1,2,1,1,2,2,2,1,2,2,1,2,1,1,2,1,1,2,1,2,2,2,2,2,1,1,1,1,1,1,2,1,1,2,1,1,2,2,1,1,1,2,2,2,2,2,1,2,1,2,2,1,2,1,2,1,1,2,2,2,2,1,1,2,1,1,1,2,2,2,1,1,1,2,2,1,1,2,2,1,2,1,1,2,2,2,2,1,2,1,1,1,2,1,1,2,1,1,1,1,1,2,2,1,1,2,1,1,2,2,2,1,2,2,1,1,2,1,1,1,2,2,1,1,2,2,2,1,2,2,2,2,1,2,2,2,2,1,2,1,1,2,2,2,1,2,2,2,1,1,2,2,1,1,2,1,2,2,1,1,2,1,2,2,2,1,1,2,2,2,1,2,1,1,1,2,1,1,2,1,1,2,1,1,2,1,1,1,2,2,1,1,1,2,1,1,1,1,1,1,2,2,2,2,1,2,2,2,1,1,2,1,1,1,1,1,2,2,2,1,1],\"coloraxis\":\"coloraxis\",\"symbol\":\"circle\"},\"name\":\"\",\"showlegend\":false,\"type\":\"splom\"}],                        {\"template\":{\"data\":{\"bar\":[{\"error_x\":{\"color\":\"#2a3f5f\"},\"error_y\":{\"color\":\"#2a3f5f\"},\"marker\":{\"line\":{\"color\":\"#E5ECF6\",\"width\":0.5},\"pattern\":{\"fillmode\":\"overlay\",\"size\":10,\"solidity\":0.2}},\"type\":\"bar\"}],\"barpolar\":[{\"marker\":{\"line\":{\"color\":\"#E5ECF6\",\"width\":0.5},\"pattern\":{\"fillmode\":\"overlay\",\"size\":10,\"solidity\":0.2}},\"type\":\"barpolar\"}],\"carpet\":[{\"aaxis\":{\"endlinecolor\":\"#2a3f5f\",\"gridcolor\":\"white\",\"linecolor\":\"white\",\"minorgridcolor\":\"white\",\"startlinecolor\":\"#2a3f5f\"},\"baxis\":{\"endlinecolor\":\"#2a3f5f\",\"gridcolor\":\"white\",\"linecolor\":\"white\",\"minorgridcolor\":\"white\",\"startlinecolor\":\"#2a3f5f\"},\"type\":\"carpet\"}],\"choropleth\":[{\"colorbar\":{\"outlinewidth\":0,\"ticks\":\"\"},\"type\":\"choropleth\"}],\"contour\":[{\"colorbar\":{\"outlinewidth\":0,\"ticks\":\"\"},\"colorscale\":[[0.0,\"#0d0887\"],[0.1111111111111111,\"#46039f\"],[0.2222222222222222,\"#7201a8\"],[0.3333333333333333,\"#9c179e\"],[0.4444444444444444,\"#bd3786\"],[0.5555555555555556,\"#d8576b\"],[0.6666666666666666,\"#ed7953\"],[0.7777777777777778,\"#fb9f3a\"],[0.8888888888888888,\"#fdca26\"],[1.0,\"#f0f921\"]],\"type\":\"contour\"}],\"contourcarpet\":[{\"colorbar\":{\"outlinewidth\":0,\"ticks\":\"\"},\"type\":\"contourcarpet\"}],\"heatmap\":[{\"colorbar\":{\"outlinewidth\":0,\"ticks\":\"\"},\"colorscale\":[[0.0,\"#0d0887\"],[0.1111111111111111,\"#46039f\"],[0.2222222222222222,\"#7201a8\"],[0.3333333333333333,\"#9c179e\"],[0.4444444444444444,\"#bd3786\"],[0.5555555555555556,\"#d8576b\"],[0.6666666666666666,\"#ed7953\"],[0.7777777777777778,\"#fb9f3a\"],[0.8888888888888888,\"#fdca26\"],[1.0,\"#f0f921\"]],\"type\":\"heatmap\"}],\"heatmapgl\":[{\"colorbar\":{\"outlinewidth\":0,\"ticks\":\"\"},\"colorscale\":[[0.0,\"#0d0887\"],[0.1111111111111111,\"#46039f\"],[0.2222222222222222,\"#7201a8\"],[0.3333333333333333,\"#9c179e\"],[0.4444444444444444,\"#bd3786\"],[0.5555555555555556,\"#d8576b\"],[0.6666666666666666,\"#ed7953\"],[0.7777777777777778,\"#fb9f3a\"],[0.8888888888888888,\"#fdca26\"],[1.0,\"#f0f921\"]],\"type\":\"heatmapgl\"}],\"histogram\":[{\"marker\":{\"pattern\":{\"fillmode\":\"overlay\",\"size\":10,\"solidity\":0.2}},\"type\":\"histogram\"}],\"histogram2d\":[{\"colorbar\":{\"outlinewidth\":0,\"ticks\":\"\"},\"colorscale\":[[0.0,\"#0d0887\"],[0.1111111111111111,\"#46039f\"],[0.2222222222222222,\"#7201a8\"],[0.3333333333333333,\"#9c179e\"],[0.4444444444444444,\"#bd3786\"],[0.5555555555555556,\"#d8576b\"],[0.6666666666666666,\"#ed7953\"],[0.7777777777777778,\"#fb9f3a\"],[0.8888888888888888,\"#fdca26\"],[1.0,\"#f0f921\"]],\"type\":\"histogram2d\"}],\"histogram2dcontour\":[{\"colorbar\":{\"outlinewidth\":0,\"ticks\":\"\"},\"colorscale\":[[0.0,\"#0d0887\"],[0.1111111111111111,\"#46039f\"],[0.2222222222222222,\"#7201a8\"],[0.3333333333333333,\"#9c179e\"],[0.4444444444444444,\"#bd3786\"],[0.5555555555555556,\"#d8576b\"],[0.6666666666666666,\"#ed7953\"],[0.7777777777777778,\"#fb9f3a\"],[0.8888888888888888,\"#fdca26\"],[1.0,\"#f0f921\"]],\"type\":\"histogram2dcontour\"}],\"mesh3d\":[{\"colorbar\":{\"outlinewidth\":0,\"ticks\":\"\"},\"type\":\"mesh3d\"}],\"parcoords\":[{\"line\":{\"colorbar\":{\"outlinewidth\":0,\"ticks\":\"\"}},\"type\":\"parcoords\"}],\"pie\":[{\"automargin\":true,\"type\":\"pie\"}],\"scatter\":[{\"marker\":{\"colorbar\":{\"outlinewidth\":0,\"ticks\":\"\"}},\"type\":\"scatter\"}],\"scatter3d\":[{\"line\":{\"colorbar\":{\"outlinewidth\":0,\"ticks\":\"\"}},\"marker\":{\"colorbar\":{\"outlinewidth\":0,\"ticks\":\"\"}},\"type\":\"scatter3d\"}],\"scattercarpet\":[{\"marker\":{\"colorbar\":{\"outlinewidth\":0,\"ticks\":\"\"}},\"type\":\"scattercarpet\"}],\"scattergeo\":[{\"marker\":{\"colorbar\":{\"outlinewidth\":0,\"ticks\":\"\"}},\"type\":\"scattergeo\"}],\"scattergl\":[{\"marker\":{\"colorbar\":{\"outlinewidth\":0,\"ticks\":\"\"}},\"type\":\"scattergl\"}],\"scattermapbox\":[{\"marker\":{\"colorbar\":{\"outlinewidth\":0,\"ticks\":\"\"}},\"type\":\"scattermapbox\"}],\"scatterpolar\":[{\"marker\":{\"colorbar\":{\"outlinewidth\":0,\"ticks\":\"\"}},\"type\":\"scatterpolar\"}],\"scatterpolargl\":[{\"marker\":{\"colorbar\":{\"outlinewidth\":0,\"ticks\":\"\"}},\"type\":\"scatterpolargl\"}],\"scatterternary\":[{\"marker\":{\"colorbar\":{\"outlinewidth\":0,\"ticks\":\"\"}},\"type\":\"scatterternary\"}],\"surface\":[{\"colorbar\":{\"outlinewidth\":0,\"ticks\":\"\"},\"colorscale\":[[0.0,\"#0d0887\"],[0.1111111111111111,\"#46039f\"],[0.2222222222222222,\"#7201a8\"],[0.3333333333333333,\"#9c179e\"],[0.4444444444444444,\"#bd3786\"],[0.5555555555555556,\"#d8576b\"],[0.6666666666666666,\"#ed7953\"],[0.7777777777777778,\"#fb9f3a\"],[0.8888888888888888,\"#fdca26\"],[1.0,\"#f0f921\"]],\"type\":\"surface\"}],\"table\":[{\"cells\":{\"fill\":{\"color\":\"#EBF0F8\"},\"line\":{\"color\":\"white\"}},\"header\":{\"fill\":{\"color\":\"#C8D4E3\"},\"line\":{\"color\":\"white\"}},\"type\":\"table\"}]},\"layout\":{\"annotationdefaults\":{\"arrowcolor\":\"#2a3f5f\",\"arrowhead\":0,\"arrowwidth\":1},\"autotypenumbers\":\"strict\",\"coloraxis\":{\"colorbar\":{\"outlinewidth\":0,\"ticks\":\"\"}},\"colorscale\":{\"diverging\":[[0,\"#8e0152\"],[0.1,\"#c51b7d\"],[0.2,\"#de77ae\"],[0.3,\"#f1b6da\"],[0.4,\"#fde0ef\"],[0.5,\"#f7f7f7\"],[0.6,\"#e6f5d0\"],[0.7,\"#b8e186\"],[0.8,\"#7fbc41\"],[0.9,\"#4d9221\"],[1,\"#276419\"]],\"sequential\":[[0.0,\"#0d0887\"],[0.1111111111111111,\"#46039f\"],[0.2222222222222222,\"#7201a8\"],[0.3333333333333333,\"#9c179e\"],[0.4444444444444444,\"#bd3786\"],[0.5555555555555556,\"#d8576b\"],[0.6666666666666666,\"#ed7953\"],[0.7777777777777778,\"#fb9f3a\"],[0.8888888888888888,\"#fdca26\"],[1.0,\"#f0f921\"]],\"sequentialminus\":[[0.0,\"#0d0887\"],[0.1111111111111111,\"#46039f\"],[0.2222222222222222,\"#7201a8\"],[0.3333333333333333,\"#9c179e\"],[0.4444444444444444,\"#bd3786\"],[0.5555555555555556,\"#d8576b\"],[0.6666666666666666,\"#ed7953\"],[0.7777777777777778,\"#fb9f3a\"],[0.8888888888888888,\"#fdca26\"],[1.0,\"#f0f921\"]]},\"colorway\":[\"#636efa\",\"#EF553B\",\"#00cc96\",\"#ab63fa\",\"#FFA15A\",\"#19d3f3\",\"#FF6692\",\"#B6E880\",\"#FF97FF\",\"#FECB52\"],\"font\":{\"color\":\"#2a3f5f\"},\"geo\":{\"bgcolor\":\"white\",\"lakecolor\":\"white\",\"landcolor\":\"#E5ECF6\",\"showlakes\":true,\"showland\":true,\"subunitcolor\":\"white\"},\"hoverlabel\":{\"align\":\"left\"},\"hovermode\":\"closest\",\"mapbox\":{\"style\":\"light\"},\"paper_bgcolor\":\"white\",\"plot_bgcolor\":\"#E5ECF6\",\"polar\":{\"angularaxis\":{\"gridcolor\":\"white\",\"linecolor\":\"white\",\"ticks\":\"\"},\"bgcolor\":\"#E5ECF6\",\"radialaxis\":{\"gridcolor\":\"white\",\"linecolor\":\"white\",\"ticks\":\"\"}},\"scene\":{\"xaxis\":{\"backgroundcolor\":\"#E5ECF6\",\"gridcolor\":\"white\",\"gridwidth\":2,\"linecolor\":\"white\",\"showbackground\":true,\"ticks\":\"\",\"zerolinecolor\":\"white\"},\"yaxis\":{\"backgroundcolor\":\"#E5ECF6\",\"gridcolor\":\"white\",\"gridwidth\":2,\"linecolor\":\"white\",\"showbackground\":true,\"ticks\":\"\",\"zerolinecolor\":\"white\"},\"zaxis\":{\"backgroundcolor\":\"#E5ECF6\",\"gridcolor\":\"white\",\"gridwidth\":2,\"linecolor\":\"white\",\"showbackground\":true,\"ticks\":\"\",\"zerolinecolor\":\"white\"}},\"shapedefaults\":{\"line\":{\"color\":\"#2a3f5f\"}},\"ternary\":{\"aaxis\":{\"gridcolor\":\"white\",\"linecolor\":\"white\",\"ticks\":\"\"},\"baxis\":{\"gridcolor\":\"white\",\"linecolor\":\"white\",\"ticks\":\"\"},\"bgcolor\":\"#E5ECF6\",\"caxis\":{\"gridcolor\":\"white\",\"linecolor\":\"white\",\"ticks\":\"\"}},\"title\":{\"x\":0.05},\"xaxis\":{\"automargin\":true,\"gridcolor\":\"white\",\"linecolor\":\"white\",\"ticks\":\"\",\"title\":{\"standoff\":15},\"zerolinecolor\":\"white\",\"zerolinewidth\":2},\"yaxis\":{\"automargin\":true,\"gridcolor\":\"white\",\"linecolor\":\"white\",\"ticks\":\"\",\"title\":{\"standoff\":15},\"zerolinecolor\":\"white\",\"zerolinewidth\":2}}},\"coloraxis\":{\"colorbar\":{\"title\":{\"text\":\"SEX\"}},\"colorscale\":[[0.0,\"#0d0887\"],[0.1111111111111111,\"#46039f\"],[0.2222222222222222,\"#7201a8\"],[0.3333333333333333,\"#9c179e\"],[0.4444444444444444,\"#bd3786\"],[0.5555555555555556,\"#d8576b\"],[0.6666666666666666,\"#ed7953\"],[0.7777777777777778,\"#fb9f3a\"],[0.8888888888888888,\"#fdca26\"],[1.0,\"#f0f921\"]]},\"legend\":{\"tracegroupgap\":0},\"title\":{\"text\":\"scatter matrix plot of age, bmi ld_lipo, triglycerides,and glucose for males(yellow) and females(blue)\"},\"dragmode\":\"select\"},                        {\"responsive\": true}                    ).then(function(){\n",
       "                            \n",
       "var gd = document.getElementById('f02be39a-0292-4229-835e-68dcefc6bcc2');\n",
       "var x = new MutationObserver(function (mutations, observer) {{\n",
       "        var display = window.getComputedStyle(gd).display;\n",
       "        if (!display || display === 'none') {{\n",
       "            console.log([gd, 'removed!']);\n",
       "            Plotly.purge(gd);\n",
       "            observer.disconnect();\n",
       "        }}\n",
       "}});\n",
       "\n",
       "// Listen for the removal of the full notebook cells\n",
       "var notebookContainer = gd.closest('#notebook-container');\n",
       "if (notebookContainer) {{\n",
       "    x.observe(notebookContainer, {childList: true});\n",
       "}}\n",
       "\n",
       "// Listen for the clearing of the current output cell\n",
       "var outputEl = gd.closest('.output');\n",
       "if (outputEl) {{\n",
       "    x.observe(outputEl, {childList: true});\n",
       "}}\n",
       "\n",
       "                        })                };                });            </script>        </div>"
      ]
     },
     "metadata": {},
     "output_type": "display_data"
    }
   ],
   "source": [
    "## Put your code here\n",
    "fig4 = px.scatter_matrix(SAS_df, dimensions=[\"AGE\", \"BMI\", \"LD_lipo\", \"triglycerides\",\"Glucose\"],color='SEX',title=\"scatter matrix plot of age, bmi ld_lipo, triglycerides,and glucose for males(yellow) and females(blue)\")\n",
    "fig4.show()"
   ]
  },
  {
   "cell_type": "markdown",
   "metadata": {},
   "source": [
    "---\n",
    "### &#128721; STOP (1 PT)\n",
    "**Pause to commit your changes to your Git repository!**\n",
    "\n",
    "Take a moment to save your notebook, commit the changes to your Git repository using the commit message \"**Committing Part 3**\", and push the changes to GitHub.\n"
   ]
  },
  {
   "cell_type": "markdown",
   "metadata": {
    "pycharm": {
     "name": "#%% md\n"
    }
   },
   "source": [
    "---\n",
    "## Part 4: Writing and using Python classes (35 points)"
   ]
  },
  {
   "cell_type": "markdown",
   "metadata": {},
   "source": [
    "For this question, you are asked to create two classes: customer and account.\n",
    "\n",
    "### First, download the list of customers (3 pt).\n",
    "\n",
    "&#9989; **(1 pt):** Download the csv file from\n",
    "`https://raw.githubusercontent.com/huichiayu/cmse_202_802/main/data/list_customer.csv`\n",
    "\n",
    "&#9989; **(2 pt):** Use pandas to import the data. This table contains the names of customers, account numbers, account owner's email addresses, and amount of money (in USD) in the account."
   ]
  },
  {
   "cell_type": "code",
   "execution_count": null,
   "metadata": {},
   "outputs": [],
   "source": [
    "# put you code here\n"
   ]
  },
  {
   "cell_type": "code",
   "execution_count": null,
   "metadata": {},
   "outputs": [],
   "source": [
    "# Fill in the question mark portion.\n",
    "import pandas as pd\n",
    "\n",
    "customers = ??\n",
    "customers"
   ]
  },
  {
   "cell_type": "markdown",
   "metadata": {},
   "source": [
    "### Build the account class\n",
    "&#9989; **(8 pt):** The account class will contain 3 attributes (number, owner, total_amount), and a total of 6 methods. Make sure to read the DocString and complete the code where stated."
   ]
  },
  {
   "cell_type": "code",
   "execution_count": null,
   "metadata": {},
   "outputs": [],
   "source": [
    "# Please fill in the parts with question marks and where it states \"Put code here\"\n",
    "\n",
    "class account():\n",
    "    \n",
    "    def __init__(self, number, owner, initial_amount = 0.0):\n",
    "        \"\"\"Initialize the attributes of the class.\n",
    "        \n",
    "        Parameters\n",
    "        ----------\n",
    "        number : string \n",
    "            Account number.\n",
    "        \n",
    "        owner : string\n",
    "            Account owner's name \n",
    "        \n",
    "        initial_amount: float\n",
    "            Initial amount of money in the account.\n",
    "        \n",
    "        \"\"\"\n",
    "        self.number = ??\n",
    "        self.owner = ??\n",
    "        self.total_amount = initial_amount \n",
    "        \n",
    "        \n",
    "    def get_acct_owner(self):\n",
    "        \"\"\"Returns the name of account owner.\"\"\"\n",
    "        return self.owner\n",
    "        \n",
    "        \n",
    "    def get_acct_amount(self):\n",
    "        \"\"\"Returns the amount of money in the account.\"\"\"\n",
    "        return self.total_amount     \n",
    "   \n",
    "    \n",
    "    def get_acct_number(self):\n",
    "        \"\"\"Returns the number of the account.\"\"\"\n",
    "        return self.number\n",
    "        \n",
    "\n",
    "    \n",
    "    def deposit(self, amount):\n",
    "        \"\"\"Deposit money into the account amount.\n",
    "        \n",
    "        Parameters\n",
    "        ----------\n",
    "        amount : float\n",
    "            Amount to be deposited.\n",
    "        \n",
    "        \"\"\"\n",
    "        # put your code here \n",
    "        \n",
    "        \n",
    "        \n",
    "    def withdraw(self, amount):\n",
    "        \"\"\"Remove money from the account amount.\n",
    "        \n",
    "        Parameters\n",
    "        ----------\n",
    "        amount : float\n",
    "            Amount to be withdrawn.\n",
    "        \n",
    "        Returns\n",
    "        -------\n",
    "        True if there are enough money in the account\n",
    "        \n",
    "        False if there are not enough money in the account\n",
    "        \n",
    "        \"\"\"\n",
    "        # put your code here \n",
    "\n",
    "\n",
    "    \n",
    "    def transfer_to(self, money, other_account):\n",
    "        \"\"\"Transfer money to another account if there are enough money.\n",
    "        Should check to see if there is enough funds in the account \n",
    "        before making the transfer. If there is enough funds, transfer\n",
    "        the funds and return True. If there isn't return False.\n",
    "        \n",
    "        Parameters\n",
    "        ----------\n",
    "        money : float\n",
    "            Amount of money to transfer.\n",
    "        \n",
    "        other_account : object\n",
    "            Instance of Account class where to transfer money.\n",
    "        \"\"\"\n",
    "       # put your code here \n",
    "            "
   ]
  },
  {
   "cell_type": "markdown",
   "metadata": {},
   "source": [
    "### Test your account class\n",
    "\n",
    "&#9989; Let's check whether the code works. Run the following cell and you should get the following output:\n"
   ]
  },
  {
   "cell_type": "code",
   "execution_count": null,
   "metadata": {},
   "outputs": [],
   "source": [
    "ac = account('456789','Bob',1200)\n",
    "\n",
    "print(f\"Customer {ac.get_acct_owner()} owns account {ac.get_acct_number()}, which has ${ac.get_acct_amount()}\")\n"
   ]
  },
  {
   "cell_type": "markdown",
   "metadata": {},
   "source": [
    "### Build the account class.\n",
    "\n",
    "&#9989; **(5 pt):** The customer class has 4 attributes and 4 methods. Read the DocString and complete the class.\n",
    "Make the 4 methods listed below: \n",
    "1. `get_acct` which returns the owner's account.\n",
    "1. `get_gender` which returns account owner's gender.\n",
    "1. `get_customer_name` which returns account owner's name.\n",
    "1. `get_customer_email` which returns account owner's email address."
   ]
  },
  {
   "cell_type": "code",
   "execution_count": null,
   "metadata": {},
   "outputs": [],
   "source": [
    "class customer():\n",
    "    \n",
    "    \"\"\"Customer class. It is used to keep track of customers'data\n",
    "    \n",
    "    Attributes\n",
    "    ----------\n",
    "    name: string\n",
    "        customer's name. first and last name\n",
    "\n",
    "    sex: string\n",
    "        customer's gender.\n",
    "\n",
    "    email: string\n",
    "        Email address where to reach the customer.\n",
    "    \n",
    "    acct: object\n",
    "        customer's account.\n",
    "    \"\"\"    \n",
    "    \n",
    "    \n",
    "    def __init__(self, name, sex, email, acct):\n",
    "        \"\"\" Initialize the customer with their data.\n",
    "\n",
    "        Parameters\n",
    "        ----------\n",
    "        name: string\n",
    "        customer's name. first and last name\n",
    "\n",
    "        sex: string\n",
    "        customer's gender.\n",
    "\n",
    "        email: string\n",
    "        Email address where to reach the customer.\n",
    "\n",
    "        acct: object\n",
    "        customer's account.\n",
    "        \"\"\"       \n",
    "        # Put your code here\n"
   ]
  },
  {
   "cell_type": "markdown",
   "metadata": {},
   "source": [
    "### Test your customer class\n",
    "\n",
    "&#9989; Let's check whether the code works. Run the following cell and you should get the following output\n"
   ]
  },
  {
   "cell_type": "code",
   "execution_count": null,
   "metadata": {},
   "outputs": [],
   "source": [
    "Bob = customer('Bob','M','bob@msu.edu', ac)\n",
    "\n",
    "print(f\"Customer {Bob.get_customer_name()} can be reached at {Bob.get_customer_email()}\")\n",
    "print(f\"Customer {Bob.get_customer_name()} owns account {Bob.get_acct().get_acct_number()}\")"
   ]
  },
  {
   "cell_type": "markdown",
   "metadata": {},
   "source": [
    "### Instantiate classes from the customer table.\n",
    "\n",
    "&#9989; **(6 pt):** Use for-loop to instantiate the accounts in the customer table, and assign the respective attributes from the data frame. Also, instantiate customer classes, and append those customer classes to the `cus_list` list."
   ]
  },
  {
   "cell_type": "code",
   "execution_count": null,
   "metadata": {},
   "outputs": [],
   "source": [
    "cust_obj_list = []\n",
    "\n",
    "# put your code here\n",
    "\n",
    "for i in range(??):\n",
    "    ac_data = ????.astype(object)\n",
    "    accnt_obj = account(?????)\n",
    "    customer_obj = customer(?????)\n",
    "    cust_obj_list.append(??)\n"
   ]
  },
  {
   "cell_type": "markdown",
   "metadata": {},
   "source": [
    "### Import the transaction table\n",
    "\n",
    "&#9989; **(1 pt)** Download the csv file from \n",
    "`https://raw.githubusercontent.com/huichiayu/cmse_202_802/main/data/transactions.csv`\n"
   ]
  },
  {
   "cell_type": "code",
   "execution_count": null,
   "metadata": {},
   "outputs": [],
   "source": [
    "# put your code here\n"
   ]
  },
  {
   "cell_type": "markdown",
   "metadata": {},
   "source": [
    "&#9989; Use pandas to read in the transation logs."
   ]
  },
  {
   "cell_type": "code",
   "execution_count": null,
   "metadata": {},
   "outputs": [],
   "source": [
    "# put your code here\n",
    "\n",
    "transac = ??\n",
    "\n",
    "transac"
   ]
  },
  {
   "cell_type": "markdown",
   "metadata": {},
   "source": [
    "### Perform transactions. \n",
    "\n",
    "&#9989; **(8 pt)** Now, you have account classes, customer classes, and a transaction log. Write a program that uses a for-loop to perform the transactions on the table between customers. \n",
    "###  Hint\n",
    "Here we first create a dictionary to map customer name and index in the pandas data frame."
   ]
  },
  {
   "cell_type": "code",
   "execution_count": null,
   "metadata": {},
   "outputs": [],
   "source": [
    "# create a dictionary for names and indices\n",
    "## Put your code here"
   ]
  },
  {
   "cell_type": "markdown",
   "metadata": {},
   "source": [
    "1. Then, you can use customer as key and index as value to call the classes and perform transactions in the for loop. \n",
    "1. If you do not want to use the dictionary above, please feel free to use you own idea. \n",
    "\n",
    "1. In the loop, you can call the customer class, then find the account, and then perform deposit, withdraw, or transfer.\n",
    "\n",
    "\n",
    "**If you cannot complete this cell in time, move on to the next one.**"
   ]
  },
  {
   "cell_type": "code",
   "execution_count": null,
   "metadata": {},
   "outputs": [],
   "source": [
    "for i in range(len(transac['Customer'])):\n",
    "    \n",
    "    # put you code here\n",
    "    \n",
    "    ind = ????\n",
    "    ac = ????\n",
    "    \n",
    "    trans_type = ????\n",
    "    amt = ?????\n",
    "    \n",
    "\n",
    "    if trans_type == 'withdraw':\n",
    "        ????\n",
    "        \n",
    "    if trans_type == 'deposit':\n",
    "        ?????\n",
    "        \n",
    "    \n",
    "    if trans_type == 'transfer':\n",
    "        ?????"
   ]
  },
  {
   "cell_type": "markdown",
   "metadata": {},
   "source": [
    "### Finally, let's summarize the funds in customers' accounts (4 pt)\n",
    "\n",
    "Write some code to find out whose account balance is below $\\$$300 and whose is above $\\$$15000.\n",
    "\n",
    "If account balance is below  $\\$$300,\n",
    "\n",
    "For female customers, print `customer email address`: Ms. `customer name`, your account balance is $`account amount`, which is below $300.  \n",
    "\n",
    "For male customers, print `customer email address`: Mr. `customer name`, your account balance is $`account amount`, which is below $300. \n",
    "\n",
    "\n",
    "If account balance is above $\\$$15000,\n",
    "\n",
    "For female customers, for female customers, print `customer email address`: Ms. `customer name`, your account balance is $`account amount`. Would you like to join our investiment plan.\n",
    "\n",
    "For female customers, for male customers, print `customer email address`: Mr. `customer name`, your account balance is $`account amount`. Would you like to join our investiment plan.\n",
    "\n",
    "\n",
    "Here is an example printout.  \n",
    "\n",
    "Here is an example printout. \n",
    "\n",
    "\n",
    "<img src=\"https://raw.githubusercontent.com/huichiayu/cmse_202_802/main/IMGs/example_printouts_1.png\" border=\"0\" align=\"center\" width=\"800\">\n",
    "\n",
    "**If you could not get the cell above is to work, then we will grade this cell based on the code correctness.**"
   ]
  },
  {
   "cell_type": "code",
   "execution_count": null,
   "metadata": {},
   "outputs": [],
   "source": [
    "for i in range(len(cus_list)):\n",
    "    acc_balc = ???\n",
    "    \n",
    "    if acc_balc < 300:\n",
    "        gd = ????\n",
    "        if gd == 'M':\n",
    "            print(f\"{cus_list[i].????)}: Mr. {cus_list[i].?????}, \\\n",
    "your account balance is ${cus_list[i].?????}, which is lower than $300.\" )\n",
    "        if gd == \"F\":\n",
    "            print(f\"{cus_list[i].??????}: Ms. {cus_list[i].??????}, \\\n",
    "your account balance is ${cus_list[i].????}, which is lower than $300.\" )\n",
    "        \n",
    "    if acc_balc > 10000:\n",
    "        gd = ????\n",
    "        if gd == 'M':\n",
    "            print(f\"{cus_list[i].????}: Mr. {cus_list[i].????}, \\\n",
    "your account balance is ${cus_list[i].??????}. Would you like to join our investment plan.\" )\n",
    "        if gd == \"F\":\n",
    "            print(f\"{cus_list[i].?????}: Ms. {cus_list[i].?????}, \\\n",
    "your account balance is ${cus_list[i].????}. Would you like to join our investment plan.\" )"
   ]
  },
  {
   "cell_type": "markdown",
   "metadata": {
    "pycharm": {
     "name": "#%% md\n"
    }
   },
   "source": [
    "---\n",
    "### &#128721; STOP (1 PT)\n",
    "**Pause to commit your changes to your Git repository!**\n",
    "\n",
    "Take a moment to save your notebook, commit the changes to your Git repository using the commit message \"**Committing Part 4**\", and push the changes to GitHub.\n"
   ]
  },
  {
   "cell_type": "markdown",
   "metadata": {
    "pycharm": {
     "name": "#%% md\n"
    }
   },
   "source": [
    "## You're done! Congrats on finishing your CMSE 202 Midterm!\n",
    "\n",
    "Make sure all of your changes to your repository are committed and pushed to GitHub. Also upload a copy of this notebook to the dropbox on D2L in case something went wrong with your repository or if you couldn't get the repository to work."
   ]
  }
 ],
 "metadata": {
  "kernelspec": {
   "display_name": "Python 3 (ipykernel)",
   "language": "python",
   "name": "python3"
  },
  "language_info": {
   "codemirror_mode": {
    "name": "ipython",
    "version": 3
   },
   "file_extension": ".py",
   "mimetype": "text/x-python",
   "name": "python",
   "nbconvert_exporter": "python",
   "pygments_lexer": "ipython3",
   "version": "3.9.12"
  }
 },
 "nbformat": 4,
 "nbformat_minor": 4
}
